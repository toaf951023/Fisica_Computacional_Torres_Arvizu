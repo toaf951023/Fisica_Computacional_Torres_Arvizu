{
 "cells": [
  {
   "cell_type": "markdown",
   "metadata": {},
   "source": [
    "## Francisco Ricardo Torres Arvizu"
   ]
  },
  {
   "cell_type": "markdown",
   "metadata": {},
   "source": [
    "## Ejercicio 1"
   ]
  },
  {
   "cell_type": "markdown",
   "metadata": {},
   "source": [
    "Se utilizan las funciones que se programaron en la clase pasada "
   ]
  },
  {
   "cell_type": "code",
   "execution_count": 2,
   "metadata": {},
   "outputs": [
    {
     "data": {
      "text/plain": [
       "indice (generic function with 1 method)"
      ]
     },
     "execution_count": 2,
     "metadata": {},
     "output_type": "execute_result"
    }
   ],
   "source": [
    "function indice(A,i,j)\n",
    "  if j>size(A,2) || i>size(A,2)\n",
    "     println(\"incongruencia\"\n",
    "        )\n",
    "        else \n",
    "       \n",
    "        k=size(A,2)*(i-1)+j\n",
    "        end \n",
    "     return k\n",
    "end "
   ]
  },
  {
   "cell_type": "code",
   "execution_count": 3,
   "metadata": {},
   "outputs": [
    {
     "data": {
      "text/plain": [
       "index_1 (generic function with 1 method)"
      ]
     },
     "execution_count": 3,
     "metadata": {},
     "output_type": "execute_result"
    }
   ],
   "source": [
    "function index_1(A,k)\n",
    "    ij=[]\n",
    "    if k > length(A)\n",
    "  println(\"incongruencia\"\n",
    "        )\n",
    "        else \n",
    "        \n",
    "         for i in 1:size(A,1)\n",
    "        ii=i\n",
    "        for j in 1:size(A,2)\n",
    "    g=size(A,2)*(ii-1)+j\n",
    "            if g==k\n",
    "                push!(ij,ii)\n",
    "                push!(ij,j)\n",
    "               \n",
    "            end\n",
    "            \n",
    "        end\n",
    "    end\n",
    "    end\n",
    "    return ij  \n",
    "end"
   ]
  },
  {
   "cell_type": "code",
   "execution_count": 4,
   "metadata": {},
   "outputs": [
    {
     "data": {
      "text/plain": [
       "5-element Array{Float64,1}:\n",
       "   0.0   \n",
       "  70.7107\n",
       " 100.0   \n",
       "  70.7107\n",
       "   0.0   "
      ]
     },
     "execution_count": 4,
     "metadata": {},
     "output_type": "execute_result"
    }
   ],
   "source": [
    "d1= [0, 70.7107, 100., 70.7107, 0]"
   ]
  },
  {
   "cell_type": "markdown",
   "metadata": {},
   "source": [
    "Se genera una Matriz con las condiciones de frontera "
   ]
  },
  {
   "cell_type": "code",
   "execution_count": 5,
   "metadata": {},
   "outputs": [
    {
     "data": {
      "text/plain": [
       "frontera (generic function with 1 method)"
      ]
     },
     "execution_count": 5,
     "metadata": {},
     "output_type": "execute_result"
    }
   ],
   "source": [
    "function frontera(der,izq,sup,inf)\n",
    "    m=length(inf)\n",
    "    n=length(der)\n",
    "    A=zeros(length(der),length(inf))\n",
    "    for i in 2:length(der)-1\n",
    "    A[i,m]=der[i]\n",
    "\n",
    "    end  \n",
    "    for j in 2:length(izq)-1\n",
    "    A[j,1]=izq[j]\n",
    "       \n",
    "    end\n",
    "    for k in 1:length(inf)\n",
    "        A[n,k]=inf[k]\n",
    "    end\n",
    "    for l in 1:length(sup)\n",
    "        A[1,l]=sup[l]\n",
    "    end\n",
    "    return A\n",
    "end"
   ]
  },
  {
   "cell_type": "code",
   "execution_count": 6,
   "metadata": {},
   "outputs": [
    {
     "data": {
      "text/plain": [
       "5×7 Array{Float64,2}:\n",
       " 0.0  0.0  0.0  0.0  0.0  0.0    0.0   \n",
       " 0.0  0.0  0.0  0.0  0.0  0.0   70.7107\n",
       " 0.0  0.0  0.0  0.0  0.0  0.0  100.0   \n",
       " 0.0  0.0  0.0  0.0  0.0  0.0   70.7107\n",
       " 0.0  0.0  0.0  0.0  0.0  0.0    0.0   "
      ]
     },
     "execution_count": 6,
     "metadata": {},
     "output_type": "execute_result"
    }
   ],
   "source": [
    "frontera(d1,zeros(1,5),zeros(1,7),zeros(1,7))"
   ]
  },
  {
   "cell_type": "markdown",
   "metadata": {},
   "source": [
    "Se programa una funcion que nos haga el $\\vec{b}$"
   ]
  },
  {
   "cell_type": "code",
   "execution_count": 7,
   "metadata": {},
   "outputs": [
    {
     "data": {
      "text/plain": [
       "construyeb (generic function with 1 method)"
      ]
     },
     "execution_count": 7,
     "metadata": {},
     "output_type": "execute_result"
    }
   ],
   "source": [
    "function construyeb(A)\n",
    "    n=size(A,1)\n",
    "    m=size(A,2)\n",
    "    D=zeros(n-2,m-2)\n",
    "    b=zeros((n-2)*(m-2))\n",
    "    for i in 2:(size(A,1)-1)\n",
    "        ii=i\n",
    "        for j in 2:(size(A,2)-1)\n",
    "            jj=j\n",
    "           if  ii-1==1 && jj-1==1 #aristasuperiorizquierda\n",
    "                    m1=indice(D,1,1)\n",
    "                    b[m1]=A[2,1]+A[1,2]\n",
    "           elseif ii+1==n && jj-1==1 #aristainferiorizquierda\n",
    "                     m1=indice(D,n-2,1)\n",
    "                b[m1]=A[n-1,1]+A[n,2]\n",
    "\n",
    "            elseif ii-1==1 && jj+1==m #arista superior derecha\n",
    "                    m1=indice(D,1,m-2)\n",
    "                    b[m1]=A[2,m]+A[1,m-1]\n",
    "                 \n",
    "            elseif  ii+1==n && jj+1==m #arista inferior derecha\n",
    "                m1=indice(D,n-2,m-2)\n",
    "                  b[m1]=A[n-1,m]+A[n,m-1]\n",
    "                \n",
    "            elseif jj-1==1 && ii-1!=1 && ii+1!=n#ladoizquierdo\n",
    "                m1=indice(D,ii-1,1)\n",
    "                b[m1]=A[ii,1]  \n",
    "                \n",
    "            elseif jj+1==m && ii-1!=1 && ii+1!=n#lado derecho\n",
    "                     m1=indice(D,ii-1,m-2)\n",
    "                b[m1]=A[ii,m]\n",
    "                 \n",
    "            elseif  ii-1==1 && jj+1<m && jj-1>1 #lado superior\n",
    "                m1=indice(D,1,jj-1)\n",
    "                 b[m1]=A[1,jj]\n",
    "              \n",
    "            elseif ii+1==n && jj+1!=m && jj-1!=1   #lado inferior\n",
    "               m1=indice(D,n-2,jj-1)\n",
    "                b[m1]=A[n,jj]\n",
    "        end\n",
    "           \n",
    "        end\n",
    "    end\n",
    "    return b\n",
    "end"
   ]
  },
  {
   "cell_type": "markdown",
   "metadata": {},
   "source": [
    "## Vector $\\vec{b}$"
   ]
  },
  {
   "cell_type": "code",
   "execution_count": 8,
   "metadata": {},
   "outputs": [
    {
     "data": {
      "text/plain": [
       "15-element Array{Float64,1}:\n",
       "   0.0   \n",
       "   0.0   \n",
       "   0.0   \n",
       "   0.0   \n",
       "  70.7107\n",
       "   0.0   \n",
       "   0.0   \n",
       "   0.0   \n",
       "   0.0   \n",
       " 100.0   \n",
       "   0.0   \n",
       "   0.0   \n",
       "   0.0   \n",
       "   0.0   \n",
       "  70.7107"
      ]
     },
     "execution_count": 8,
     "metadata": {},
     "output_type": "execute_result"
    }
   ],
   "source": [
    "construyeb(frontera(d1,zeros(1,5),zeros(1,7),zeros(1,7)))"
   ]
  },
  {
   "cell_type": "markdown",
   "metadata": {},
   "source": [
    "Se programa una funciòn que nos haga la matri, este solo require las dimensiones de ésta."
   ]
  },
  {
   "cell_type": "code",
   "execution_count": 9,
   "metadata": {},
   "outputs": [
    {
     "data": {
      "text/plain": [
       "crearmatriz (generic function with 1 method)"
      ]
     },
     "execution_count": 9,
     "metadata": {},
     "output_type": "execute_result"
    }
   ],
   "source": [
    "function crearmatriz(n,m)\n",
    "   \n",
    "    p=n*m\n",
    "    D=zeros(n,m)\n",
    "    D1=zeros(p,p)\n",
    "    \n",
    "  for i in 1:n\n",
    "        ii=i\n",
    "        for j in 1:m\n",
    "            jj=j\n",
    "         if jj+1<=m && ii+1<=n && ii-1!=0 && jj-1!=0 ## puntos del interior\n",
    "                 m1=indice(D,ii,jj)\n",
    "                 mj=indice(D,ii,jj+1)\n",
    "                mi=indice(D,ii+1,jj)\n",
    "                m_i=indice(D,ii-1,jj)\n",
    "                m_j=indice(D,ii,jj-1)\n",
    "                \n",
    "                  D1[m1,m1]=-4\n",
    "                  D1[m1,m_i]=1\n",
    "                  D1[m1,mi]=1\n",
    "                  D1[m1,m_j]=1\n",
    "                  D1[m1,mj]=1\n",
    "        \n",
    "            elseif jj+1<=m && ii+1<=n && ii-1==0 && jj-1==0 #aristasuperiorizquierda\n",
    "                    m1=indice(D,ii,jj)\n",
    "                    mj=indice(D,ii,jj+1)\n",
    "                   mi=indice(D,ii+1,jj)\n",
    "                    D1[m1,mi]=1\n",
    "                    D1[m1,m1]=-4\n",
    "                    D1[m1,mj]=1\n",
    "        \n",
    "           elseif jj+1<=m && ii+1>n && ii-1!=0 && jj-1==0 #aristainferiorizquierda\n",
    "            \n",
    "                     m1=indice(D,ii,jj)\n",
    "                    mj=indice(D,ii,jj+1)\n",
    "                    m_i=indice(D,ii-1,jj)\n",
    "                     D1[m1,m1]=-4\n",
    "                     D1[m1,mj]=1\n",
    "                     D1[m1,m_i]=1\n",
    "                \n",
    "            elseif jj+1>m && ii+1<=n && ii-1==0 && jj-1!=0 #arista superior derecha\n",
    "                    m1=indice(D,ii,jj)\n",
    "                    m_j=indice(D,ii,jj-1)\n",
    "                    mi=indice(D,ii+1,jj)\n",
    "                    D1[m1,m1]=-4\n",
    "                    D1[m1,m_j]=1\n",
    "                    D1[m1,mi]=1\n",
    "                \n",
    "            elseif  jj+1>m && ii+1>n && ii-1!=0 && jj-1!=0 #arista inferior derecha\n",
    "                m1=indice(D,ii,jj)\n",
    "                m_i=indice(D,ii-1,jj)\n",
    "                m_j=indice(D,ii,jj-1)\n",
    "                \n",
    "                  D1[m1,m1]=-4\n",
    "                  D1[m1,m_i]=1\n",
    "                  D1[m1,m_j]=1                \n",
    "\n",
    "                \n",
    "            elseif jj+1<=m && ii+1<=n && ii-1!=0 && jj-1==0 #ladoizquierdo\n",
    "                     m1=indice(D,ii,jj)\n",
    "                 mj=indice(D,ii,jj+1)\n",
    "                mi=indice(D,ii+1,jj)\n",
    "                m_i=indice(D,ii-1,jj)\n",
    "                  D1[m1,m1]=-4\n",
    "                  D1[m1,m_i]=1\n",
    "                  D1[m1,mi]=1\n",
    "                  D1[m1,mj]=1\n",
    "                \n",
    "            elseif jj+1>m && ii+1<=n && ii-1!=0 && jj-1!=0 #lado derecho\n",
    "                     m1=indice(D,ii,jj)\n",
    "                mi=indice(D,ii+1,jj)\n",
    "                m_i=indice(D,ii-1,jj)\n",
    "                m_j=indice(D,ii,jj-1)\n",
    "                  D1[m1,m1]=-4\n",
    "                  D1[m1,m_i]=1\n",
    "                  D1[m1,mi]=1\n",
    "                  D1[m1,m_j]=1\n",
    "                \n",
    "            elseif jj+1<=m && ii+1<=n && ii-1==0 && jj-1!=0 #lado superior\n",
    "                     m1=indice(D,ii,jj)\n",
    "                 mj=indice(D,ii,jj+1)\n",
    "                mi=indice(D,ii+1,jj)\n",
    "                m_j=indice(D,ii,jj-1)\n",
    "                \n",
    "                  D1[m1,m1]=-4\n",
    "                  D1[m1,mi]=1\n",
    "                  D1[m1,m_j]=1\n",
    "                  D1[m1,mj]=1\n",
    "                        \n",
    "            elseif jj+1<=m && ii+1>n && ii-1!=0 && jj-1!=0    #lado inferior\n",
    "               m1=indice(D,ii,jj)\n",
    "                 mj=indice(D,ii,jj+1)\n",
    "                m_i=indice(D,ii-1,jj)\n",
    "                m_j=indice(D,ii,jj-1)\n",
    "                \n",
    "                  D1[m1,m1]=-4\n",
    "                  D1[m1,m_i]=1\n",
    "                  D1[m1,m_j]=1\n",
    "                  D1[m1,mj]=1\n",
    "        end\n",
    "     end\n",
    "  end\n",
    "                \n",
    "    return D1\n",
    "end"
   ]
  },
  {
   "cell_type": "markdown",
   "metadata": {},
   "source": [
    "## Matriz "
   ]
  },
  {
   "cell_type": "code",
   "execution_count": 10,
   "metadata": {},
   "outputs": [
    {
     "data": {
      "text/plain": [
       "15×15 Array{Float64,2}:\n",
       " -4.0   1.0   0.0   0.0   0.0   1.0  …   0.0   0.0   0.0   0.0   0.0   0.0\n",
       "  1.0  -4.0   1.0   0.0   0.0   0.0      0.0   0.0   0.0   0.0   0.0   0.0\n",
       "  0.0   1.0  -4.0   1.0   0.0   0.0      0.0   0.0   0.0   0.0   0.0   0.0\n",
       "  0.0   0.0   1.0  -4.0   1.0   0.0      0.0   0.0   0.0   0.0   0.0   0.0\n",
       "  0.0   0.0   0.0   1.0  -4.0   0.0      1.0   0.0   0.0   0.0   0.0   0.0\n",
       "  1.0   0.0   0.0   0.0   0.0  -4.0  …   0.0   1.0   0.0   0.0   0.0   0.0\n",
       "  0.0   1.0   0.0   0.0   0.0   1.0      0.0   0.0   1.0   0.0   0.0   0.0\n",
       "  0.0   0.0   1.0   0.0   0.0   0.0      0.0   0.0   0.0   1.0   0.0   0.0\n",
       "  0.0   0.0   0.0   1.0   0.0   0.0      1.0   0.0   0.0   0.0   1.0   0.0\n",
       "  0.0   0.0   0.0   0.0   1.0   0.0     -4.0   0.0   0.0   0.0   0.0   1.0\n",
       "  0.0   0.0   0.0   0.0   0.0   1.0  …   0.0  -4.0   1.0   0.0   0.0   0.0\n",
       "  0.0   0.0   0.0   0.0   0.0   0.0      0.0   1.0  -4.0   1.0   0.0   0.0\n",
       "  0.0   0.0   0.0   0.0   0.0   0.0      0.0   0.0   1.0  -4.0   1.0   0.0\n",
       "  0.0   0.0   0.0   0.0   0.0   0.0      0.0   0.0   0.0   1.0  -4.0   1.0\n",
       "  0.0   0.0   0.0   0.0   0.0   0.0      1.0   0.0   0.0   0.0   1.0  -4.0"
      ]
     },
     "execution_count": 10,
     "metadata": {},
     "output_type": "execute_result"
    }
   ],
   "source": [
    "crearmatriz(3,5)"
   ]
  },
  {
   "cell_type": "markdown",
   "metadata": {},
   "source": [
    "Función que mapea las entradas de un arreglo a una matriz"
   ]
  },
  {
   "cell_type": "code",
   "execution_count": 12,
   "metadata": {},
   "outputs": [
    {
     "data": {
      "text/plain": [
       "mapmatrz (generic function with 1 method)"
      ]
     },
     "execution_count": 12,
     "metadata": {},
     "output_type": "execute_result"
    }
   ],
   "source": [
    "function mapmatrz(a,n,m)\n",
    "    G=zeros(n,m)\n",
    "    for i in 1:length(a)\n",
    "        k=index_1(G,i)[1]\n",
    "        l=index_1(G,i)[2]\n",
    "        h=a[i]\n",
    "        G[k,l]=h\n",
    "        \n",
    "    end\n",
    "    return G\n",
    "end"
   ]
  },
  {
   "cell_type": "markdown",
   "metadata": {},
   "source": [
    "Matriz on los puntos interiores calculados por el mètodo de diferencias finitas."
   ]
  },
  {
   "cell_type": "code",
   "execution_count": 13,
   "metadata": {},
   "outputs": [
    {
     "data": {
      "text/plain": [
       "3×5 Array{Float64,2}:\n",
       " -1.30459  -3.37339   -7.41827  -15.8087  -33.4596\n",
       " -1.84497  -4.77069  -10.491    -22.3568  -47.319 \n",
       " -1.30459  -3.37339   -7.41827  -15.8087  -33.4596"
      ]
     },
     "execution_count": 13,
     "metadata": {},
     "output_type": "execute_result"
    }
   ],
   "source": [
    "mapmatrz((crearmatriz(3,5)^-1)*(construyeb(frontera(d1,zeros(1,5),zeros(1,7),zeros(1,7)))),3,5)"
   ]
  },
  {
   "cell_type": "markdown",
   "metadata": {},
   "source": [
    "## Gráfica"
   ]
  },
  {
   "cell_type": "code",
   "execution_count": 14,
   "metadata": {},
   "outputs": [],
   "source": [
    "using PyPlot"
   ]
  },
  {
   "cell_type": "code",
   "execution_count": 18,
   "metadata": {
    "scrolled": true
   },
   "outputs": [
    {
     "data": {
      "image/png": "[encoded data removed]",
      "text/plain": [
       "PyPlot.Figure(PyObject <matplotlib.figure.Figure object at 0x7f5f20356f90>)"
      ]
     },
     "metadata": {},
     "output_type": "display_data"
    },
    {
     "data": {
      "text/plain": [
       "PyObject <matplotlib.collections.QuadMesh object at 0x7f5f202fb8d0>"
      ]
     },
     "execution_count": 18,
     "metadata": {},
     "output_type": "execute_result"
    }
   ],
   "source": [
    "pcolormesh(mapmatrz(-1*(crearmatriz(3,5)^-1)*(construyeb(frontera(d1,zeros(1,5),zeros(1,7),zeros(1,7)))),3,5))"
   ]
  },
  {
   "cell_type": "code",
   "execution_count": null,
   "metadata": {},
   "outputs": [],
   "source": []
  }
 ],
 "metadata": {
  "kernelspec": {
   "display_name": "Julia 0.6.0",
   "language": "julia",
   "name": "julia-0.6"
  },
  "language_info": {
   "file_extension": ".jl",
   "mimetype": "application/julia",
   "name": "julia",
   "version": "0.6.0"
  }
 },
 "nbformat": 4,
 "nbformat_minor": 2
}
