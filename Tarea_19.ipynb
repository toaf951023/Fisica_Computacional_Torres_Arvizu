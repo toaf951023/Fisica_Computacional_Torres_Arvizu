{
 "cells": [
  {
   "cell_type": "markdown",
   "metadata": {},
   "source": [
    "# Tarea_19\n",
    "## Francisco Ricardo torres Arvizu"
   ]
  },
  {
   "cell_type": "markdown",
   "metadata": {},
   "source": [
    "## Formación del sistema de ecuaciones\n",
    "\n",
    "__Problema de Dirichlet:__ Un problema de Dirichlet consiste en encontrar la solución de una ecuación diferencial parcial donde las condiciones a la frontera estan definidas por el valor del campo.\n",
    "\n",
    "__Ejercicio1__: Escriba la forma del operador laplaciano utilizando diferencias finitas simétricas. Es decir, discretice: $\\nabla^2=\\frac{\\partial^2 f}{\\partial x^2}+\\frac{\\partial^2 f}{\\partial y^2}+\\frac{\\partial^2 f}{\\partial z^2}$\n",
    "\n",
    "__Ejercicio 2 (condiciones a la frontera de Dirichlet)__. Discretice la ecuación \n",
    "$$ \\frac{d^2f}{dx^2}, $$\n",
    "en el intervalo $[0,1]$, y aplicando el operador laplaciano discretizado obtenga el sistema de ecuaciones algebraicas lineales correspondientes al problema de _Dirichlet_:\n",
    "$f(0) = a$ y $f(1) = b$ dividiendo el intervalo $[0,1]$ en $5$ puntos separados por $h$.\n",
    "\n",
    "* Escriba el sistema lineal de ecuaciones que surge, usando $\\LaTeX$ en el _notebook_ de la tarea que sigue.\n",
    "\n",
    "__Ejercicio 3 (condiciones a la frontera de Neumann)__. Hacer lo mismo para condiciones de _Neumann_, es decir, fijando en los extremos el valor de la primera derivada de la función. Para esto utilice la derivada _hacia adeltante_ en las orillas, es decir, si $f'(0)=a$ y $f'(1)=b$, entonces $(f_1-f_0)/h=a$, etc. No olvide que debe resultar un sistema de ecuación cuya dimensión sea el número de incognitas.\n",
    "\n",
    "* Escriba el sistema lineal de ecuaciones que surge, usando $\\LaTeX$ en el _notebook_ de la tarea que sigue.\n",
    "\n",
    "__Ejercicio 4 (indexación)__. `Julia` es más eficiente\n",
    "si se utiliza un único índice para acceder a los elementos\n",
    "de una matriz, además que puede simplificar algunos problemas. Escribe una función $\\phi$ que traduzca un par de\n",
    "índices $i,j$ a un único índice $k$, es decir:\n",
    "$$\\phi: (i,j) \\mapsto k.$$\n",
    "También encuentren $\\phi^{-1}$. Note que $\\phi$ deberá depender de las dimensiones del arreglo, por lo menos de una de ellas."
   ]
  },
  {
   "cell_type": "markdown",
   "metadata": {},
   "source": [
    "## Ejercicio 1"
   ]
  },
  {
   "cell_type": "markdown",
   "metadata": {},
   "source": [
    "Partiendo de  la definición de diferencia finita y de derivada parcial.\n",
    "\n",
    "$$ \\Delta_{h} f=\\frac{ f(x+h)-f(x-h)}{2h}$$\n",
    "$$\\frac{\\partial f}{\\partial x_{i}}=\\lim_{h \\to 0}\\frac{ f(x_{1},..., x_{i}+h,..,x_{n})-f(\\vec{x})}{h}$$\n",
    "combiando ambas\n",
    "$$\\frac{\\partial f}{\\partial x_{i}}=\\lim_{h \\to 0}\\frac{ f(x_{1},..., x_{i}+h,..,x_{n})-f(\\vec{x})}{h}$$\n",
    " definiendo $h'=h/2$ , calculamos la derivada segunda \n",
    "$$\\frac{d^2 f}{d x^2}\\approx \\frac{ f(x+h')+f(x-h')-2f(x)}{h'^{2}} $$\n",
    "para el caso de que sea derivada parcial\n",
    "$$\\frac{\\partial^2 f}{\\partial x_{i}^2}\\approx \\frac{ f(x_{1},..., x_{i}+h',..,x_{n})+f(x_{1},..., x_{i}-h',..,x_{n})-2f(\\vec{x})}{{h'^{2}}}$$\n",
    " entonces se tiene que $$\\nabla^{2} f(x,y,z)\\approx \\frac{f(x+h',y,z)+f(x-h',y,z)-2f(x,y,z)}{h'^{2}}+\\frac{f(x,y+h',z)+f(x,y-h',z)-2f(x,y,z)}{h'^{2}}+\\frac{f(x,y,z+h')+f(x,y,z-h')-2f(x,y,z)}{h'^{2}}$$\n",
    " agrupando\n",
    "  $$\\nabla^{2} f(x,y,z)\\approx \\frac{f(x+h',y,z)+f(x-h',y,z)+f(x,y+h',z)+f(x,y-h',z)+f(x,y,z+h')+f(x,y,z-h')-6f(x,y,z)}{h'^{2}}$$"
   ]
  },
  {
   "cell_type": "markdown",
   "metadata": {},
   "source": [
    "## Ejercicio 2"
   ]
  },
  {
   "cell_type": "markdown",
   "metadata": {},
   "source": [
    "$$\\frac{\\partial ^2 f}{\\partial x^2}\\approx \\frac{ f(x+h')+f(x-h')-2f(x)}{h'^{2}}$$, usando esta definicion para Laplace en una dimensión  se tiene que \n",
    "$$f(x+h')+f(x-h')-2f(x)=0$$,\n",
    "si fdiscretizamos se tiene que \n",
    "$$ f_{i+1}-2f_{i}+f_{i-1}=0$$, para $f(0) = a$ y $f(1) = b$\n",
    "se tien el siguiente sistema \n",
    "$$f_{2}-2f_{1}+f_{0}=0  $$\n",
    "$$f_{3}-2f_{2}+f_{1}=0 $$\n",
    "$$ f_{4}-2f_{3}+f_{2}=0$$\n",
    "usando las condiciones de frontera  $f(0) =f_{0}= a$ y $f(1) = b=f_{4}$\n",
    "$$f_{2}-2f_{1}+a=0  $$\n",
    "$$f_{3}-2f_{2}+f_{1}=0 $$\n",
    "$$ b-2f_{3}+f_{2}=0$$"
   ]
  },
  {
   "cell_type": "markdown",
   "metadata": {},
   "source": [
    "## Ejercicio 3"
   ]
  },
  {
   "cell_type": "markdown",
   "metadata": {},
   "source": [
    "Usando esta definicion para Laplace en una dimensión  se tiene que \n",
    "$$\\frac{\\partial ^2 f}{\\partial x^2}\\approx \\frac{ f(x+h')+f(x-h')-2f(x)}{h'^{2}}$$\n",
    "\n",
    "despejando se tiene\n",
    "\n",
    "$$f(x+h')+f(x-h')-2f(x)=0$$\n",
    "si fdiscretizamos se tiene que \n",
    "$$ f_{i+1}-2f_{i}+f_{i-1}=0$$, para $(f_1-f_0)/h=a=f'(0)$ y $f'(1) = b=(f_4-f_3)/h$\n",
    "se tien el siguiente sistema \n",
    "$$f_{2}-2f_{1}+f_{0}=0  $$\n",
    "$$f_{3}-2f_{2}+f_{1}=0 $$\n",
    "$$ f_{4}-2f_{3}+f_{2}=0$$\n",
    "usando las condiciones de frontera  $hb+f_3=f_4$ y $f_1-ah=f_0$\n",
    "$$f_{2}-2f_{1}+f_1-ah=0  $$\n",
    "$$f_{3}-2f_{2}+f_{1}=0 $$\n",
    "$$ hb+f_3-2f_{3}+f_{2}=0$$\n",
    "reduciendo y como $h=\\frac{\\lvert 1-0 \\rvert}{5}=0.2 $, entonces se tiene que \n",
    "$$f_{2}-f_{1}-0.2a=0  $$\n",
    "$$f_{3}-2f_{2}+f_{1}=0 $$\n",
    "$$ 0.2b-f_{3}+f_{2}=0$$\n"
   ]
  },
  {
   "cell_type": "markdown",
   "metadata": {},
   "source": [
    "## Ejercicio 4"
   ]
  },
  {
   "cell_type": "markdown",
   "metadata": {},
   "source": [
    "Se los elementos de la matrix se cuentan apartir de la primera fila y así para todas las filas, por ejemplo el elemento $(1,1)=1, (1,2)=2$"
   ]
  },
  {
   "cell_type": "code",
   "execution_count": 50,
   "metadata": {},
   "outputs": [
    {
     "data": {
      "text/plain": [
       "indice (generic function with 1 method)"
      ]
     },
     "execution_count": 50,
     "metadata": {},
     "output_type": "execute_result"
    }
   ],
   "source": [
    "function indice(A,i,j)\n",
    "  if j>size(A,2) || i>size(A,2)\n",
    "     println(\"incongruencia\"\n",
    "        )\n",
    "        else \n",
    "       \n",
    "        k=size(A,2)*(i-1)+j\n",
    "        end \n",
    "     return k\n",
    "end "
   ]
  },
  {
   "cell_type": "markdown",
   "metadata": {},
   "source": [
    "Probamos con la siguiente matriz"
   ]
  },
  {
   "cell_type": "code",
   "execution_count": 51,
   "metadata": {},
   "outputs": [
    {
     "data": {
      "text/plain": [
       "3×3 Array{Int64,2}:\n",
       " 1  3  3\n",
       " 2  3  3\n",
       " 1  2  3"
      ]
     },
     "execution_count": 51,
     "metadata": {},
     "output_type": "execute_result"
    }
   ],
   "source": [
    "A=[1  3  3 ;2 3  3; 1 2 3]"
   ]
  },
  {
   "cell_type": "code",
   "execution_count": 52,
   "metadata": {},
   "outputs": [
    {
     "name": "stdout",
     "output_type": "stream",
     "text": [
      "incongruencia\n"
     ]
    },
    {
     "ename": "LoadError",
     "evalue": "\u001b[91mUndefVarError: k not defined\u001b[39m",
     "output_type": "error",
     "traceback": [
      "\u001b[91mUndefVarError: k not defined\u001b[39m",
      "",
      "Stacktrace:",
      " [1] \u001b[1mindice\u001b[22m\u001b[22m\u001b[1m(\u001b[22m\u001b[22m::Array{Int64,2}, ::Int64, ::Int64\u001b[1m)\u001b[22m\u001b[22m at \u001b[1m./In[50]:9\u001b[22m\u001b[22m",
      " [2] \u001b[1minclude_string\u001b[22m\u001b[22m\u001b[1m(\u001b[22m\u001b[22m::String, ::String\u001b[1m)\u001b[22m\u001b[22m at \u001b[1m./loading.jl:515\u001b[22m\u001b[22m"
     ]
    }
   ],
   "source": [
    "indice(A,2,4)"
   ]
  },
  {
   "cell_type": "code",
   "execution_count": 63,
   "metadata": {},
   "outputs": [
    {
     "data": {
      "text/plain": [
       "5"
      ]
     },
     "execution_count": 63,
     "metadata": {},
     "output_type": "execute_result"
    }
   ],
   "source": [
    "indice(A,2,2)\n"
   ]
  },
  {
   "cell_type": "code",
   "execution_count": 65,
   "metadata": {},
   "outputs": [
    {
     "data": {
      "text/plain": [
       "5"
      ]
     },
     "execution_count": 65,
     "metadata": {},
     "output_type": "execute_result"
    }
   ],
   "source": [
    "indice(A,2,2)"
   ]
  },
  {
   "cell_type": "code",
   "execution_count": 66,
   "metadata": {},
   "outputs": [
    {
     "data": {
      "text/plain": [
       "9"
      ]
     },
     "execution_count": 66,
     "metadata": {},
     "output_type": "execute_result"
    }
   ],
   "source": [
    "indice(A,3,3)"
   ]
  },
  {
   "cell_type": "code",
   "execution_count": 67,
   "metadata": {},
   "outputs": [
    {
     "data": {
      "text/plain": [
       "4"
      ]
     },
     "execution_count": 67,
     "metadata": {},
     "output_type": "execute_result"
    }
   ],
   "source": [
    "indice(A,2,1)"
   ]
  },
  {
   "cell_type": "code",
   "execution_count": 59,
   "metadata": {},
   "outputs": [
    {
     "data": {
      "text/plain": [
       "index_1 (generic function with 1 method)"
      ]
     },
     "execution_count": 59,
     "metadata": {},
     "output_type": "execute_result"
    }
   ],
   "source": [
    "function index_1(A,k)\n",
    "    ij=[]\n",
    "    if k > length(A)\n",
    "  println(\"incongruencia\"\n",
    "        )\n",
    "        else \n",
    "        \n",
    "         for i in 1:size(A,1)\n",
    "        ii=i\n",
    "        for j in 1:size(A,2)\n",
    "    g=size(A,2)*(ii-1)+j\n",
    "            if g==k\n",
    "                push!(ij,ii)\n",
    "                push!(ij,j)\n",
    "               \n",
    "            end\n",
    "            \n",
    "        end\n",
    "    end\n",
    "    end\n",
    "    return ij  \n",
    "end"
   ]
  },
  {
   "cell_type": "code",
   "execution_count": 60,
   "metadata": {},
   "outputs": [
    {
     "name": "stdout",
     "output_type": "stream",
     "text": [
      "incongruencia\n"
     ]
    },
    {
     "data": {
      "text/plain": [
       "0-element Array{Any,1}"
      ]
     },
     "execution_count": 60,
     "metadata": {},
     "output_type": "execute_result"
    }
   ],
   "source": [
    "index_1(A,10)"
   ]
  },
  {
   "cell_type": "code",
   "execution_count": 61,
   "metadata": {},
   "outputs": [
    {
     "data": {
      "text/plain": [
       "2-element Array{Any,1}:\n",
       " 3\n",
       " 3"
      ]
     },
     "execution_count": 61,
     "metadata": {},
     "output_type": "execute_result"
    }
   ],
   "source": [
    "index_1(A,9)"
   ]
  },
  {
   "cell_type": "code",
   "execution_count": 62,
   "metadata": {},
   "outputs": [
    {
     "data": {
      "text/plain": [
       "2-element Array{Any,1}:\n",
       " 2\n",
       " 1"
      ]
     },
     "execution_count": 62,
     "metadata": {},
     "output_type": "execute_result"
    }
   ],
   "source": [
    "index_1(A,4)"
   ]
  },
  {
   "cell_type": "code",
   "execution_count": 68,
   "metadata": {},
   "outputs": [
    {
     "data": {
      "text/plain": [
       "2-element Array{Any,1}:\n",
       " 2\n",
       " 2"
      ]
     },
     "execution_count": 68,
     "metadata": {},
     "output_type": "execute_result"
    }
   ],
   "source": [
    "index_1(A,5)"
   ]
  }
 ],
 "metadata": {
  "kernelspec": {
   "display_name": "Julia 0.6.0",
   "language": "julia",
   "name": "julia-0.6"
  },
  "language_info": {
   "file_extension": ".jl",
   "mimetype": "application/julia",
   "name": "julia",
   "version": "0.6.0"
  }
 },
 "nbformat": 4,
 "nbformat_minor": 2
}
