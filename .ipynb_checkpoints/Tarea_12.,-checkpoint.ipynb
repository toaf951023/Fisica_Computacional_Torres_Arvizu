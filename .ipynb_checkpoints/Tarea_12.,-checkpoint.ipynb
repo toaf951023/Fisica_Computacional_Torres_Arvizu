{
 "cells": [
  {
   "cell_type": "markdown",
   "metadata": {},
   "source": [
    "# Tarea_12 \n",
    "## Francisco Ricardo Torres Arvizu"
   ]
  },
  {
   "cell_type": "code",
   "execution_count": 1,
   "metadata": {
    "collapsed": false
   },
   "outputs": [
    {
     "name": "stderr",
     "output_type": "stream",
     "text": [
      "\u001b[1m\u001b[36mINFO: \u001b[39m\u001b[22m\u001b[36mUpdating METADATA...\n",
      "\u001b[39m\u001b[1m\u001b[36mINFO: \u001b[39m\u001b[22m\u001b[36mNo packages to install, update or remove\n",
      "\u001b[39m\u001b[1m\u001b[36mINFO: \u001b[39m\u001b[22m\u001b[36mComputing changes...\n",
      "\u001b[39m"
     ]
    }
   ],
   "source": [
    "Pkg.update()"
   ]
  },
  {
   "cell_type": "code",
   "execution_count": null,
   "metadata": {
    "collapsed": false
   },
   "outputs": [],
   "source": [
    "\n",
    "Pkg.add(\"PyPlot\")"
   ]
  },
  {
   "cell_type": "markdown",
   "metadata": {},
   "source": [
    "## Ejercicio 1 \n",
    "Implementar método implicito de Euler como quieran."
   ]
  },
  {
   "cell_type": "markdown",
   "metadata": {},
   "source": [
    "## Solución \n",
    "Se crea una funcion que nos proporcione el método de Euler y use el método de Newton para despejar la $y_{n+1}$ del método de Euler implicito. Utilizamos una función del método de Newtón de la tarea  4 que requiere SymPy.\n"
   ]
  },
  {
   "cell_type": "code",
   "execution_count": null,
   "metadata": {
    "collapsed": false
   },
   "outputs": [],
   "source": [
    "using SymPy"
   ]
  },
  {
   "cell_type": "code",
   "execution_count": null,
   "metadata": {
    "collapsed": true
   },
   "outputs": [],
   "source": [
    "using PyPlot"
   ]
  },
  {
   "cell_type": "code",
   "execution_count": null,
   "metadata": {
    "collapsed": false
   },
   "outputs": [],
   "source": [
    "A,xi,x1,m=symbols(\"A,xi,x1,m\")"
   ]
  },
  {
   "cell_type": "code",
   "execution_count": null,
   "metadata": {
    "collapsed": false
   },
   "outputs": [],
   "source": [
    "function dif(f::Function)\n",
    "\n",
    " \n",
    "    df= diff(f(x1),x1)\n",
    "\n",
    "return df\n",
    "end "
   ]
  },
  {
   "cell_type": "code",
   "execution_count": null,
   "metadata": {
    "collapsed": false
   },
   "outputs": [],
   "source": [
    "function newton1(f::Function,w0) #se crea una funcion que tome los parametros que reuiera la ecuacion par solucionarse  \n",
    "    w1=w0\n",
    "    d=dif(f)\n",
    "    df=lambdify( d,[x1]);\n",
    "    w2=0.0\n",
    "    tolerancia=0.000000000001\n",
    "    error=0.001\n",
    "    raices=[]\n",
    "    while error >  tolerancia\n",
    "        w2=w1-(f(w1)/df(w1))\n",
    "        error=abs(w2-w1)\n",
    "        w1=w2\n",
    "       \n",
    "    end \n",
    "    return w1\n",
    "end"
   ]
  },
  {
   "cell_type": "code",
   "execution_count": null,
   "metadata": {
    "collapsed": false
   },
   "outputs": [],
   "source": [
    "using PyPlot\n",
    "\n",
    "function eulerFunctionimplicita(f::Function,time0,timef,y0,delta)\n",
    "    #Se declaran dos arreglos a los cuales iremos agregando los valores calculados de t y y\n",
    "    y=[]\n",
    "    t=[]\n",
    "    \n",
    "    push!(t,time0)\n",
    "    push!(y,y0)\n",
    "  \n",
    "    while(t[length(t)]<timef)\n",
    "        \n",
    "        push!(t,t[length(t)]+delta)\n",
    "        g(x1)=x1-y[length(y)]-delta*f(t[length(t)],x1)\n",
    "        y1=newton1(lambdify(g(x1),[x1]),t[length(t)])\n",
    "        push!(y,y1)\n",
    "        \n",
    "    end\n",
    "    title(\"Solución\")\n",
    "   scatter(t, y, color = \"blue\",s = 10, marker = \"*\")\n",
    "    grid()\n",
    "   ylabel(\"y\")\n",
    "    xlabel(\"x\")\n",
    "end"
   ]
  },
  {
   "cell_type": "code",
   "execution_count": null,
   "metadata": {
    "collapsed": false
   },
   "outputs": [],
   "source": [
    "@time eulerFunctionimplicita((t,y)->y-(1/2)*(sin(5*t)*e^((1/2)*t))+5*cos(5*t)*(e^((1/2)*t)),0.0,5.0,0.0,0.001)"
   ]
  },
  {
   "cell_type": "markdown",
   "metadata": {},
   "source": [
    "## Ejercicio 2\n",
    "Implementar Euler: Regla del punto medio."
   ]
  },
  {
   "cell_type": "markdown",
   "metadata": {},
   "source": [
    "## Solución\n",
    "Se crea una función que nos permite implementar el método del punto medio, y no entregue la gráfica de la función solución."
   ]
  },
  {
   "cell_type": "code",
   "execution_count": null,
   "metadata": {
    "collapsed": false
   },
   "outputs": [],
   "source": [
    "\n",
    "function eulerFunction2(f::Function,time0,timef,y0,delta)\n",
    "    #Se declaran dos arreglos a los cuales iremos agregando los valores calculados de t y y\n",
    "    y=[]\n",
    "    t=[]\n",
    "    t12=[]\n",
    "    push!(t,time0)\n",
    "    push!(y,y0)\n",
    "    y12(t,y)=y+0.5*delta*f(t,y)\n",
    "   push!(t12,time0)\n",
    "    while(t[length(t)]<timef)\n",
    "        \n",
    "         push!(t12,t[length(t)]+0.5*delta)\n",
    "        push!(t,t[length(t)]+delta)\n",
    "        \n",
    "        push!(y,y[length(y)]+delta*f(t12[length(t12)],y12(t[length(t)-1],y[length(y)])))\n",
    "        \n",
    "    end\n",
    "    title(\"Solución\")\n",
    "  \n",
    "    scatter(t, y, color = \"blue\", s = 10, marker = \"*\")\n",
    "    grid()\n",
    "    \n",
    "   ylabel(\"y\")\n",
    "    \n",
    "    xlabel(\"x\") \n",
    "\n",
    "end"
   ]
  },
  {
   "cell_type": "code",
   "execution_count": null,
   "metadata": {
    "collapsed": false
   },
   "outputs": [],
   "source": [
    "eulerFunction2((t,x)->-2.5x,0.0,8,1.0,0.001)"
   ]
  },
  {
   "cell_type": "markdown",
   "metadata": {},
   "source": [
    "## Ejercicio 3\n",
    "Implementar método de Runge-Kutta de orden 4."
   ]
  },
  {
   "cell_type": "markdown",
   "metadata": {},
   "source": [
    "$$ x_{n+1}=x_n+\\frac{h}{6}\\left( k_1+2 k_2+2 k_3 +k_4 \\right),$$\n",
    " $$\\begin{align} k_1&=f(t_n,x_n),\\ k2&=f(t{n+1/2},x_n+\\frac{h}{2}k_1),\\ k3&=f(t{n+1/2},x_n+\\frac{h}{2}k_2),\\ k_4&=f(t_n,x_n+h k_3).\\ \\end{align}$$"
   ]
  },
  {
   "cell_type": "markdown",
   "metadata": {},
   "source": [
    "## Solución\n",
    "Utilizando la denición del método de Runge Kutta creamos la siguiente función que no permite implementarlo.\n"
   ]
  },
  {
   "cell_type": "code",
   "execution_count": null,
   "metadata": {
    "collapsed": false
   },
   "outputs": [],
   "source": [
    "function rungeKuttaFunction(f::Function,t0,tf,y0,delta)\n",
    "    y = []\n",
    "    t=[]\n",
    "    push!(y,y0)\n",
    "    push!(t,t0)\n",
    "    k1(t,y) = f(t,y)\n",
    "    k2(t,y) = f(t+(delta/2),y+((delta/2)*k1(t,y)))\n",
    "    k3(t,y) = f(t+(delta/2),y+((delta/2)*k2(t,y)))\n",
    "    k4(t,y) = f(t+(delta),y+(delta)*k3(t,y))\n",
    "    h1(t,y)=k1(t,y)+2*k2(t,y)+2*k3(t,y)+k4(t,y)\n",
    "    while (t[length(t)]<tf)\n",
    "        push!(t,t[length(t)]+delta)\n",
    "        push!(y,y[length(y)]+(delta/6)*h1(t[length(t)-1],y[length(y)]))\n",
    "    end\n",
    "    figure()\n",
    "    xlim(t0,tf)\n",
    "    scatter(t,y, color=\"red\",s = 10, marker = \"*\")\n",
    "    legend()\n",
    "    title(\"Gráfica de la solución con el método de Runge-Kutta\")\n",
    "    ylabel(\"y\")\n",
    "    grid()\n",
    "end"
   ]
  },
  {
   "cell_type": "markdown",
   "metadata": {
    "collapsed": false
   },
   "source": [
    "Se prueba la Función "
   ]
  },
  {
   "cell_type": "code",
   "execution_count": null,
   "metadata": {
    "collapsed": false
   },
   "outputs": [],
   "source": [
    "rungeKuttaFunction((t,x)->-2.5x,0.0,8,1.0,0.01)"
   ]
  },
  {
   "cell_type": "code",
   "execution_count": null,
   "metadata": {
    "collapsed": false
   },
   "outputs": [],
   "source": [
    "rungeKuttaFunction((t,y)->y-(1/2)*(sin(5*t)*e^((1/2)*t))+5*cos(5*t)*(e^((1/2)*t)),0.0,5.0,0.0,0.01)"
   ]
  },
  {
   "cell_type": "markdown",
   "metadata": {},
   "source": [
    "## Ejercicio 4\n",
    "Repita el ejercicio 1 del notebook anterior (Julia_6) y discuta los resultados respecto a lo que obtuvo con el método implícito."
   ]
  },
  {
   "cell_type": "markdown",
   "metadata": {},
   "source": [
    "## Solución\n",
    "Se basa en la función del ejercicio 2 para crear una funci{on que nos compare el metodo de Euler implicito con la solucion exacta "
   ]
  },
  {
   "cell_type": "code",
   "execution_count": null,
   "metadata": {
    "collapsed": false
   },
   "outputs": [],
   "source": [
    "\n",
    "function eulercompFunctionimplicita(f::Function,f2::Function,time0,timef,y0,delta)\n",
    "    #Se declaran dos arreglos a los cuales iremos agregando los valores calculados de t y y\n",
    "    y=[]\n",
    "    t=[]\n",
    "    solucion=[]\n",
    "    push!(t,time0)\n",
    "    push!(y,y0)\n",
    "   push!(solucion, f2(time0))\n",
    "    while(t[length(t)]<timef)\n",
    "        push!(t,t[length(t)]+delta)\n",
    "        g(x1)=x1-y[length(y)]-delta*f(t[length(t)],x1)\n",
    "        y1=newton1(lambdify(g(x1),[x1]),t[length(t)])\n",
    "        push!(y,y1)\n",
    "         push!(solucion, f2(t[length(t)]))\n",
    "    end\n",
    "    title(\"Solución con el Método de Euler vs solución exacta vs \")\n",
    "     plot(t,solucion, color=\"red\", label=\"Solución exacta\")\n",
    "    legend()\n",
    "    scatter(t, y, color = \"blue\",label=\"Solución método de Euler\", s = 10, marker = \"*\")\n",
    "    legend()\n",
    "    grid()\n",
    "    \n",
    "   ylabel(\"y\")\n",
    "    \n",
    "    xlabel(\"x\") \n",
    "\n",
    "end"
   ]
  },
  {
   "cell_type": "markdown",
   "metadata": {},
   "source": [
    "Probamos la función"
   ]
  },
  {
   "cell_type": "code",
   "execution_count": null,
   "metadata": {
    "collapsed": false
   },
   "outputs": [],
   "source": [
    "eulercompFunctionimplicita((t,y)->y-(1/2)*(sin(5*t)*e^((1/2)*t))+5*cos(5*t)*(e^((1/2)*t)),(s)->(e^(s/2))*sin(5*s),0.0,5.0,0.0,0.01)"
   ]
  },
  {
   "cell_type": "markdown",
   "metadata": {
    "collapsed": false
   },
   "source": [
    "Se repite lo mismo que el ejericio 1 del notebook anterior, (tarea 11)"
   ]
  },
  {
   "cell_type": "markdown",
   "metadata": {},
   "source": [
    "Se compara con la solución excata dada la condicion incial  $x(0)=1$ la cual es $x(t)=e^{-2.5t}$"
   ]
  },
  {
   "cell_type": "code",
   "execution_count": null,
   "metadata": {
    "collapsed": false
   },
   "outputs": [],
   "source": [
    "eulercompFunctionimplicita((t,x)->-2.5x,t->e^(-2.5*t),0.0,8,1.0,0.5)"
   ]
  },
  {
   "cell_type": "markdown",
   "metadata": {},
   "source": [
    "Con $\\alpha=2.5$  $h=0.2$  $x(0)=1$"
   ]
  },
  {
   "cell_type": "code",
   "execution_count": null,
   "metadata": {
    "collapsed": false
   },
   "outputs": [],
   "source": [
    "eulercompFunctionimplicita((t,x)->-2.5x,t->e^(-2.5*t),0.0,8,1.0,0.2)"
   ]
  },
  {
   "cell_type": "markdown",
   "metadata": {},
   "source": [
    "Con $\\alpha=2.5$  $h=0.01$  $x(0)=1$"
   ]
  },
  {
   "cell_type": "code",
   "execution_count": null,
   "metadata": {
    "collapsed": false
   },
   "outputs": [],
   "source": [
    "eulercompFunctionimplicita((t,x)->-2.5x,t->e^(-2.5*t),0.0,8,1.0,0.01)"
   ]
  },
  {
   "cell_type": "markdown",
   "metadata": {},
   "source": [
    "Se compara con la solución excata dada la condicion incial  $x(0)=2$ la cual es $x(t)=2e^{-2.5t}$"
   ]
  },
  {
   "cell_type": "markdown",
   "metadata": {},
   "source": [
    "Con $\\alpha=2.5$  $h=0.5$  $x(0)=2$"
   ]
  },
  {
   "cell_type": "code",
   "execution_count": null,
   "metadata": {
    "collapsed": false
   },
   "outputs": [],
   "source": [
    "eulercompFunctionimplicita((t,x)->-2.5x,t->2e^(-2.5*t),0.0,8,2.0,0.5)"
   ]
  },
  {
   "cell_type": "markdown",
   "metadata": {},
   "source": [
    "Con $\\alpha=2.5$  $h=0.2$  $x(0)=2$"
   ]
  },
  {
   "cell_type": "code",
   "execution_count": null,
   "metadata": {
    "collapsed": false
   },
   "outputs": [],
   "source": [
    "eulercompFunctionimplicita((t,x)->-2.5x,t->2e^(-2.5*t),0.0,8,2.0,0.2)"
   ]
  },
  {
   "cell_type": "markdown",
   "metadata": {},
   "source": [
    "Con $\\alpha=2.5$  $h=0.01$  $x(0)=2$"
   ]
  },
  {
   "cell_type": "code",
   "execution_count": null,
   "metadata": {
    "collapsed": false
   },
   "outputs": [],
   "source": [
    "eulercompFunctionimplicita((t,x)->-2.5x,t->2e^(-2.5*t),0.0,8,2.0,0.01)"
   ]
  },
  {
   "cell_type": "markdown",
   "metadata": {},
   "source": [
    "## Discusión\n",
    " A diferencia del método de Euler explicito, el método de Euler implicito tiende a aproximar mejor la solución con tamaños de paso mayores, aunque el método explicito es mas rápido con tamaños de paso más pequeños, ya que en el iplicito se usa el Método de Newtón con cada iteración, debido a la naturaleza del algoritmo."
   ]
  },
  {
   "cell_type": "markdown",
   "metadata": {},
   "source": [
    "## Ejercicio 5\n",
    "Usar el método del punto medio y de Runge-Kutta para resolver la ecuación: $$\\frac{dx}{dt}=\\frac{2x-18 t}{1+t}.$$ Compare su respuesta con la solución exacta: $4+8t-5t^2$. notén que $x(0)=4$."
   ]
  },
  {
   "cell_type": "markdown",
   "metadata": {},
   "source": [
    "## Solución\n",
    "Pimeramente se uilizan las funciones credas en los ejercicios 2 y 3, para obtener una solución aproximada. "
   ]
  },
  {
   "cell_type": "code",
   "execution_count": null,
   "metadata": {
    "collapsed": false
   },
   "outputs": [],
   "source": [
    "eulerFunction2((t,x)->(2*x-18t)/(1+t),0.0,20,4.0,0.1)"
   ]
  },
  {
   "cell_type": "code",
   "execution_count": null,
   "metadata": {
    "collapsed": false
   },
   "outputs": [],
   "source": [
    "rungeKuttaFunction((t,x)->(2*x-18t)/(1+t),0.0,20,4.0,0.1)"
   ]
  },
  {
   "cell_type": "markdown",
   "metadata": {},
   "source": [
    "Se crean funciones  las funciones que nos comparen ambas métodos con la solución exacta. \n"
   ]
  },
  {
   "cell_type": "code",
   "execution_count": null,
   "metadata": {
    "collapsed": false
   },
   "outputs": [],
   "source": [
    "function eulercompFunction2(f::Function,f2::Function,time0,timef,y0,delta)\n",
    "    #Se declaran dos arreglos a los cuales iremos agregando los valores calculados de t y y\n",
    "    y=[]\n",
    "    t=[]\n",
    "    solucion=[]\n",
    "    t12=[]\n",
    "    push!(t,time0)\n",
    "    push!(y,y0)\n",
    "    y12(t,y)=y+0.5*delta*f(t,y)\n",
    "   push!(t12,time0)\n",
    "    push!(solucion, f2(time0))\n",
    "    while(t[length(t)]<timef)\n",
    "          push!(t12,t[length(t)]+0.5*delta)\n",
    "        push!(t,t[length(t)]+delta)\n",
    "        push!(solucion, f2(t[length(t)]))\n",
    "        push!(y,y[length(y)]+delta*f(t12[length(t12)],y12(t[length(t)-1],y[length(y)])))\n",
    "    end\n",
    "     title(\"Solución con el Método de Euler vs solución exacta  \")\n",
    "     plot(t,solucion, color=\"red\", label=\"Solución exacta\")\n",
    "    legend()\n",
    "    scatter(t, y, color = \"blue\",label=\"Solución método del punto medio\", s = 10, marker = \"*\")\n",
    "    legend()\n",
    "    grid()\n",
    "    \n",
    "   ylabel(\"y\")\n",
    "    \n",
    "    xlabel(\"x\") \n",
    "\n",
    "end"
   ]
  },
  {
   "cell_type": "code",
   "execution_count": null,
   "metadata": {
    "collapsed": false
   },
   "outputs": [],
   "source": [
    "eulercompFunction2((t,x)->(2*x-18*t)/(1+t),t->4+8t-5t^2,0.0,20,4.0,0.01) "
   ]
  },
  {
   "cell_type": "code",
   "execution_count": null,
   "metadata": {
    "collapsed": false
   },
   "outputs": [],
   "source": [
    "function rungeKuttacompFunction(f::Function,f2::Function,t0,tf,y0,delta)\n",
    "    y = []\n",
    "    t=[]\n",
    "    solucion=[]\n",
    "    push!(y,y0)\n",
    "    push!(t,t0)\n",
    "    push!(solucion, f2(t0))\n",
    "    k1(t,y) = f(t,y)\n",
    "    k2(t,y) = f(t+(delta/2),y+((delta/2)*k1(t,y)))\n",
    "    k3(t,y) = f(t+(delta/2),y+((delta/2)*k2(t,y)))\n",
    "    k4(t,y) = f(t+(delta),y+(delta)*k3(t,y))\n",
    "    h1(t,y)=k1(t,y)+2*k2(t,y)+2*k3(t,y)+k4(t,y)\n",
    "    while (t[length(t)]<tf)\n",
    "        push!(t,t[length(t)]+delta)\n",
    "         push!(solucion, f2(t[length(t)]))\n",
    "        push!(y,y[length(y)]+(delta/6)*h1(t[length(t)-1],y[length(y)]))\n",
    "    end\n",
    "     title(\"Solución con el Método de Euler vs solución exacta vs \")\n",
    "     plot(t,solucion, color=\"red\", label=\"Solución exacta\")\n",
    "    legend()\n",
    "    scatter(t, y, color = \"blue\",label=\"Solución método de Runge-Kutta\",s = 10, marker = \"*\")\n",
    "    legend()\n",
    "    grid()\n",
    "    ylabel(\"y\")\n",
    "    xlabel(\"x\") \n",
    "end"
   ]
  },
  {
   "cell_type": "code",
   "execution_count": null,
   "metadata": {
    "collapsed": false
   },
   "outputs": [],
   "source": [
    "rungeKuttacompFunction((t,x)->(2*x-18*t)/(1+t),t->4+8t-5t^2,0.0,20,4.0,0.01) "
   ]
  },
  {
   "cell_type": "markdown",
   "metadata": {},
   "source": [
    "#### Nota\n",
    "Deberán hacer una implementación de Runge-Kutta para dos dimensiones (o de una vez más si quieren, basandose en el ejemplo que les di, si se les ocurre una mánera mejor, adelante).\n",
    "\n",
    "#### Nota\n",
    "Usen $h=0.1$ para hacer la comparación o cualquier otro que refleje una diferencia significativa entre los dos métodos en la energía, el chiste es no usar un $h$ muy pequeño."
   ]
  },
  {
   "cell_type": "markdown",
   "metadata": {},
   "source": [
    "## Ejercicio 6\n",
    "Grafique la energía total del oscilador harmonico usando los métodos explícito de Euler y Runge-Kutta de orden 4. Compare sus respuestas y discuta."
   ]
  },
  {
   "cell_type": "markdown",
   "metadata": {},
   "source": [
    "## Solución\n",
    "Se implementa la una funcion que implemnte el metodo de Runge Kutta de orden 4 para ecuaciones diferenciales de segundo orden."
   ]
  },
  {
   "cell_type": "code",
   "execution_count": null,
   "metadata": {
    "collapsed": false
   },
   "outputs": [],
   "source": [
    "-\n",
    "    "
   ]
  },
  {
   "cell_type": "code",
   "execution_count": null,
   "metadata": {
    "collapsed": false
   },
   "outputs": [],
   "source": [
    "RungeKuttaOrden2((t,y1,y2)->y2,(t,y1,y2)->-2*y1,0.01,0.0,10.0,0.0,1.0)"
   ]
  },
  {
   "cell_type": "code",
   "execution_count": null,
   "metadata": {
    "collapsed": false
   },
   "outputs": [],
   "source": [
    "function euler2orden(f::Function,f2::Function,time0,timef,y10,y20,delta)\n",
    "    y2=[]\n",
    "    y1=[]\n",
    "    t=[]\n",
    "    push!(t,time0)\n",
    "    push!(y1,y10)\n",
    "     push!(y2,y20)\n",
    "    while(t[length(t)]<timef)\n",
    "        push!(t,t[length(t)]+delta)\n",
    "        push!(y1,y1[length(y1)]+f(t[length(t)-1],y1[length(y1)],y2[length(y2)])*delta)\n",
    "        push!(y2,y2[length(y2)]+f2(t[length(t)-1],y1[length(y1)-1],y2[length(y2)])*delta)\n",
    "    end\n",
    "    figure()\n",
    "    subplot(2,1,1)\n",
    "    plot(t, y2, color = \"blue\")\n",
    "    legend()\n",
    "    title(\"Gráfica de la función\")\n",
    "    ylabel(L\"f(x)\")\n",
    "    xlabel(L\"t\")\n",
    "    grid()\n",
    "    subplot(2,1,2)\n",
    "    plot(t,y1, color=\"red\")\n",
    "    legend()\n",
    "    ylabel(L\"\\frac{df(x)}{dt}\")\n",
    "    xlabel(L\"t\")\n",
    "    title(\"Gráfica de la derivada de la función\")\n",
    "    grid()\n",
    "end"
   ]
  },
  {
   "cell_type": "code",
   "execution_count": null,
   "metadata": {
    "collapsed": false
   },
   "outputs": [],
   "source": [
    "euler2orden((t,y1,y2)->y2,(t,y1,y2)->-2*y1,0.0,10.0,0.0,1.0,0.01)"
   ]
  },
  {
   "cell_type": "code",
   "execution_count": null,
   "metadata": {
    "collapsed": false
   },
   "outputs": [],
   "source": [
    "v=[1,2,3]\n",
    "}"
   ]
  },
  {
   "cell_type": "code",
   "execution_count": null,
   "metadata": {
    "collapsed": false
   },
   "outputs": [],
   "source": [
    "m=3"
   ]
  },
  {
   "cell_type": "code",
   "execution_count": null,
   "metadata": {
    "collapsed": false
   },
   "outputs": [],
   "source": [
    "m*v"
   ]
  },
  {
   "cell_type": "code",
   "execution_count": null,
   "metadata": {
    "collapsed": false
   },
   "outputs": [],
   "source": [
    "function us(y,m1)\n",
    "    us=[]\n",
    "    for i in 1:length(y)\n",
    "      push!(us,0.5*m1*y[i]^2)\n",
    "    end\n",
    "    return us\n",
    "end"
   ]
  },
  {
   "cell_type": "code",
   "execution_count": null,
   "metadata": {
    "collapsed": false
   },
   "outputs": [],
   "source": [
    "function energiaoscilador(f::Function,f2::Function,time0,timef,y10,y20,delta,m,k)\n",
    "y2=[]\n",
    "    y1=[]\n",
    "    t=[]\n",
    "    ke=[]\n",
    "    u=[]\n",
    "    et=[]\n",
    "    push!(t,time0)\n",
    "    push!(y1,y10)\n",
    "     push!(y2,y20)\n",
    "    push!(u,0.5*k*(y20)^2)\n",
    "    push!(ke, 0.0)\n",
    "    push!(et, ke[length(ke)]+u[length(u)])\n",
    "    while(t[length(t)]<timef)\n",
    "        push!(t,t[length(t)]+delta)\n",
    "        push!(y1,y1[length(y1)]+f(t[length(t)-1],y1[length(y1)],y2[length(y2)])*delta)\n",
    "        push!(y2,y2[length(y2)]+f2(t[length(t)-1],y1[length(y1)-1],y2[length(y2)])*delta)\n",
    "        push!(u,0.5*k*(y2[length(y2)])^2)\n",
    "        push!(ke, 0.5*m*(y1[length(y1)])^2)\n",
    "        push!(et, ke[length(ke)]+u[length(u)])\n",
    "    end\n",
    "    \n",
    "    figure()\n",
    "    subplot(2,1,1)\n",
    "    plot(t, ke, color = \"blue\",label=\"Energía cinética\")\n",
    "    plot(t,u, color=\"red\",label=\"Energía potencial\")\n",
    "    legend()\n",
    "    title(\"Energía cinética y potencial\")\n",
    "    ylabel(\"Energía\")\n",
    "    xlabel(\"Tiempo\")\n",
    "    grid()\n",
    "    subplot(2,1,2)\n",
    "    plot(t,et, color=\"green\")\n",
    "    legend()\n",
    "    ylabel(\"Energía\")\n",
    "    xlabel(\"Tiempo\")\n",
    "    title(\"Gráfica de la energía total\")\n",
    "    grid()\n",
    "    \n",
    "    \n",
    "end"
   ]
  },
  {
   "cell_type": "code",
   "execution_count": null,
   "metadata": {
    "collapsed": false
   },
   "outputs": [],
   "source": [
    "energiaoscilador((t,y1,y2)->y2,(t,y1,y2)->-y1,0.0,10.0,0.0,1.0,0.1,1,1)"
   ]
  },
  {
   "cell_type": "code",
   "execution_count": null,
   "metadata": {
    "collapsed": false
   },
   "outputs": [],
   "source": [
    "function energiaoscilador2(g::Function,g1::Function,t0,tf,y10,y20,delta,m,k)\n",
    "    t = []\n",
    "    y1 = []\n",
    "    y2 = [] \n",
    "    ke=[]\n",
    "    u=[]\n",
    "    et=[]\n",
    "    k11(t,u1,u2) = g(t,u1,u2)*delta\n",
    "    k21(t,u1,u2)= g(t+delta/2,u1+(delta/2)*u2,u2+k11(t,u1,u2)/2)*delta\n",
    "    k31(t,u1,u2)= g(t+delta/2,u1+(delta/2)*u2+(delta/4)*k11(t,u1,u2),u2+(k21(t,u1,u2)/2))*delta\n",
    "    k41(t,u1,u2) = g(t+delta,u1+delta*u2+(delta/2)*k21(t,u1,u2),u2+k31(t,u1,u2))*delta\n",
    "    k12(t,u1,u2)= g1(t,u1,u2)*delta\n",
    "    k22(t,u1,u2)= g1(t+delta/2,u1+(delta/2)*u2,u2+k11(t,u1,u2)/2)*delta\n",
    "    k32(t,u1,u2) = g1(t+delta/2,u1+(delta/2)*u2+(delta/4)*k11(t,u1,u2),u2+(k21(t,u1,u2)/2))*delta\n",
    "    k42(t,u1,u2) = g1(t+delta,u1+delta*u2+(delta/2)*k21(t,u1,u2),u2+k31(t,u1,u2))*delta\n",
    "    f1(t,u1,u2) = u1+1/6*(k11(t,u1,u2)+2*k21(t,u1,u2)+2*k31(t,u1,u2)+k41(t,u1,u2))\n",
    "    f2(t,u1,u2) = u2+1/6*(k12(t,u1,u2)+2*k22(t,u1,u2)+2*k32(t,u1,u2)+k42(t,u1,u2))\n",
    "    push!(t,t0)\n",
    "    push!(y1,y10)\n",
    "    push!(y2,y20)\n",
    "    push!(u,0.5*k*(y20)^2)\n",
    "    push!(ke, 0.0)\n",
    "    push!(et, ke[length(ke)]+u[length(u)])\n",
    "    while(t[length(t)]<tf)\n",
    "        push!(t, t[length(t)]+delta)\n",
    "        push!(y1,f1(t[length(t)-1],y1[length(y1)],y2[length(y2)]))\n",
    "        push!(y2,f2(t[length(t)-1],y1[length(y1)-1],y2[length(y2)])) \n",
    "        push!(u,0.5*k*(y2[length(y2)])^2)\n",
    "        push!(ke, 0.5*m*(y1[length(y1)])^2)\n",
    "        push!(et, ke[length(ke)]+u[length(u)])\n",
    "    end\n",
    "    figure()\n",
    "    subplot(2,1,1)\n",
    "    plot(t, ke, color = \"blue\",label=\"Energía cinética\")\n",
    "    legend()\n",
    "    title(\"Energá potencial vs energia Cinética\")\n",
    "    plot(t,u, color=\"red\",label=\"Energía Potencial\")\n",
    "    ylabel(\"Energía\")\n",
    "    xlabel(\"Tiempo\")\n",
    "    grid()\n",
    "    subplot(2,1,2)\n",
    "    plot(t,et, color=\"green\")\n",
    "    legend()\n",
    "    ylabel(\"Energía\")\n",
    "    xlabel(\"Tiempo\")\n",
    "    title(\"Energía total\")\n",
    "    grid()\n",
    "end\n",
    "    "
   ]
  },
  {
   "cell_type": "code",
   "execution_count": null,
   "metadata": {
    "collapsed": false
   },
   "outputs": [],
   "source": [
    "energiaoscilador2((t,y1,y2)->y2,(t,y1,y2)->-y1,0.0,10.0,0.0,1.0,0.1,1,1)"
   ]
  },
  {
   "cell_type": "markdown",
   "metadata": {
    "collapsed": true
   },
   "source": [
    "## Dicusión\n",
    "Se grafica de la energía total con ambos métodos, la gráfica de la energía total debe ser la de una función una constante, sin embargo, en ambos métodos ésta es creciente, conforme pasa el tiempo. Pero en el método de Runge Kutta este crecimiento es menor que en el de Euler. "
   ]
  },
  {
   "cell_type": "markdown",
   "metadata": {
    "collapsed": true
   },
   "source": [
    "## Ejercicio 7\n",
    "Utilizando los métodos de Euler y Runge-Kutta con $h=0.01$ y una condición inicial, grafique las dos trayectorias en el espacio $(x,v)$ (esto casi es el espacio de fase en la mécanica clásica, para ello se necesitaria graficar $(x,p)$. Nota: Si ya tiene una forma de calcular $x$ y $v$ en forma de listas, digamos listx y listv, bastará con hacer plot(listx,listv)."
   ]
  },
  {
   "cell_type": "markdown",
   "metadata": {},
   "source": [
    "## Solución\n",
    "se crea una función para cada método, que obtiene la gráfica del espacio fase.  "
   ]
  },
  {
   "cell_type": "code",
   "execution_count": null,
   "metadata": {
    "collapsed": false
   },
   "outputs": [],
   "source": [
    "function espaciofaseoscilador1(g::Function,g1::Function,t0,tf,y10,y20,delta,m)\n",
    "    t = []\n",
    "    y1 = []\n",
    "    y2 = [] \n",
    "    k11(t,u1,u2) = g(t,u1,u2)*delta\n",
    "    k21(t,u1,u2)= g(t+delta/2,u1+(delta/2)*u2,u2+k11(t,u1,u2)/2)*delta\n",
    "    k31(t,u1,u2)= g(t+delta/2,u1+(delta/2)*u2+(delta/4)*k11(t,u1,u2),u2+(k21(t,u1,u2)/2))*delta\n",
    "    k41(t,u1,u2) = g(t+delta,u1+delta*u2+(delta/2)*k21(t,u1,u2),u2+k31(t,u1,u2))*delta\n",
    "    k12(t,u1,u2)= g1(t,u1,u2)*delta\n",
    "    k22(t,u1,u2)= g1(t+delta/2,u1+(delta/2)*u2,u2+k11(t,u1,u2)/2)*delta\n",
    "    k32(t,u1,u2) = g1(t+delta/2,u1+(delta/2)*u2+(delta/4)*k11(t,u1,u2),u2+(k21(t,u1,u2)/2))*delta\n",
    "    k42(t,u1,u2) = g1(t+delta,u1+delta*u2+(delta/2)*k21(t,u1,u2),u2+k31(t,u1,u2))*delta\n",
    "    f1(t,u1,u2) = u1+1/6*(k11(t,u1,u2)+2*k21(t,u1,u2)+2*k31(t,u1,u2)+k41(t,u1,u2))\n",
    "    f2(t,u1,u2) = u2+1/6*(k12(t,u1,u2)+2*k22(t,u1,u2)+2*k32(t,u1,u2)+k42(t,u1,u2))\n",
    "    push!(t,t0)\n",
    "    push!(y1,y10)\n",
    "    push!(y2,y20)\n",
    "    while(t[length(t)]<tf)\n",
    "        push!(t, t[length(t)]+delta)\n",
    "        push!(y1,f1(t[length(t)-1],y1[length(y1)],y2[length(y2)]))\n",
    "        push!(y2,f2(t[length(t)-1],y1[length(y1)-1],y2[length(y2)])) \n",
    "    end\n",
    "    figure()\n",
    "    plot(y2, m*y1, color = \"violet\")\n",
    "    legend()\n",
    "    title(\"Espacio Fase\")\n",
    "   ylabel(L\"\\vec{p}\")\n",
    "    xlabel(L\"\\vec{x}\")\n",
    "    grid()\n",
    "   \n",
    "end"
   ]
  },
  {
   "cell_type": "code",
   "execution_count": null,
   "metadata": {
    "collapsed": false
   },
   "outputs": [],
   "source": [
    "espaciofaseoscilador1((t,y1,y2)->y2,(t,y1,y2)->-y1,0.0,10.0,0.0,1.0,0.01,5)"
   ]
  },
  {
   "cell_type": "code",
   "execution_count": null,
   "metadata": {
    "collapsed": false
   },
   "outputs": [],
   "source": [
    "function espaciofaseoscilador2(f::Function,f2::Function,time0,timef,y10,y20,delta,m)\n",
    "   y2=[]\n",
    "    y1=[]\n",
    "    t=[]\n",
    "   \n",
    "    push!(t,time0)\n",
    "    push!(y1,y10)\n",
    "     push!(y2,y20)\n",
    "    \n",
    "    while(t[length(t)]<timef)\n",
    "        push!(t,t[length(t)]+delta)\n",
    "        push!(y1,y1[length(y1)]+f(t[length(t)-1],y1[length(y1)],y2[length(y2)])*delta)\n",
    "        push!(y2,y2[length(y2)]+f2(t[length(t)-1],y1[length(y1)-1],y2[length(y2)])*delta)\n",
    "     \n",
    "    end\n",
    "    \n",
    "    \n",
    "    plot(y2, y1, color = \"purple\")\n",
    "   \n",
    "    legend()\n",
    "    title(\"Espacio Fase\")\n",
    "    ylabel(L\"\\vec{p}\")\n",
    "    xlabel(L\"\\vec{x}\")\n",
    "   grid()\n",
    "    \n",
    "end"
   ]
  },
  {
   "cell_type": "code",
   "execution_count": null,
   "metadata": {
    "collapsed": false
   },
   "outputs": [],
   "source": [
    "espaciofaseoscilador2((t,y1,y2)->y2,(t,y1,y2)->-y1,0.0,10.0,0.0,1.0,0.01,5)"
   ]
  },
  {
   "cell_type": "markdown",
   "metadata": {},
   "source": [
    "## Ejercicio 8\n",
    "Utilizando solo Runge-Kutta, grafique muchas condiciones iniciales del oscilador armónico en el espacio de fase. Tome todos los parámetros como prefiera, revisando que obtiene el resultado esperado."
   ]
  },
  {
   "cell_type": "markdown",
   "metadata": {},
   "source": [
    "## Solución \n",
    "Se crean dos funciones, una que calcule los arreglos correspondientes a $\\frac{df(x)}{dx}$ y $f(x)$, y la segundo gráfica el espacio fase $\\vec{x}$ que corresponde a $f(x)$, y $\\vec{p}$ a $m\\frac{df(x)}{dx}$, toman como argunmeto lo mismo que las funciones anteriores pero aparte tiene la entrada $m$ de masa."
   ]
  },
  {
   "cell_type": "code",
   "execution_count": null,
   "metadata": {
    "collapsed": false
   },
   "outputs": [],
   "source": [
    "function espaciofaseoscilador3(g::Function,g1::Function,t0,tf,y10,y20,delta,m)\n",
    "   t = []\n",
    "    y1 = []\n",
    "    y2 = [] \n",
    "    k11(t,u1,u2) = g(t,u1,u2)*delta\n",
    "    k21(t,u1,u2)= g(t+delta/2,u1+(delta/2)*u2,u2+k11(t,u1,u2)/2)*delta\n",
    "    k31(t,u1,u2)= g(t+delta/2,u1+(delta/2)*u2+(delta/4)*k11(t,u1,u2),u2+(k21(t,u1,u2)/2))*delta\n",
    "    k41(t,u1,u2) = g(t+delta,u1+delta*u2+(delta/2)*k21(t,u1,u2),u2+k31(t,u1,u2))*delta\n",
    "    k12(t,u1,u2)= g1(t,u1,u2)*delta\n",
    "    k22(t,u1,u2)= g1(t+delta/2,u1+(delta/2)*u2,u2+k11(t,u1,u2)/2)*delta\n",
    "    k32(t,u1,u2) = g1(t+delta/2,u1+(delta/2)*u2+(delta/4)*k11(t,u1,u2),u2+(k21(t,u1,u2)/2))*delta\n",
    "    k42(t,u1,u2) = g1(t+delta,u1+delta*u2+(delta/2)*k21(t,u1,u2),u2+k31(t,u1,u2))*delta\n",
    "    f1(t,u1,u2) = u1+1/6*(k11(t,u1,u2)+2*k21(t,u1,u2)+2*k31(t,u1,u2)+k41(t,u1,u2))\n",
    "    f2(t,u1,u2) = u2+1/6*(k12(t,u1,u2)+2*k22(t,u1,u2)+2*k32(t,u1,u2)+k42(t,u1,u2))\n",
    "    push!(t,t0)\n",
    "    push!(y1,y10)\n",
    "    push!(y2,y20)\n",
    "    while(t[length(t)]<tf)\n",
    "        push!(t, t[length(t)]+delta)\n",
    "        push!(y1,f1(t[length(t)-1],y1[length(y1)],y2[length(y2)]))\n",
    "        push!(y2,f2(t[length(t)-1],y1[length(y1)-1],y2[length(y2)])) \n",
    "    end\n",
    "    return y2, m*y1, t \n",
    "end"
   ]
  },
  {
   "cell_type": "code",
   "execution_count": null,
   "metadata": {
    "collapsed": false
   },
   "outputs": [],
   "source": [
    "function grafica(g::Function,g1::Function,t0,tf,y10,y20,delta,m)\n",
    "         plot(espaciofaseoscilador3(g,g1,t0,tf,y10,y20,delta,m)[2],espaciofaseoscilador3(g,g1,t0,tf,y10,y20,delta,m)[1])\n",
    "    legend()\n",
    "    title(\"Espacio Fase\")\n",
    "    ylabel(L\"\\vec{p}\")\n",
    "    xlabel(L\"\\vec{x}\")\n",
    "   grid()\n",
    "end"
   ]
  },
  {
   "cell_type": "markdown",
   "metadata": {},
   "source": [
    "Dadas las condiciones inciales se puede $x(t)=c$ y $x'(t)=0$, se obtiene la siuiente función \n",
    "$x(t)=c\\cos(kt)$"
   ]
  },
  {
   "cell_type": "code",
   "execution_count": null,
   "metadata": {
    "collapsed": false
   },
   "outputs": [],
   "source": [
    "f1(t)=cos(t)\n",
    "f2(t)=-sin(t)\n",
    "plot(f1.(espaciofaseoscilador3((t,y1,y2)->y2,(t,y1,y2)->-y1,0.0,10.0,0.0,1.0,0.01,1)[3]),-f2.(espaciofaseoscilador3((t,y1,y2)->y2,(t,y1,y2)->-y1,0.0,10.0,0.0,1.0,0.01,1)[3]),label=\"Solución Real\")\n",
    "\n",
    "grafica((t,y1,y2)->y2,(t,y1,y2)->-y1,0.0,10.0,0.0,1.0,0.01,1)"
   ]
  },
  {
   "cell_type": "code",
   "execution_count": null,
   "metadata": {
    "collapsed": false
   },
   "outputs": [],
   "source": [
    "f3(t)=2*cos(t)\n",
    "f4(t)=-2*sin(t)\n",
    "\n",
    "plot(f3.(espaciofaseoscilador3((t,y1,y2)->y2,(t,y1,y2)->-y1,0.0,10.0,0.0,2.0,0.01,1)[3]),-f4.(espaciofaseoscilador3((t,y1,y2)->y2,(t,y1,y2)->-y1,0.0,10.0,0.0,2.0,0.01,1)[3]),label=\"Solución Real\")\n",
    "\n",
    "grafica((t,y1,y2)->y2,(t,y1,y2)->-y1,0.0,10.0,0.0,2.0,0.01,1)"
   ]
  },
  {
   "cell_type": "code",
   "execution_count": null,
   "metadata": {
    "collapsed": false
   },
   "outputs": [],
   "source": [
    "grafica((t,y1,y2)->y2,(t,y1,y2)->-y1,0.0,10.0,0.0,1.0,0.001,5)\n",
    "grafica((t,y1,y2)->y2,(t,y1,y2)->-y1,0.0,10.0,0.0,2.0,0.001,5)\n",
    "grafica((t,y1,y2)->y2,(t,y1,y2)->-y1,0.0,10.0,0.0,3.0,0.001,5)\n",
    "grafica((t,y1,y2)->y2,(t,y1,y2)->-y1,0.0,10.0,0.0,4.0,0.001,5)\n",
    "grafica((t,y1,y2)->y2,(t,y1,y2)->-y1,0.0,10.0,0.0,5.0,0.001,5)\n",
    "grafica((t,y1,y2)->y2,(t,y1,y2)->-y1,0.0,10.0,0.0,6.0,0.001,5)\n",
    " grid()"
   ]
  },
  {
   "cell_type": "markdown",
   "metadata": {},
   "source": [
    "Se prueban varias condiciones inciales con una función random, para ver el cambio en el diagrama fase. "
   ]
  },
  {
   "cell_type": "code",
   "execution_count": null,
   "metadata": {
    "collapsed": false
   },
   "outputs": [],
   "source": [
    "grafica((t,y1,y2)->y2,(t,y1,y2)->-y1,0.0,10.0,rand(0.0:10.0),1.0,0.001,5)\n",
    "grafica((t,y1,y2)->y2,(t,y1,y2)->-y1,0.0,10.0,rand(0.0:10.0),3.0,0.001,5)\n",
    "grafica((t,y1,y2)->y2,(t,y1,y2)->-y1,0.0,10.0,rand(0.0:10.0),4.0,0.001,5)\n",
    "grafica((t,y1,y2)->y2,(t,y1,y2)->-y1,0.0,10.0,rand(0.0:10.0),4.0,0.001,5)\n",
    "grafica((t,y1,y2)->y2,(t,y1,y2)->-y1,0.0,10.0,rand(0.0:10.0),5.0,0.001,5)\n",
    "grafica((t,y1,y2)->y2,(t,y1,y2)->-y1,0.0,10.0,rand(0.0:10.0),6.0,0.001,5)\n",
    "grid()"
   ]
  },
  {
   "cell_type": "code",
   "execution_count": null,
   "metadata": {
    "collapsed": true
   },
   "outputs": [],
   "source": []
  }
 ],
 "metadata": {
  "kernelspec": {
   "display_name": "Julia 0.6.0",
   "language": "julia",
   "name": "julia-0.6"
  },
  "language_info": {
   "file_extension": ".jl",
   "mimetype": "application/julia",
   "name": "julia",
   "version": "0.6.0"
  }
 },
 "nbformat": 4,
 "nbformat_minor": 2
}
