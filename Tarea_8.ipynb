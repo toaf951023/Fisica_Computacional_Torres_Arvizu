{
 "cells": [
  {
   "cell_type": "markdown",
   "metadata": {},
   "source": [
    "# Tarea 8\n",
    "## Francisco Ricardo Torres Arvizu"
   ]
  },
  {
   "cell_type": "markdown",
   "metadata": {},
   "source": [
    "### Ejercicio 1.\n",
    "Escribe una función derivadaNumerica que reciba: una función  f:ℝ↦ℝf:R↦R , un punto  x0∈ℝx0∈R  y un número  h∈ℝh∈R . Esta función deberá calcular una aproximación a la derivada utilizando la definición indicada arriba ignorando la parte del límite. Es decir, algo como: derivada_numerica(f,x,h). "
   ]
  },
  {
   "cell_type": "code",
   "execution_count": null,
   "metadata": {
    "collapsed": false
   },
   "outputs": [],
   "source": [
    "function derivadanumerica(f::Function,x0,h)\n",
    "    df(x)=(f(x+h)-f(x))*(1/h)\n",
    "    dfv=df(x0)\n",
    "    \n",
    "    return dfv\n",
    "end\n"
   ]
  },
  {
   "cell_type": "code",
   "execution_count": null,
   "metadata": {
    "collapsed": false
   },
   "outputs": [],
   "source": [
    "derivadanumerica(x->x^2,1,0.0000000001)"
   ]
  },
  {
   "cell_type": "code",
   "execution_count": null,
   "metadata": {
    "collapsed": false
   },
   "outputs": [],
   "source": [
    "derivadanumerica(x->sin(x),pi,0.0000000001)"
   ]
  },
  {
   "cell_type": "code",
   "execution_count": null,
   "metadata": {
    "collapsed": false
   },
   "outputs": [],
   "source": [
    "derivadanumerica(x->log(x),1,0.0000000001)"
   ]
  },
  {
   "cell_type": "markdown",
   "metadata": {},
   "source": [
    "### Ejercicio 7:\n",
    "Explotar la relación $\\delta_h=\\Delta_h-\\Delta_{-h}$, donde $\\delta_h:f(x)\\mapsto f(x+h)-f(x-h)$, para encontrar cual es la función $\\theta$ que relaciona a $\\delta_h$ con el operador derivada exacta, es decir: $$\\delta_h=\\theta\\left(h\\left. \\frac{d}{d\\xi}\\right|_{\\xi=x}\\right).$$\n",
    "Una vez que la encuentren, despejen $\\left. \\frac{d}{d\\xi}\\right|_{\\xi=x}$ y calculen la serie de Taylor de mánera similar a lo mostrado en las ecuaciones 3 y 4."
   ]
  },
  {
   "cell_type": "markdown",
   "metadata": {
    "collapsed": true
   },
   "source": [
    "## Solución\n",
    "Se sabe  que el operador $\\Delta_h$ esta definido como  $\\Delta_h=\\sum_{n=1}^{\\infty} \\frac{1}{n!}h^n\\left.\\frac{d^n}{d\\xi^n}\\right|_{\\substack{ \\xi=x }}$, y la funciòn asociada éste es $$\\Delta_h=\\phi\\left(h\\left.\\frac{d}{d\\xi}\\right|_{\\substack{ \\xi=x }}\\right)$$ donde  $\\phi(x)=e^x-1$. Por otra parte  para $\\Delta_{-h}$ se tiene que $\\Delta_{-h}= \\sum_{n=1}^{\\infty} \\frac{1}{n!}(-h)^n\\left.\\frac{d^n}{d\\xi^n}\\right|_{\\substack{ \\xi=x }}$. cuya función asociada es $\\phi(x)=e^{-x}-1$. A partir de esto, se  obtiene $\\delta_h=\\Delta_h-\\Delta_{-h}$ entonces \n",
    "$$\\delta_h=e^{\\left(h\\left.\\frac{d}{d\\xi}\\right|_{\\substack{ \\xi=x }}\\right)}-1-(e^{\\left(-h\\left.\\frac{d}{d\\xi}\\right|_{\\substack{ \\xi=x }}\\right)}-1)$$ Simplificando  \n",
    "$$\\delta_h=e^{\\left(h\\left.\\frac{d}{d\\xi}\\right|_{\\substack{ \\xi=x }}\\right)}-e^{\\left(-h\\left.\\frac{d}{d\\xi}\\right|_{\\substack{ \\xi=x }}\\right)}$$, como $senh(x)=\\frac{e^x-e^{-x}}{2}$ y  $e^x-e^{-x}=2senh(x)$, se ve que \n",
    "\n",
    "  $\\delta_h=2senh(\\left(h\\left.\\frac{d}{d\\xi}\\right|_{\\substack{ \\xi=x }}\\right))$\n",
    "\n",
    "para depejar $h\\left.\\frac{d}{d\\xi}\\right|_{\\substack{ \\xi=x }}$ se obtiene la funcion inversa de $senh(x)$, $senh^{-1}(x)=ln(x+\t\\sqrt{x^{2}+1})$, sustituyendo\n",
    "$$\\left.\\frac{d}{d\\xi}\\right|_{\\substack{ \\xi=x }}= \\frac{1}{h}ln\\left(\\frac{\\delta_h}{2}+\\sqrt{\\left(\\frac{\\delta_h}{2}\\right )^{2}+1} \\right )$$\n",
    "se saca la serie de Taylor de mánera similar a lo mostrado en las ecuaciones 3 y 4. Para lograr esto se usa la expansión binomial $$(a+b)^n= \\sum_{n=1}^{n}\\binom{n}{k}a^{n-k}b^{k}$$\n",
    "ya que es una manera mas fácil de calcular a partir de   $\\frac{d(senh^{-1}(x))}{dx}=\\frac{1}{\\sqrt{x^{2}+1}}$ y luego integrar. Usando la expansion binomial y  la derivada\n",
    "$$(x^{2}+1)^{\\frac{-1}{2}}=1-\\frac{1}{2}x^2+\\frac{1\\cdot 3}{2\\cdot4}x^4-\\frac{1\\cdot3\\cdot5}{2\\cdot4\\cdot6}x^6+...$$  \n",
    "entonces \n",
    "\n",
    "$\\int (x^{2}+1)^{\\frac{-1}{2}} dx=\\int ( 1-\\frac{1}{2}x^2+\\frac{1\\cdot 3}{2\\cdot4}x^4-\\frac{1\\cdot3\\cdot5}{2\\cdot4\\cdot6}x^6+... )dx=senh ^{-1}(x)=x-\\frac{1}{2}\\frac{x^3}{3}+\\frac{1\\cdot 3}{2\\cdot4}\\frac{x^5}{5}-\\frac{1\\cdot3\\cdot5}{2\\cdot4\\cdot6}\\frac{x^7}{7}+...= \\sum_{n=1}^{\\infty} (\\frac{(-1)^n(2n)!}{2^{2n}(n!)^2})\\frac{x^{2n+1}}{2n+1}$\n",
    "  \n",
    "  \n",
    "sustituyendo \n",
    "\n",
    "\n",
    "$$\\left.\\frac{d}{d\\xi}\\right|_{\\substack{ \\xi=x }}= \\frac{1}{h} \\left(\\left(\\frac{\\delta_h}{2}\\right )-\\frac{1}{2}\\frac{\\left(\\frac{\\delta_h}{2}\\right )^3}{3}+\\frac{1\\cdot 3}{2\\cdot4}\\frac{\\left(\\frac{\\delta_h}{2}\\right )^5}{5}-\\frac{1\\cdot3\\cdot5}{2\\cdot4\\cdot6}\\frac{\\left(\\frac{\\delta_h}{2}\\right )^7}{7}+... \\right )= \\frac{1}{h}  \\sum_{n=1}^{\\infty} (\\frac{(-1)^n(2n)!}{2^{2n}(n!)^2})\\frac{\\left(\\frac{\\delta_h}{2}\\right )^{2n+1}}{2n+1} $$\n",
    "donde  \n",
    "$\\delta_h:f(x)\\mapsto f(x+h)-f(x-h)$\n",
    "\n",
    "\n"
   ]
  },
  {
   "cell_type": "code",
   "execution_count": null,
   "metadata": {
    "collapsed": true
   },
   "outputs": [],
   "source": []
  }
 ],
 "metadata": {
  "kernelspec": {
   "display_name": "Julia 0.6.0",
   "language": "julia",
   "name": "julia-0.6"
  },
  "language_info": {
   "file_extension": ".jl",
   "mimetype": "application/julia",
   "name": "julia",
   "version": "0.6.0"
  }
 },
 "nbformat": 4,
 "nbformat_minor": 2
}
