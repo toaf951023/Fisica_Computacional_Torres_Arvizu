{
 "cells": [
  {
   "cell_type": "markdown",
   "metadata": {},
   "source": [
    "# Tarea 7\n",
    "## Francisco Ricardo Torres Arvizu"
   ]
  },
  {
   "cell_type": "markdown",
   "metadata": {},
   "source": [
    "\n",
    "## Ejercicio 3: \n",
    "Implementar método de Simpson de la misma forma que el ejercicio anterior"
   ]
  },
  {
   "cell_type": "markdown",
   "metadata": {},
   "source": [
    "Se implemento la regla de Simpson como en los ejercicios de la tarea 6"
   ]
  },
  {
   "cell_type": "code",
   "execution_count": 1,
   "metadata": {
    "collapsed": true
   },
   "outputs": [],
   "source": [
    "using PyPlot"
   ]
  },
  {
   "cell_type": "code",
   "execution_count": 2,
   "metadata": {
    "collapsed": false
   },
   "outputs": [
    {
     "data": {
      "text/plain": [
       "Simpson (generic function with 1 method)"
      ]
     },
     "execution_count": 2,
     "metadata": {},
     "output_type": "execute_result"
    }
   ],
   "source": [
    "function Simpson(a,b, f,n)\n",
    "\n",
    "    deltax=(b-a)/n\n",
    "    S=0.0\n",
    "    xm=0.0\n",
    "    So=0.0\n",
    "    x0=a\n",
    "    x1=0.0\n",
    "   for i in 1:n-1\n",
    "        x1=a+i*deltax\n",
    "        xm=(x1+x0)*(1/2)\n",
    "        S=(deltax/6)*(f(x0)+4*f(xm)+f(x1))+So\n",
    "        So=S\n",
    "        x0=x1\n",
    "    end\n",
    "     \n",
    "    return So\n",
    "end "
   ]
  },
  {
   "cell_type": "code",
   "execution_count": 3,
   "metadata": {
    "collapsed": false
   },
   "outputs": [
    {
     "data": {
      "text/plain": [
       "1.9999950652019263"
      ]
     },
     "execution_count": 3,
     "metadata": {},
     "output_type": "execute_result"
    }
   ],
   "source": [
    "Simpson(0.0, pi, x->sin(x),1000)"
   ]
  },
  {
   "cell_type": "code",
   "execution_count": 4,
   "metadata": {
    "collapsed": false
   },
   "outputs": [
    {
     "data": {
      "text/plain": [
       "-0.006283143965562235"
      ]
     },
     "execution_count": 4,
     "metadata": {},
     "output_type": "execute_result"
    }
   ],
   "source": [
    "Simpson(0.0, 2*pi, x->cos(x),1000)"
   ]
  },
  {
   "cell_type": "code",
   "execution_count": 5,
   "metadata": {
    "collapsed": false
   },
   "outputs": [
    {
     "data": {
      "text/plain": [
       "0.30993179980218777"
      ]
     },
     "execution_count": 5,
     "metadata": {},
     "output_type": "execute_result"
    }
   ],
   "source": [
    "Simpson(0.0, 1.0, x->sin(x^2),2500)"
   ]
  },
  {
   "cell_type": "code",
   "execution_count": 6,
   "metadata": {
    "collapsed": false
   },
   "outputs": [
    {
     "data": {
      "text/plain": [
       "1.997334222222222"
      ]
     },
     "execution_count": 6,
     "metadata": {},
     "output_type": "execute_result"
    }
   ],
   "source": [
    "Simpson(0.0, 2.0, x->x,1500)"
   ]
  },
  {
   "cell_type": "markdown",
   "metadata": {},
   "source": [
    "## Ejercicio 5:\n",
    "Comparen como convergen los métodos al valor exacto de la integral, respeco al ancho de las celdas, háganlo para $f(x)=-\\sin(x)$, integrando en el intervalo $[0,2\\pi]$. Es decir, para los tres métodos fijen el ancho de la celda y haganla cada vez mas pequeña, grafiquen el valor de la integral contra el inverso del acho de la celda, es decir $\\int f(x) dx$ contra $1/\\Delta x$. Hagan esto para los tres métodos y ponganlo en una gráfica y comenten lo que observan.\n"
   ]
  },
  {
   "cell_type": "markdown",
   "metadata": {},
   "source": []
  },
  {
   "cell_type": "code",
   "execution_count": 71,
   "metadata": {
    "collapsed": false
   },
   "outputs": [
    {
     "data": {
      "text/plain": [
       "trapecio2 (generic function with 1 method)"
      ]
     },
     "execution_count": 71,
     "metadata": {},
     "output_type": "execute_result"
    }
   ],
   "source": [
    "function trapecio2(a,b, f)\n",
    "n=0\n",
    "    t=[]\n",
    "   \n",
    "   \n",
    "   for j in 1:10\n",
    "        n=n+10\n",
    "        deltax=(b-a)/n\n",
    "         S=0.0\n",
    "    So=f(a)+f(b)\n",
    "        for i in 1:n-1\n",
    "          xm=a+i*deltax\n",
    "        \n",
    "           S=2*f(xm)+So\n",
    "        \n",
    "        \n",
    "          So=S\n",
    "     \n",
    "        end\n",
    "        \n",
    "        Sf=So*(b-a)/2n\n",
    "         println(Sf)\n",
    "        push!(t,Sf)\n",
    "    end \n",
    "    \n",
    "    return t\n",
    "end "
   ]
  },
  {
   "cell_type": "code",
   "execution_count": 72,
   "metadata": {
    "collapsed": false
   },
   "outputs": [
    {
     "name": "stdout",
     "output_type": "stream",
     "text": [
      "1.9835235375094549\n",
      "1.9958859727087148\n",
      "1.998171961343654\n",
      "1.9989718104970653\n",
      "1.9993419830762613\n",
      "1.9995430529908078\n",
      "1.9996642878999868\n",
      "1.9997429724458358\n",
      "1.999796917595944\n",
      "1.9998355038874436\n"
     ]
    },
    {
     "data": {
      "text/plain": [
       "10-element Array{Any,1}:\n",
       " 1.98352\n",
       " 1.99589\n",
       " 1.99817\n",
       " 1.99897\n",
       " 1.99934\n",
       " 1.99954\n",
       " 1.99966\n",
       " 1.99974\n",
       " 1.9998 \n",
       " 1.99984"
      ]
     },
     "execution_count": 72,
     "metadata": {},
     "output_type": "execute_result"
    }
   ],
   "source": [
    "trapecio2(0.0, pi, x->sin(x))"
   ]
  },
  {
   "cell_type": "code",
   "execution_count": 73,
   "metadata": {
    "collapsed": false
   },
   "outputs": [
    {
     "data": {
      "text/plain": [
       "riemman2 (generic function with 1 method)"
      ]
     },
     "execution_count": 73,
     "metadata": {},
     "output_type": "execute_result"
    }
   ],
   "source": [
    "function riemman2(a,b,f)\n",
    " r=[]\n",
    "n=0\n",
    "     for j in 1:10\n",
    "        n=n+100\n",
    "        deltax=(b-a)/n\n",
    "         S=0.0\n",
    "        So=0.0\n",
    "         for i in 1:n-1\n",
    "          xm=a+i*deltax\n",
    "        \n",
    "          S=f(xm)+So\n",
    "       \n",
    "          So=S\n",
    "    \n",
    "        end\n",
    "        Sf=S*(b-a)/n\n",
    "          println(Sf)\n",
    "        push!(r,Sf)\n",
    "    end \n",
    "    \n",
    "    return r\n",
    "end "
   ]
  },
  {
   "cell_type": "code",
   "execution_count": 74,
   "metadata": {
    "collapsed": false
   },
   "outputs": [
    {
     "name": "stdout",
     "output_type": "stream",
     "text": [
      "-4.2116012113454227e-16\n",
      "-6.844941927341939e-17\n",
      "1.0928654627093714e-16\n",
      "-4.672653828425939e-16\n",
      "4.009522830242048e-16\n",
      "5.941729314211788e-16\n",
      "-5.292373320482829e-16\n",
      "1.1285162019142773e-16\n",
      "2.555287547699067e-16\n",
      "-2.414967449254008e-16\n"
     ]
    },
    {
     "data": {
      "text/plain": [
       "10-element Array{Any,1}:\n",
       " -4.2116e-16 \n",
       " -6.84494e-17\n",
       "  1.09287e-16\n",
       " -4.67265e-16\n",
       "  4.00952e-16\n",
       "  5.94173e-16\n",
       " -5.29237e-16\n",
       "  1.12852e-16\n",
       "  2.55529e-16\n",
       " -2.41497e-16"
      ]
     },
     "execution_count": 74,
     "metadata": {},
     "output_type": "execute_result"
    }
   ],
   "source": [
    "riemman2(0.0, 2*pi, x->-sin(x))"
   ]
  },
  {
   "cell_type": "code",
   "execution_count": 75,
   "metadata": {
    "collapsed": false
   },
   "outputs": [
    {
     "data": {
      "text/plain": [
       "Simpson (generic function with 1 method)"
      ]
     },
     "execution_count": 75,
     "metadata": {},
     "output_type": "execute_result"
    }
   ],
   "source": [
    "function Simpson(a,b, f,n)\n",
    "\n",
    "    deltax=(b-a)/n\n",
    "    S=0.0\n",
    "    xm=0.0\n",
    "    So=0.0\n",
    "    x0=a\n",
    "    x1=0.0\n",
    "   for i in 1:n-1\n",
    "        x1=a+i*deltax\n",
    "        xm=(x1+x0)*(1/2)\n",
    "        S=(deltax/6)*(f(x0)+4*f(xm)+f(x1))+So\n",
    "        So=S\n",
    "        x0=x1\n",
    "    end\n",
    "     \n",
    "    return So\n",
    "end "
   ]
  },
  {
   "cell_type": "code",
   "execution_count": 76,
   "metadata": {
    "collapsed": false
   },
   "outputs": [
    {
     "data": {
      "text/plain": [
       "arreglosimpson (generic function with 1 method)"
      ]
     },
     "execution_count": 76,
     "metadata": {},
     "output_type": "execute_result"
    }
   ],
   "source": [
    "function arreglosimpson(a,b,f,n)\n",
    "    \n",
    "\n",
    "    s=[]\n",
    "    for i in 1:10\n",
    "        n=n+100\n",
    "         push!(s,Simpson(a,b,f,n)) \n",
    "end \n",
    "    return s\n",
    "    \n",
    "end"
   ]
  },
  {
   "cell_type": "code",
   "execution_count": 77,
   "metadata": {
    "collapsed": false
   },
   "outputs": [
    {
     "data": {
      "text/plain": [
       "10-element Array{Any,1}:\n",
       " 1.99988\n",
       " 1.99995\n",
       " 1.99997\n",
       " 1.99998\n",
       " 1.99999\n",
       " 1.99999\n",
       " 1.99999\n",
       " 1.99999\n",
       " 2.0    \n",
       " 2.0    "
      ]
     },
     "execution_count": 77,
     "metadata": {},
     "output_type": "execute_result"
    }
   ],
   "source": [
    "arreglosimpson(0.0, pi, x->sin(x),100)"
   ]
  },
  {
   "cell_type": "code",
   "execution_count": 78,
   "metadata": {
    "collapsed": false
   },
   "outputs": [
    {
     "data": {
      "text/plain": [
       "delta (generic function with 1 method)"
      ]
     },
     "execution_count": 78,
     "metadata": {},
     "output_type": "execute_result"
    }
   ],
   "source": [
    "function delta(a,b)\n",
    "    deltas=[]\n",
    "    n=0\n",
    "    dx=0.0\n",
    "    dxi=0.0\n",
    "    for i in 1:10\n",
    "        n=n+100\n",
    "        dxi=n/abs(b-a)\n",
    "        \n",
    "        push!(deltas,dxi)\n",
    "        \n",
    "    end\n",
    "    return deltas\n",
    "end"
   ]
  },
  {
   "cell_type": "code",
   "execution_count": 79,
   "metadata": {
    "collapsed": false
   },
   "outputs": [
    {
     "data": {
      "text/plain": [
       "10-element Array{Any,1}:\n",
       "  15.9155\n",
       "  31.831 \n",
       "  47.7465\n",
       "  63.662 \n",
       "  79.5775\n",
       "  95.493 \n",
       " 111.408 \n",
       " 127.324 \n",
       " 143.239 \n",
       " 159.155 "
      ]
     },
     "execution_count": 79,
     "metadata": {},
     "output_type": "execute_result"
    }
   ],
   "source": [
    "dxis=delta(0.0,2*pi)"
   ]
  },
  {
   "cell_type": "markdown",
   "metadata": {},
   "source": [
    "Gráficas de comparación de los tres métodos"
   ]
  },
  {
   "cell_type": "code",
   "execution_count": 81,
   "metadata": {
    "collapsed": false
   },
   "outputs": [
    {
     "data": {
      "image/png": "[encoded data removed]",
      "text/plain": [
       "PyPlot.Figure(PyObject <matplotlib.figure.Figure object at 0x7f942e255a10>)"
      ]
     },
     "metadata": {},
     "output_type": "display_data"
    },
    {
     "name": "stdout",
     "output_type": "stream",
     "text": [
      "-4.2116012113454227e-16\n",
      "-6.844941927341939e-17\n",
      "1.0928654627093714e-16\n",
      "-4.672653828425939e-16\n",
      "4.009522830242048e-16\n",
      "5.941729314211788e-16\n",
      "-5.292373320482829e-16\n",
      "1.1285162019142773e-16\n",
      "2.555287547699067e-16\n",
      "-2.414967449254008e-16\n",
      "0.0\n",
      "8.71967124502158e-17\n",
      "-6.394425579682491e-17\n",
      "-5.406196171913379e-16\n",
      "-1.3951473992034528e-17\n",
      "4.15637662679362e-16\n",
      "9.217938173308527e-17\n",
      "4.03284795082248e-16\n",
      "3.487868498008632e-16\n",
      "-4.2116012113454227e-16\n"
     ]
    },
    {
     "data": {
      "text/plain": [
       "PyObject <matplotlib.text.Text object at 0x7f942e1cc7d0>"
      ]
     },
     "execution_count": 81,
     "metadata": {},
     "output_type": "execute_result"
    }
   ],
   "source": [
    "r1=riemman2(0.0, 2*pi, x->-sin(x))\n",
    "t1=trapecio2(0.0, 2*pi, x->-sin(x))\n",
    "s1=arreglosimpson(0.0,2*pi, x->-sin(x),100)\n",
    "\n",
    "scatter( dxis, s1, color=\"black\",label = \"Simpson\" )\n",
    "legend()\n",
    "scatter(dxis,r1, color=\"red\",label = \"Riemman\" )\n",
    "legend()\n",
    "scatter(dxis,t1, color=\"blue\" ,label = \"Trapecio\")\n",
    "legend()\n",
    "title(\"Integral con distintos métodos vs 1/dx \")"
   ]
  },
  {
   "cell_type": "code",
   "execution_count": 84,
   "metadata": {
    "collapsed": false
   },
   "outputs": [
    {
     "data": {
      "image/png": "[encoded data removed]",
      "text/plain": [
       "PyPlot.Figure(PyObject <matplotlib.figure.Figure object at 0x7f942d803fd0>)"
      ]
     },
     "metadata": {},
     "output_type": "display_data"
    },
    {
     "data": {
      "text/plain": [
       "PyObject <matplotlib.text.Text object at 0x7f942d7ad810>"
      ]
     },
     "execution_count": 84,
     "metadata": {},
     "output_type": "execute_result"
    }
   ],
   "source": [
    "scatter(s1, dxis,  color=\"black\",label = \"Simpson\" )\n",
    "legend()\n",
    "scatter(r1,dxis, color=\"red\",label = \"Riemman\")\n",
    "legend()\n",
    "scatter(t1,dxis, color=\"blue\",label = \"Trapecio\")\n",
    "legend()\n",
    "title(\"1/dx vs Integral con distintos métodos\")"
   ]
  },
  {
   "cell_type": "code",
   "execution_count": 85,
   "metadata": {
    "collapsed": false
   },
   "outputs": [
    {
     "data": {
      "image/png": "[encoded data removed]",
      "text/plain": [
       "PyPlot.Figure(PyObject <matplotlib.figure.Figure object at 0x7f942d6fdbd0>)"
      ]
     },
     "metadata": {},
     "output_type": "display_data"
    },
    {
     "data": {
      "text/plain": [
       "PyObject <matplotlib.legend.Legend object at 0x7f942d69b790>"
      ]
     },
     "execution_count": 85,
     "metadata": {},
     "output_type": "execute_result"
    }
   ],
   "source": [
    "plot(  s1, color=\"black\",label = \"Simpson\" )\n",
    "legend()\n",
    "plot(r1, color=\"red\",label = \"Riemman\")\n",
    "legend()\n",
    "plot(t1, color=\"blue\",label = \"Trapecio\")\n",
    "legend()\n",
    "title(\"Métodos iterativos\")"
   ]
  },
  {
   "cell_type": "markdown",
   "metadata": {},
   "source": [
    "Se observa que el método de Simpson tarda mas en converger en este caso. Mientras que el de Riemman y el del trapecio convergen de inmediato."
   ]
  },
  {
   "cell_type": "markdown",
   "metadata": {},
   "source": [
    "##  Ejercicio 4:\n",
    "Implementar método de interpolación de Lagrange en `Julia`. La función deberá recibir la lista de puntos $(x_k,y_k)$, note que es particularmente útil si los _inputs_ son las listas de las $x$'s y de las $y$'s separadamente, es decir, de la misma forma en como la función `plot` recibe los argumentos; esto servira para verificar nuestros resultados.\n",
    "* Interpole las funciones $\\cos(x)$, $\\cos^2(x)$ tomando un arreglo de $10$ puntos distribuidos uniformemente dentro del dominio $[0,2 3.14]$, donde el primer punto sea $0$ y el último $3.14$.\n",
    "* Interpole los los siguientes puntos: [(0,10),(2,-10),(3,-4),(4,0),(5,5),(6,20),(7,-1)]\n",
    "* Para los ejercicios anteriores evalue la función que interpola en una variable simbólica, para que nos permita ver la forma explicita del polinomio. Ej: Interpolador(listx,listy,Sym(\"x\"))."
   ]
  },
  {
   "cell_type": "code",
   "execution_count": 17,
   "metadata": {
    "collapsed": false
   },
   "outputs": [
    {
     "name": "stderr",
     "output_type": "stream",
     "text": [
      "\u001b[1m\u001b[36mINFO: \u001b[39m\u001b[22m\u001b[36mPackage SymPy is already installed\n",
      "\u001b[39m\u001b[1m\u001b[36mINFO: \u001b[39m\u001b[22m\u001b[36mMETADATA is out-of-date — you may not have the latest version of SymPy\n",
      "\u001b[39m"
     ]
    }
   ],
   "source": [
    "Pkg.add(\"SymPy\")"
   ]
  },
  {
   "cell_type": "code",
   "execution_count": 18,
   "metadata": {
    "collapsed": false
   },
   "outputs": [],
   "source": [
    "using SymPy"
   ]
  },
  {
   "cell_type": "code",
   "execution_count": 19,
   "metadata": {
    "collapsed": false
   },
   "outputs": [
    {
     "data": {
      "text/plain": [
       "(A, x, y, a, n, m)"
      ]
     },
     "execution_count": 19,
     "metadata": {},
     "output_type": "execute_result"
    },
    {
     "name": "stderr",
     "output_type": "stream",
     "text": [
      "WARNING: Compat.UTF8String is deprecated, use String instead.\n",
      "  likely near /opt/julia_packages/.julia/v0.6/IJulia/src/kernel.jl:31\n",
      "WARNING: Compat.UTF8String is deprecated, use String instead.\n",
      "  likely near /opt/julia_packages/.julia/v0.6/IJulia/src/kernel.jl:31\n",
      "WARNING: Compat.UTF8String is deprecated, use String instead.\n",
      "  likely near /opt/julia_packages/.julia/v0.6/IJulia/src/kernel.jl:31\n",
      "in jprint at /home/juser/.julia/v0.6/SymPy/src/display.jl\n"
     ]
    }
   ],
   "source": [
    "A,x,y, a,n,m=symbols(\"A,x,y,a,n,m\")"
   ]
  },
  {
   "cell_type": "markdown",
   "metadata": {},
   "source": [
    "Se programan una serie de mini funciones que nos van formando los polinomios paso por paso,finalmente estas funciones se agrupan en una funcion maestra, la cual gnerara el polinomio final, recibiendo solamente dos arreglos."
   ]
  },
  {
   "cell_type": "markdown",
   "metadata": {},
   "source": [
    "Primero una función que crea polinomios a partir de un arreglo."
   ]
  },
  {
   "cell_type": "code",
   "execution_count": 20,
   "metadata": {
    "collapsed": false
   },
   "outputs": [
    {
     "data": {
      "text/plain": [
       "polinomios (generic function with 1 method)"
      ]
     },
     "execution_count": 20,
     "metadata": {},
     "output_type": "execute_result"
    }
   ],
   "source": [
    "function polinomios(x)\n",
    "   \n",
    "    yi=[]\n",
    "    yo=[]  \n",
    "    \n",
    "    n=length(x)\n",
    "   g(y)=y\n",
    "    for i in 1:n\n",
    "     y1=g(y)-x[i]\n",
    "        \n",
    "  push!(yi,y1)\n",
    "      \n",
    "       \n",
    "    end\n",
    "    return yi\n",
    "end"
   ]
  },
  {
   "cell_type": "markdown",
   "metadata": {},
   "source": [
    "Se crea una función que multiplica los elementos del arreglo."
   ]
  },
  {
   "cell_type": "code",
   "execution_count": 21,
   "metadata": {
    "collapsed": false
   },
   "outputs": [
    {
     "data": {
      "text/plain": [
       "multiplicar (generic function with 1 method)"
      ]
     },
     "execution_count": 21,
     "metadata": {},
     "output_type": "execute_result"
    }
   ],
   "source": [
    "function multiplicar(x)\n",
    "    \n",
    "   n=length(x)\n",
    "    y5=[]\n",
    "   push!(y5,x[1])\n",
    "    for i in 2:n\n",
    "\n",
    "push!(y5,y5[length(y5)] *x[i])\n",
    "end\n",
    "    yf=y5[length(y5)]\n",
    "    \n",
    "    return yf\n",
    "end"
   ]
  },
  {
   "cell_type": "markdown",
   "metadata": {},
   "source": [
    "Las siguientes funciones obtienen los coefientes de los polinomios."
   ]
  },
  {
   "cell_type": "code",
   "execution_count": 22,
   "metadata": {
    "collapsed": false
   },
   "outputs": [
    {
     "data": {
      "text/plain": [
       "ob (generic function with 1 method)"
      ]
     },
     "execution_count": 22,
     "metadata": {},
     "output_type": "execute_result"
    }
   ],
   "source": [
    "function ob(x)\n",
    "    \n",
    "    u=polinomios(x)\n",
    "    v=copy(u)\n",
    "    yi=\n",
    "    yo=[]\n",
    "    f=0.0\n",
    "    n=length(x)\n",
    "    for i in 1:n\n",
    "        yi=deleteat!(u,i)\n",
    "        f=multiplicar(yi)\n",
    "        push!(yo,f)\n",
    "       empty!(yi)\n",
    "        u=copy(v)\n",
    "    end\n",
    "    return yo\n",
    "    \n",
    "end\n"
   ]
  },
  {
   "cell_type": "code",
   "execution_count": 23,
   "metadata": {
    "collapsed": false
   },
   "outputs": [
    {
     "data": {
      "text/plain": [
       "ob3 (generic function with 1 method)"
      ]
     },
     "execution_count": 23,
     "metadata": {},
     "output_type": "execute_result"
    }
   ],
   "source": [
    "function ob3(x,y)\n",
    "    n=length(x)\n",
    "    u=[]\n",
    "    d=0\n",
    "    p=0\n",
    "    for i in 1:n\n",
    "        d=x[i]\n",
    "        p=y-d\n",
    "        push!(u,p)\n",
    "        end    \n",
    "return u\n",
    "    end "
   ]
  },
  {
   "cell_type": "code",
   "execution_count": 24,
   "metadata": {
    "collapsed": false
   },
   "outputs": [
    {
     "data": {
      "text/plain": [
       "ob2 (generic function with 1 method)"
      ]
     },
     "execution_count": 24,
     "metadata": {},
     "output_type": "execute_result"
    }
   ],
   "source": [
    "function ob2(x)\n",
    "    u=x\n",
    "    v=copy(x)\n",
    "    g=0.0\n",
    "    yo=[]\n",
    "    f=0.0\n",
    "    n=length(x)\n",
    "    for i in 1:n\n",
    "        g=u[i]\n",
    "        \n",
    "        yi=deleteat!(u,i)\n",
    "        y4=ob3(yi,g)\n",
    "        f=multiplicar(y4)\n",
    "        push!(yo,f)\n",
    "       empty!(yi)\n",
    "        empty!(y4)\n",
    "        u=copy(v)\n",
    "    end\n",
    "    return yo\n",
    "    \n",
    "end\n"
   ]
  },
  {
   "cell_type": "code",
   "execution_count": 25,
   "metadata": {
    "collapsed": false
   },
   "outputs": [
    {
     "data": {
      "text/plain": [
       "ob5 (generic function with 1 method)"
      ]
     },
     "execution_count": 25,
     "metadata": {},
     "output_type": "execute_result"
    }
   ],
   "source": [
    "function ob5(y)\n",
    "   x=ob2(y)\n",
    "    n=length(x)\n",
    "        f=[]\n",
    "        h=0.0\n",
    "        for i in 1:n\n",
    "            h=1/x[i]\n",
    "            push!(f,h)\n",
    "        end\n",
    " return f \n",
    "end\n"
   ]
  },
  {
   "cell_type": "code",
   "execution_count": 26,
   "metadata": {
    "collapsed": false
   },
   "outputs": [
    {
     "data": {
      "text/plain": [
       "ob6 (generic function with 1 method)"
      ]
     },
     "execution_count": 26,
     "metadata": {},
     "output_type": "execute_result"
    }
   ],
   "source": [
    "function ob6(y1,y)\n",
    "    x=ob5(y1)\n",
    "    n=length(x)\n",
    "    yu=[]\n",
    "    l=0.0\n",
    "    for i in 1:n\n",
    "        l=x[i]*y[i]\n",
    "     push!(yu,l)\n",
    "    end\n",
    "    return yu\n",
    "    \n",
    "end"
   ]
  },
  {
   "cell_type": "markdown",
   "metadata": {},
   "source": [
    "Finalmente todas las funciones convergen en una función maestra que nos da el polinomio como un objeto de SymPy"
   ]
  },
  {
   "cell_type": "code",
   "execution_count": 27,
   "metadata": {
    "collapsed": false
   },
   "outputs": [
    {
     "data": {
      "text/plain": [
       "interpolacion (generic function with 1 method)"
      ]
     },
     "execution_count": 27,
     "metadata": {},
     "output_type": "execute_result"
    }
   ],
   "source": [
    "function interpolacion(x1,y1)\n",
    "    x=ob(x1)\n",
    "    y=ob6(x1,y1)\n",
    "    n=length(x)\n",
    "    s=0.0\n",
    "    so=0.0\n",
    "  for i in 1:n\n",
    "     s=x[i]*y[i]+so\n",
    "     so=simplify(s)   \n",
    "   end   \n",
    "    sf=so\n",
    "    return sf\n",
    "end"
   ]
  },
  {
   "cell_type": "markdown",
   "metadata": {},
   "source": [
    "Como tuve problemas evaluando las funciones en SymPy, creo estas dos funciones que me dan dos arreglos de puntos que se pueden meter en mi función interpoladora."
   ]
  },
  {
   "cell_type": "code",
   "execution_count": 28,
   "metadata": {
    "collapsed": false
   },
   "outputs": [
    {
     "data": {
      "text/plain": [
       "intervalo (generic function with 1 method)"
      ]
     },
     "execution_count": 28,
     "metadata": {},
     "output_type": "execute_result"
    }
   ],
   "source": [
    "function intervalo(a,b,x)\n",
    "    v=linspace(0.0,2*pi,10)\n",
    "  \n",
    "    n=length(v)\n",
    "    xk=[]\n",
    "    for i in 1:n\n",
    "        h=v[i]\n",
    "        push!(xk,h)\n",
    "    end\n",
    "        return xk\n",
    "end "
   ]
  },
  {
   "cell_type": "code",
   "execution_count": 29,
   "metadata": {
    "collapsed": false
   },
   "outputs": [
    {
     "data": {
      "text/plain": [
       "creadoradeyk (generic function with 1 method)"
      ]
     },
     "execution_count": 29,
     "metadata": {},
     "output_type": "execute_result"
    }
   ],
   "source": [
    "function creadoradeyk(f::Function,x)\n",
    "    yk=[]\n",
    "    n=length(x)\n",
    "    for i in 1:n\n",
    "        push!(yk,f(x[i]))\n",
    "    end\n",
    "    return yk\n",
    "end"
   ]
  },
  {
   "cell_type": "code",
   "execution_count": 30,
   "metadata": {
    "collapsed": false
   },
   "outputs": [
    {
     "data": {
      "text/plain": [
       "5-element Array{Float64,1}:\n",
       " -14.1014  \n",
       "  -0.931596\n",
       "   0.0     \n",
       "   0.931596\n",
       "  14.1014  "
      ]
     },
     "execution_count": 30,
     "metadata": {},
     "output_type": "execute_result"
    }
   ],
   "source": [
    "j=[-1.5,-0.75,0,0.75,1.5]\n",
    "b=[-14.1014,-0.931596,0,0.931596,14.1014]"
   ]
  },
  {
   "cell_type": "markdown",
   "metadata": {
    "collapsed": false
   },
   "source": [
    "Se prueban la función en $cos(x)$ y $cos(x^2)$"
   ]
  },
  {
   "cell_type": "code",
   "execution_count": 31,
   "metadata": {
    "collapsed": false
   },
   "outputs": [
    {
     "data": {
      "text/latex": [
       "$$0.00583700794151715 y^{9} - 0.164592867500441 y^{8} + 1.94664042029177 y^{7} - 12.5507254637271 y^{6} + 47.9992806406426 y^{5} - 110.930582668068 y^{4} + 150.48588126741 y^{3} - 108.479268269714 y^{2} + 30.4332914373326 y + 1.0$$"
      ],
      "text/plain": [
       "                     9                      8                     7           \n",
       "0.00583700794151715*y  - 0.164592867500441*y  + 1.94664042029177*y  - 12.55072\n",
       "\n",
       "          6                     5                     4                    3  \n",
       "54637271*y  + 47.9992806406426*y  - 110.930582668068*y  + 150.48588126741*y  -\n",
       "\n",
       "                   2                           \n",
       " 108.479268269714*y  + 30.4332914373326*y + 1.0"
      ]
     },
     "execution_count": 31,
     "metadata": {},
     "output_type": "execute_result"
    }
   ],
   "source": [
    "interpolacion(intervalo(0.0,2*pi,10),creadoradeyk(z->cos(z^2),linspace(0.0,2*pi,10)))"
   ]
  },
  {
   "cell_type": "code",
   "execution_count": 32,
   "metadata": {
    "collapsed": false
   },
   "outputs": [
    {
     "data": {
      "text/latex": [
       "$$6.83047368665868 \\cdot 10^{-18} y^{9} - 1.9797933636022 \\cdot 10^{-5} y^{8} + 0.000497576342935509 y^{7} - 0.00411366974808167 y^{6} + 0.00878850466173803 y^{5} + 0.0243778891541633 y^{4} + 0.0201425548286519 y^{3} - 0.51254334976388 y^{2} + 0.00313254720752185 y + 1.0$$"
      ],
      "text/plain": [
       "                      9                       8                         7     \n",
       "6.83047368665868e-18*y  - 1.9797933636022e-5*y  + 0.000497576342935509*y  - 0.\n",
       "\n",
       "                   6                        5                       4         \n",
       "00411366974808167*y  + 0.00878850466173803*y  + 0.0243778891541633*y  + 0.0201\n",
       "\n",
       "              3                     2                              \n",
       "425548286519*y  - 0.51254334976388*y  + 0.00313254720752185*y + 1.0"
      ]
     },
     "execution_count": 32,
     "metadata": {},
     "output_type": "execute_result"
    }
   ],
   "source": [
    "interpolacion(intervalo(0.0,2*pi,10),creadoradeyk(z->cos(z),linspace(0.0,2*pi,10)))"
   ]
  },
  {
   "cell_type": "code",
   "execution_count": 33,
   "metadata": {
    "collapsed": false
   },
   "outputs": [],
   "source": [
    "using PyPlot"
   ]
  },
  {
   "cell_type": "code",
   "execution_count": 34,
   "metadata": {
    "collapsed": false
   },
   "outputs": [
    {
     "data": {
      "image/png": "[encoded data removed]",
      "text/plain": [
       "PyPlot.Figure(PyObject <matplotlib.figure.Figure object at 0x7f942f008fd0>)"
      ]
     },
     "metadata": {},
     "output_type": "display_data"
    },
    {
     "data": {
      "text/plain": [
       "PyObject <matplotlib.text.Text object at 0x7f942ed00ad0>"
      ]
     },
     "execution_count": 34,
     "metadata": {},
     "output_type": "execute_result"
    }
   ],
   "source": [
    "v=linspace(0.0,2*pi,100)\n",
    "v4=linspace(0.0,2*pi,10)\n",
    "y2=lambdify(interpolacion(intervalo(0.0,2*pi,10),creadoradeyk(z->cos(z),linspace(0.0,2*pi,10)))).(v)\n",
    "plot(v,y2)\n",
    "scatter(v4,creadoradeyk(z->cos(z),linspace(0.0,2*pi,10)),color=\"red\")\n",
    "grid()\n",
    "\n",
    "title(\"Polinomio interpolador de cos (x) vs puntos \") # Utilizamos L\"algo\" para que ese algo esté en formato LaTeX\n",
    " #Colocamos la red\n",
    "ylabel(L\"y\")\n",
    "xlabel(L\"x\")"
   ]
  },
  {
   "cell_type": "code",
   "execution_count": 35,
   "metadata": {
    "collapsed": false
   },
   "outputs": [],
   "source": [
    "using PyPlot"
   ]
  },
  {
   "cell_type": "code",
   "execution_count": 61,
   "metadata": {
    "collapsed": false
   },
   "outputs": [
    {
     "data": {
      "image/png": "[encoded data removed]",
      "text/plain": [
       "PyPlot.Figure(PyObject <matplotlib.figure.Figure object at 0x7f942dee2c10>)"
      ]
     },
     "metadata": {},
     "output_type": "display_data"
    },
    {
     "data": {
      "text/plain": [
       "PyObject <matplotlib.text.Text object at 0x7f942defe410>"
      ]
     },
     "execution_count": 61,
     "metadata": {},
     "output_type": "execute_result"
    }
   ],
   "source": [
    "v=linspace(0.0,2*pi,100)\n",
    "v2=linspace(0.0,2*pi,10)\n",
    "y2=lambdify(interpolacion(intervalo(0.0,2*pi,10),creadoradeyk(z->cos(z^2),linspace(0.0,2*pi,10)))).(v)\n",
    "#scatter(v,creadoradeyk(z->cos(z^2),linspace(0.0,2*pi,10)))\n",
    "plot(linspace(0.0,2*pi,100),y2)\n",
    "scatter(v2,creadoradeyk(z->cos(z^2),linspace(0.0,2*pi,10)),color=\"red\")\n",
    "grid()\n",
    "title(\"Polinomio interpolador de cos (x^2) vs puntos \") # Utilizamos L\"algo\" para que ese algo esté en formato LaTeX\n",
    " #Colocamos la red\n",
    "ylabel(L\"y\")\n",
    "xlabel(L\"x\")"
   ]
  },
  {
   "cell_type": "markdown",
   "metadata": {},
   "source": [
    "Se prueba la Función en los puntos  [(0,10),(2,-10),(3,-4),(4,0),(5,5),(6,20),(7,-1)]"
   ]
  },
  {
   "cell_type": "code",
   "execution_count": 40,
   "metadata": {
    "collapsed": false
   },
   "outputs": [
    {
     "data": {
      "text/plain": [
       "7-element Array{Float64,1}:\n",
       "  10.0\n",
       " -10.0\n",
       "  -4.0\n",
       "   0.0\n",
       "   5.0\n",
       "  20.0\n",
       "  -1.0"
      ]
     },
     "execution_count": 40,
     "metadata": {},
     "output_type": "execute_result"
    }
   ],
   "source": [
    "arreglo1=[0.0,2.0,3.0,4.0,5.0,6.0,7.0]\n",
    " arreglo2=[10.0,-10.0,-4.0,0,5.0,20.0,-1.0]"
   ]
  },
  {
   "cell_type": "code",
   "execution_count": 41,
   "metadata": {
    "collapsed": false
   },
   "outputs": [
    {
     "data": {
      "text/plain": [
       "7-element Array{Tuple{Int64,Int64},1}:\n",
       " (0, 10) \n",
       " (2, -10)\n",
       " (3, -4) \n",
       " (4, 0)  \n",
       " (5, 5)  \n",
       " (6, 20) \n",
       " (7, -1) "
      ]
     },
     "execution_count": 41,
     "metadata": {},
     "output_type": "execute_result"
    }
   ],
   "source": [
    "[(0,10),(2,-10),(3,-4),(4,0),(5,5),(6,20),(7,-1)]"
   ]
  },
  {
   "cell_type": "code",
   "execution_count": 42,
   "metadata": {
    "collapsed": false
   },
   "outputs": [
    {
     "data": {
      "text/latex": [
       "$$- 0.0686507936507936 y^{6} + 1.3452380952381 y^{5} - 9.83531746031746 y^{4} + 32.5119047619048 y^{3} - 43.3103174603175 y^{2} + 5.92857142857144 y + 10.0$$"
      ],
      "text/plain": [
       "                      6                    5                     4            \n",
       "- 0.0686507936507936*y  + 1.3452380952381*y  - 9.83531746031746*y  + 32.511904\n",
       "\n",
       "         3                     2                            \n",
       "7619048*y  - 43.3103174603175*y  + 5.92857142857144*y + 10.0"
      ]
     },
     "execution_count": 42,
     "metadata": {},
     "output_type": "execute_result"
    }
   ],
   "source": [
    "arreglo1=[0.0,2.0,3.0,4.0,5.0,6.0,7.0]\n",
    " arreglo2=[10.0,-10.0,-4.0,0,5.0,20.0,-1.0]\n",
    "jw=interpolacion(arreglo1,arreglo2)"
   ]
  },
  {
   "cell_type": "code",
   "execution_count": 43,
   "metadata": {
    "collapsed": false
   },
   "outputs": [
    {
     "data": {
      "image/png": "[encoded data removed]",
      "text/plain": [
       "PyPlot.Figure(PyObject <matplotlib.figure.Figure object at 0x7f942ed193d0>)"
      ]
     },
     "metadata": {},
     "output_type": "display_data"
    },
    {
     "data": {
      "text/plain": [
       "PyObject <matplotlib.text.Text object at 0x7f942ed19590>"
      ]
     },
     "execution_count": 43,
     "metadata": {},
     "output_type": "execute_result"
    }
   ],
   "source": [
    "w7=linspace(0.0,7.0,100)\n",
    "arreglo1=[0.0,2.0,3.0,4.0,5.0,6.0,7.0]\n",
    " arreglo2=[10.0,-10.0,-4.0,0,5.0,20.0,-1.0]\n",
    "w5=lambdify(jw).(w7)\n",
    "plot(w7,w5, color=\"red\")\n",
    "scatter(arreglo1,arreglo2)\n",
    "grid()\n",
    "title(\"Polinomio interpolador vs puntos \") # Utilizamos L\"algo\" para que ese algo esté en formato LaTeX\n",
    "grid() #Colocamos la red\n",
    "ylabel(L\"y\")\n",
    "xlabel(L\"x\")"
   ]
  }
 ],
 "metadata": {
  "kernelspec": {
   "display_name": "Julia 0.6.0",
   "language": "julia",
   "name": "julia-0.6"
  },
  "language_info": {
   "file_extension": ".jl",
   "mimetype": "application/julia",
   "name": "julia",
   "version": "0.6.0"
  }
 },
 "nbformat": 4,
 "nbformat_minor": 2
}
