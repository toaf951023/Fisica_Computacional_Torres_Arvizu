{
 "cells": [
  {
   "cell_type": "markdown",
   "metadata": {},
   "source": [
    "# Método de Newton 2\n",
    "## Francisco Ricardo Torrres Arvizu\n",
    "Este código es una segunda forma de aplicar el método de Newton para calcular raices de ecuaciones de la forma $ f(x)= 0$,  se utilizará un ciclo While que se detendrá cuando cumpla la condición  $f(x)\\approx0$, es decir cuando $f(x)<\\epsilon$, este epsilon lo defino como $ 10^{-12} $."
   ]
  },
  {
   "cell_type": "code",
   "execution_count": 31,
   "metadata": {
    "collapsed": false
   },
   "outputs": [
    {
     "data": {
      "text/plain": [
       "newton2 (generic function with 4 methods)"
      ]
     },
     "execution_count": 31,
     "metadata": {},
     "output_type": "execute_result"
    }
   ],
   "source": [
    "function newton2( w0) #se crea una funcion que tome los parametros que reuiera la ecuacion par solucionarse  \n",
    "    w1=w0\n",
    "    w2=0.0\n",
    "    tolerancia=0.000000000001\n",
    " f(x)=(x)*tan(x)-(complex(10-x^(2)))^(1/2)\n",
    " df(x)=tan(x)+(x)*(sec(x))^2+(x)*(complex(10-x^2))^(-1/2)\n",
    "   m=0\n",
    "    while abs(f(w1)) > tolerancia \n",
    "        w2=w1-(f(w1)/df(w1))\n",
    "        w1=w2\n",
    "        m+=1\n",
    "        println(m,\" \",\"iteración\")\n",
    "    end \n",
    "    return w1\n",
    "end "
   ]
  },
  {
   "cell_type": "markdown",
   "metadata": {},
   "source": [
    "Probaré el metodo con los puntos fijos y función dados en clase,"
   ]
  },
  {
   "cell_type": "code",
   "execution_count": 32,
   "metadata": {
    "collapsed": false
   },
   "outputs": [
    {
     "data": {
      "text/plain": [
       "f (generic function with 1 method)"
      ]
     },
     "execution_count": 32,
     "metadata": {},
     "output_type": "execute_result"
    }
   ],
   "source": [
    "f(x)=(x)*tan(x)-(complex(10-x^(2)))^(1/2)"
   ]
  },
  {
   "cell_type": "code",
   "execution_count": null,
   "metadata": {
    "collapsed": true
   },
   "outputs": [],
   "source": []
  },
  {
   "cell_type": "code",
   "execution_count": 33,
   "metadata": {
    "collapsed": false
   },
   "outputs": [
    {
     "name": "stdout",
     "output_type": "stream",
     "text": [
      "1 iteración\n",
      "2 iteración\n",
      "3 iteración\n",
      "4 iteración\n",
      "5 iteración\n"
     ]
    },
    {
     "data": {
      "text/plain": [
       "1.1862608165029145 + 0.0im"
      ]
     },
     "execution_count": 33,
     "metadata": {},
     "output_type": "execute_result"
    }
   ],
   "source": [
    "c=newton2(1.1)"
   ]
  },
  {
   "cell_type": "code",
   "execution_count": 34,
   "metadata": {
    "collapsed": false
   },
   "outputs": [
    {
     "data": {
      "text/plain": [
       "1.3322676295501878e-15 + 0.0im"
      ]
     },
     "execution_count": 34,
     "metadata": {},
     "output_type": "execute_result"
    }
   ],
   "source": [
    "f(c)"
   ]
  },
  {
   "cell_type": "code",
   "execution_count": 35,
   "metadata": {
    "collapsed": false
   },
   "outputs": [
    {
     "name": "stdout",
     "output_type": "stream",
     "text": [
      "1 iteración\n",
      "2 iteración\n",
      "3 iteración\n",
      "4 iteración\n",
      "5 iteración\n",
      "6 iteración\n",
      "7 iteración\n",
      "8 iteración\n",
      "9 iteración\n",
      "10 iteración\n",
      "11 iteración\n",
      "12 iteración\n",
      "13 iteración\n",
      "14 iteración\n",
      "15 iteración\n",
      "16 iteración\n",
      "17 iteración\n",
      "18 iteración\n",
      "19 iteración\n",
      "20 iteración\n",
      "21 iteración\n",
      "22 iteración\n",
      "23 iteración\n"
     ]
    },
    {
     "data": {
      "text/plain": [
       "3.1616420951060653 - 3.0355693044465043e-18im"
      ]
     },
     "execution_count": 35,
     "metadata": {},
     "output_type": "execute_result"
    }
   ],
   "source": [
    "c1=newton2(0.1)"
   ]
  },
  {
   "cell_type": "code",
   "execution_count": 37,
   "metadata": {
    "collapsed": false
   },
   "outputs": [
    {
     "data": {
      "text/plain": [
       "-3.802513859341161e-15 - 1.6104600721687533e-16im"
      ]
     },
     "execution_count": 37,
     "metadata": {},
     "output_type": "execute_result"
    }
   ],
   "source": [
    "f(c1)"
   ]
  },
  {
   "cell_type": "code",
   "execution_count": 36,
   "metadata": {
    "collapsed": false
   },
   "outputs": [
    {
     "name": "stdout",
     "output_type": "stream",
     "text": [
      "1 iteración\n",
      "2 iteración\n",
      "3 iteración\n",
      "4 iteración\n",
      "5 iteración\n",
      "6 iteración\n",
      "7 iteración\n",
      "8 iteración\n",
      "9 iteración\n",
      "10 iteración\n",
      "11 iteración\n",
      "12 iteración\n",
      "13 iteración\n",
      "14 iteración\n"
     ]
    },
    {
     "data": {
      "text/plain": [
       "3.1616420951060653 - 4.8114181325279165e-18im"
      ]
     },
     "execution_count": 36,
     "metadata": {},
     "output_type": "execute_result"
    }
   ],
   "source": [
    "c2=newton2(3.1)"
   ]
  },
  {
   "cell_type": "code",
   "execution_count": 38,
   "metadata": {
    "collapsed": false
   },
   "outputs": [
    {
     "data": {
      "text/plain": [
       "-3.802513859341161e-15 - 2.552600852036159e-16im"
      ]
     },
     "execution_count": 38,
     "metadata": {},
     "output_type": "execute_result"
    }
   ],
   "source": [
    "f(c2)"
   ]
  }
 ],
 "metadata": {
  "kernelspec": {
   "display_name": "Julia 0.6.0",
   "language": "julia",
   "name": "julia-0.6"
  },
  "language_info": {
   "file_extension": ".jl",
   "mimetype": "application/julia",
   "name": "julia",
   "version": "0.6.0"
  }
 },
 "nbformat": 4,
 "nbformat_minor": 2
}
