{
 "cells": [
  {
   "cell_type": "markdown",
   "metadata": {},
   "source": [
    "# Tarea_15\n",
    "## Francisco Ricardo Torres Arvizu"
   ]
  },
  {
   "cell_type": "markdown",
   "metadata": {},
   "source": [
    "## __Ejercicio 1:__ \n",
    "Crear la libreria herramientas dentro de su carpeta de tareas, en su repositorio. Dentro deberán poner los métodos de Newton que construyeron, los métodos de integración, Euler independiente de dimensión (implícito y explícito)y Runge-Kutta independiente de dimensión. Recuerden que las rutinas deben funcionar solo con sus argumentos, no debe haber variables globales, todo lo que necesite la función para trabajar debe ser un argumento o una variable definida internamente.\n",
    "* Las rutinas tienen que llevar su documentación.\n",
    "* Crearán el notebook de la __tarea 15 (para el Martes 17)__ y en el llamarán a su libreria con el comando `import`.\n",
    "* Deberán demostrar que sus rutinas funcionan bien, no se necesitan tests extensos, basta con que muestren que si _corren_ las rutinas."
   ]
  },
  {
   "cell_type": "code",
   "execution_count": 1,
   "metadata": {},
   "outputs": [
    {
     "data": {
      "text/plain": [
       "4-element Array{Any,1}:\n",
       " \"/opt/julia-0.6.0/local/share/julia/site/v0.6\"  \n",
       " \"/opt/julia-0.6.0/share/julia/site/v0.6\"        \n",
       " \"/opt/julia_packages/.julia/v0.6/\"              \n",
       " \"/home/juser/Fisica_Computacional_Torres_Arvizu\""
      ]
     },
     "execution_count": 1,
     "metadata": {},
     "output_type": "execute_result"
    }
   ],
   "source": [
    "\n",
    "push!(LOAD_PATH,pwd())"
   ]
  },
  {
   "cell_type": "code",
   "execution_count": 2,
   "metadata": {},
   "outputs": [
    {
     "name": "stderr",
     "output_type": "stream",
     "text": [
      "\u001b[1m\u001b[36mINFO: \u001b[39m\u001b[22m\u001b[36mRecompiling stale cache file /home/juser/.julia/lib/v0.6/herramientas.ji for module herramientas.\n",
      "\u001b[39m"
     ]
    }
   ],
   "source": [
    "using herramientas"
   ]
  },
  {
   "cell_type": "markdown",
   "metadata": {},
   "source": [
    "## Pruebas"
   ]
  },
  {
   "cell_type": "markdown",
   "metadata": {},
   "source": [
    "### Método de Newton "
   ]
  },
  {
   "cell_type": "code",
   "execution_count": 3,
   "metadata": {},
   "outputs": [
    {
     "name": "stderr",
     "output_type": "stream",
     "text": [
      "WARNING: Compat.UTF8String is deprecated, use String instead.\n",
      "  likely near In[3]:1\n",
      "WARNING: Compat.UTF8String is deprecated, use String instead.\n",
      "  likely near In[3]:1\n",
      "WARNING: Compat.UTF8String is deprecated, use String instead.\n",
      "  likely near In[3]:1\n",
      "in jprint at /home/juser/.julia/v0.6/SymPy/src/display.jl\n"
     ]
    },
    {
     "data": {
      "text/plain": [
       "4.71238898038469"
      ]
     },
     "execution_count": 3,
     "metadata": {},
     "output_type": "execute_result"
    }
   ],
   "source": [
    "herramientas.newton1(x->cos(x), 5)"
   ]
  },
  {
   "cell_type": "code",
   "execution_count": 5,
   "metadata": {},
   "outputs": [
    {
     "data": {
      "text/plain": [
       "-10.0:2.2222222222222223:10.0"
      ]
     },
     "execution_count": 5,
     "metadata": {},
     "output_type": "execute_result"
    }
   ],
   "source": [
    " c=linspace(-10,10,10)\n"
   ]
  },
  {
   "cell_type": "code",
   "execution_count": 6,
   "metadata": {},
   "outputs": [
    {
     "data": {
      "text/plain": [
       "8-element Array{Any,1}:\n",
       " -10.9956 \n",
       "  -7.85398\n",
       "  -4.71239\n",
       "  -1.5708 \n",
       "   1.5708 \n",
       "   7.85398\n",
       "   4.71239\n",
       "  10.9956 "
      ]
     },
     "execution_count": 6,
     "metadata": {},
     "output_type": "execute_result"
    }
   ],
   "source": [
    "herramientas.newtongneral(x->cos(x), c)"
   ]
  },
  {
   "cell_type": "code",
   "execution_count": 8,
   "metadata": {},
   "outputs": [
    {
     "data": {
      "text/markdown": [
       "Esta función aplica el método de Newton si se da un arreglo inicial o punto. Requiere como argumentos (f,w0) que son la función (f) y la condición incial (w0) como entradas (f,w0). En casp\n"
      ],
      "text/plain": [
       "Esta función aplica el método de Newton si se da un arreglo inicial o punto. Requiere como argumentos (f,w0) que son la función (f) y la condición incial (w0) como entradas (f,w0). En casp\n"
      ]
     },
     "execution_count": 8,
     "metadata": {},
     "output_type": "execute_result"
    }
   ],
   "source": [
    "?herramientas.newtongneral"
   ]
  },
  {
   "cell_type": "markdown",
   "metadata": {},
   "source": [
    "### Método de Euler"
   ]
  },
  {
   "cell_type": "code",
   "execution_count": 9,
   "metadata": {},
   "outputs": [
    {
     "data": {
      "text/plain": [
       "2-element Array{Array{Any,1},1}:\n",
       " Any[-5, -4.9999, -4.9998, -4.9997, -4.9996, -4.9995, -4.9994, -4.9993, -4.9992, -4.9991  …  4.9991, 4.9992, 4.9993, 4.9994, 4.9995, 4.9996, 4.9997, 4.9998, 4.9999, 5.0]                                                                                                                                                                                                                                                                                                     \n",
       " Any[[-0.5, 0.7], [-0.499964, 0.700001], [-0.499929, 0.700002], [-0.499893, 0.700003], [-0.499857, 0.700004], [-0.499822, 0.700005], [-0.499786, 0.700006], [-0.49975, 0.700007], [-0.499714, 0.700008], [-0.499679, 0.700009]  …  [-0.0172715, 0.515159], [-0.0172337, 0.515134], [-0.0171958, 0.515109], [-0.017158, 0.515084], [-0.0171202, 0.515059], [-0.0170823, 0.515035], [-0.0170445, 0.51501], [-0.0170066, 0.514985], [-0.0169688, 0.51496], [-0.016931, 0.514935]]"
      ]
     },
     "execution_count": 9,
     "metadata": {},
     "output_type": "execute_result"
    }
   ],
   "source": [
    "herramientas.eulerFunction((t,x)->[x[2]-(x[2])^3,-x[1]-(x[2])^2]\n",
    ",-5,5,[-0.5,0.7],0.0001)"
   ]
  },
  {
   "cell_type": "code",
   "execution_count": 10,
   "metadata": {},
   "outputs": [
    {
     "data": {
      "text/plain": [
       "ycomp (generic function with 1 method)"
      ]
     },
     "execution_count": 10,
     "metadata": {},
     "output_type": "execute_result"
    }
   ],
   "source": [
    "xcomp(x)=x[1]\n",
    "ycomp(x)=x[2]"
   ]
  },
  {
   "cell_type": "code",
   "execution_count": 12,
   "metadata": {},
   "outputs": [],
   "source": [
    "using PyPlot"
   ]
  },
  {
   "cell_type": "code",
   "execution_count": 13,
   "metadata": {},
   "outputs": [
    {
     "data": {
      "image/png": "[encoded data removed]",
      "text/plain": [
       "PyPlot.Figure(PyObject <matplotlib.figure.Figure object at 0x7fae80789ad0>)"
      ]
     },
     "metadata": {},
     "output_type": "display_data"
    },
    {
     "data": {
      "text/plain": [
       "PyObject <matplotlib.text.Text object at 0x7fae80736190>"
      ]
     },
     "execution_count": 13,
     "metadata": {},
     "output_type": "execute_result"
    }
   ],
   "source": [
    "title(\"Solución\")\n",
    "   scatter(herramientas.eulerFunction((t,x)->[x[2]-(x[2])^3,-x[1]-(x[2])^2]\n",
    ",-5,5,[-0.5,0.7],0.0001)[1], xcomp.(herramientas.eulerFunction((t,x)->[x[2]-(x[2])^3,-x[1]-(x[2])^2]\n",
    ",-5,5,[-0.5,0.7],0.0001)[2]), color = \"blue\",s = 10, marker = \"*\")\n",
    "    grid()\n",
    "   ylabel(\"y\")\n",
    "    xlabel(\"x\")"
   ]
  },
  {
   "cell_type": "code",
   "execution_count": 14,
   "metadata": {},
   "outputs": [
    {
     "data": {
      "text/markdown": [
       "Esta función aplica el método de Euler independiente de la dimensión a una función. La función recibe como argumentos (f,time0,timef,y0,delta) la función (f),los puntos incial (time0) y final del intervalo (timef), [t0,tf], las condiciones inciales (y0), y el tamaño de paso (delta).  La función devuelve un arreglo con el intervalo y un arreglo con la solución, aunque habra que extraer la solución si la dimensión es mayor a 1 .  \n"
      ],
      "text/plain": [
       "Esta función aplica el método de Euler independiente de la dimensión a una función. La función recibe como argumentos (f,time0,timef,y0,delta) la función (f),los puntos incial (time0) y final del intervalo (timef), [t0,tf], las condiciones inciales (y0), y el tamaño de paso (delta).  La función devuelve un arreglo con el intervalo y un arreglo con la solución, aunque habra que extraer la solución si la dimensión es mayor a 1 .  \n"
      ]
     },
     "execution_count": 14,
     "metadata": {},
     "output_type": "execute_result"
    }
   ],
   "source": [
    "?herramientas.eulerFunction"
   ]
  },
  {
   "cell_type": "markdown",
   "metadata": {},
   "source": [
    "### Método de Runge-Kutta"
   ]
  },
  {
   "cell_type": "code",
   "execution_count": 16,
   "metadata": {},
   "outputs": [
    {
     "data": {
      "text/plain": [
       "3-element Array{Array{Any,1},1}:\n",
       " Any[-5, -4.9999, -4.9998, -4.9997, -4.9996, -4.9995, -4.9994, -4.9993, -4.9992, -4.9991  …  4.9991, 4.9992, 4.9993, 4.9994, 4.9995, 4.9996, 4.9997, 4.9998, 4.9999, 5.0]                                                                                                                                                                                                                                                                                                       \n",
       " Any[[-0.5, 0.7], [-0.499964, 0.700001], [-0.499929, 0.700002], [-0.499893, 0.700003], [-0.499857, 0.700004], [-0.499822, 0.700005], [-0.499786, 0.700006], [-0.49975, 0.700007], [-0.499714, 0.700008], [-0.499679, 0.700009]  …  [-0.0152873, 0.513746], [-0.0152495, 0.513721], [-0.0152117, 0.513696], [-0.0151739, 0.513671], [-0.015136, 0.513646], [-0.0150982, 0.513621], [-0.0150604, 0.513596], [-0.0150226, 0.513572], [-0.0149848, 0.513547], [-0.014947, 0.513522]]\n",
       " Any[[0.357, 0.01], [0.357, 0.01], [0.357, 0.0099629], [0.356999, 0.00992581], [0.356999, 0.00988872], [0.356998, 0.00985164], [0.356998, 0.00981457], [0.356997, 0.00977749], [0.356997, 0.00974043], [0.356996, 0.00970337]  …  [0.378156, -0.248635], [0.37815, -0.248647], [0.378145, -0.24866], [0.37814, -0.248672], [0.378135, -0.248684], [0.37813, -0.248696], [0.378124, -0.248709], [0.378119, -0.248721], [0.378114, -0.248733], [0.378109, -0.248745]]             "
      ]
     },
     "execution_count": 16,
     "metadata": {},
     "output_type": "execute_result"
    }
   ],
   "source": [
    "herramientas.espaaciofaserungeKutta2e((t,x)->[x[2]-(x[2])^3,-x[1]-(x[2])^2]\n",
    ",-5,5,[-0.5,0.7],0.0001)"
   ]
  },
  {
   "cell_type": "code",
   "execution_count": 17,
   "metadata": {},
   "outputs": [
    {
     "data": {
      "image/png": "[encoded data removed]",
      "text/plain": [
       "PyPlot.Figure(PyObject <matplotlib.figure.Figure object at 0x7fae7a620e90>)"
      ]
     },
     "metadata": {},
     "output_type": "display_data"
    },
    {
     "data": {
      "text/plain": [
       "PyObject <matplotlib.text.Text object at 0x7fae7e6e1890>"
      ]
     },
     "execution_count": 17,
     "metadata": {},
     "output_type": "execute_result"
    }
   ],
   "source": [
    "title(\"Solución\")\n",
    "   scatter(herramientas.espaaciofaserungeKutta2e((t,x)->[x[2]-(x[2])^3,-x[1]-(x[2])^2]\n",
    ",-5,5,[-0.5,0.7],0.0001)[1], xcomp.(herramientas.espaaciofaserungeKutta2e((t,x)->[x[2]-(x[2])^3,-x[1]-(x[2])^2]\n",
    ",-5,5,[-0.5,0.7],0.0001)[2]), color = \"blue\",s = 10, marker = \"*\")\n",
    "    grid()\n",
    "   ylabel(\"y\")\n",
    "    xlabel(\"x\")"
   ]
  },
  {
   "cell_type": "code",
   "execution_count": 18,
   "metadata": {},
   "outputs": [
    {
     "data": {
      "text/markdown": [
       "Esta funcion sirve para resover númericamente ecuaciones diferenciales por el método de Runge-Kutta, ya sean sistemas o de cualquier orden orden.  La función recibecomo argumentos (f,t0,t,y0,delta) una función (f),los puntos incial y final del intervalo [t0,tf], las condiciones inciales (y0), y el tamaño de paso (delta).  La función devuelve un arreglo con el intervalo [t0,tf] , un arreglo con la solución y un arreglo con la derivada en cada punto, es perfecta para hacer espacios fase  \n"
      ],
      "text/plain": [
       "Esta funcion sirve para resover númericamente ecuaciones diferenciales por el método de Runge-Kutta, ya sean sistemas o de cualquier orden orden.  La función recibecomo argumentos (f,t0,t,y0,delta) una función (f),los puntos incial y final del intervalo [t0,tf], las condiciones inciales (y0), y el tamaño de paso (delta).  La función devuelve un arreglo con el intervalo [t0,tf] , un arreglo con la solución y un arreglo con la derivada en cada punto, es perfecta para hacer espacios fase  \n"
      ]
     },
     "execution_count": 18,
     "metadata": {},
     "output_type": "execute_result"
    }
   ],
   "source": [
    "?herramientas.espaaciofaserungeKutta2e"
   ]
  },
  {
   "cell_type": "markdown",
   "metadata": {},
   "source": [
    "### Método de Riemman"
   ]
  },
  {
   "cell_type": "code",
   "execution_count": 19,
   "metadata": {},
   "outputs": [
    {
     "data": {
      "text/plain": [
       "1.9998355038874436"
      ]
     },
     "execution_count": 19,
     "metadata": {},
     "output_type": "execute_result"
    }
   ],
   "source": [
    "herramientas.riemman(0.0, pi, x->sin(x),100)"
   ]
  },
  {
   "cell_type": "code",
   "execution_count": 20,
   "metadata": {},
   "outputs": [
    {
     "data": {
      "text/markdown": [
       "\"Esta función da una integral númerica usando la definición integral de Riemman. Recibe como argumentos (a,b,f,n) el limite inferior (a), el limite superior (b), la función (f),  así como el tamaño de la partición (n).\n"
      ],
      "text/plain": [
       "\"Esta función da una integral númerica usando la definición integral de Riemman. Recibe como argumentos (a,b,f,n) el limite inferior (a), el limite superior (b), la función (f),  así como el tamaño de la partición (n).\n"
      ]
     },
     "execution_count": 20,
     "metadata": {},
     "output_type": "execute_result"
    }
   ],
   "source": [
    "?herramientas.riemman"
   ]
  },
  {
   "cell_type": "markdown",
   "metadata": {},
   "source": [
    "### Regla del trapecio"
   ]
  },
  {
   "cell_type": "code",
   "execution_count": 21,
   "metadata": {},
   "outputs": [
    {
     "data": {
      "text/plain": [
       "1.9998355038874436"
      ]
     },
     "execution_count": 21,
     "metadata": {},
     "output_type": "execute_result"
    }
   ],
   "source": [
    "herramientas.trapecio(0.0, pi, x->sin(x),100)"
   ]
  },
  {
   "cell_type": "code",
   "execution_count": 22,
   "metadata": {},
   "outputs": [
    {
     "data": {
      "text/markdown": [
       "Esta función integra numéricamente la función f(x) en el intervalo [a,b] usando la regla  del trapecio.  Recibe como argumentos (f,a,b,n) que son   el limite inferior (a), el limite superior (b), la función f, así como el tamaño de la partición n.\n"
      ],
      "text/plain": [
       "Esta función integra numéricamente la función f(x) en el intervalo [a,b] usando la regla  del trapecio.  Recibe como argumentos (f,a,b,n) que son   el limite inferior (a), el limite superior (b), la función f, así como el tamaño de la partición n.\n"
      ]
     },
     "execution_count": 22,
     "metadata": {},
     "output_type": "execute_result"
    }
   ],
   "source": [
    "?herramientas.trapecio"
   ]
  },
  {
   "cell_type": "markdown",
   "metadata": {},
   "source": [
    "### Regla de Simpson"
   ]
  },
  {
   "cell_type": "code",
   "execution_count": 23,
   "metadata": {},
   "outputs": [
    {
     "data": {
      "text/plain": [
       "1.9999950652019263"
      ]
     },
     "execution_count": 23,
     "metadata": {},
     "output_type": "execute_result"
    }
   ],
   "source": [
    "herramientas.Simpson(0.0, pi, x->sin(x),1000)"
   ]
  },
  {
   "cell_type": "code",
   "execution_count": 24,
   "metadata": {},
   "outputs": [
    {
     "data": {
      "text/markdown": [
       "Esta función integra numéricamente la función f(x) en el intervalo [a,b] usando la regla  de Simpson.  Recibe como argumentos (a,b,f,n) el limite inferior (a), el limite superior (b), la función (f),  así como el tamaño de la partición (n). \n"
      ],
      "text/plain": [
       "Esta función integra numéricamente la función f(x) en el intervalo [a,b] usando la regla  de Simpson.  Recibe como argumentos (a,b,f,n) el limite inferior (a), el limite superior (b), la función (f),  así como el tamaño de la partición (n). \n"
      ]
     },
     "execution_count": 24,
     "metadata": {},
     "output_type": "execute_result"
    }
   ],
   "source": [
    "?herramientas.Simpson"
   ]
  },
  {
   "cell_type": "markdown",
   "metadata": {},
   "source": [
    "### Método de Euler implicíto"
   ]
  },
  {
   "cell_type": "code",
   "execution_count": 25,
   "metadata": {},
   "outputs": [
    {
     "name": "stderr",
     "output_type": "stream",
     "text": [
      "WARNING: Compat.UTF8String is deprecated, use String instead.\n",
      "  likely near In[25]:1\n",
      "WARNING: Compat.UTF8String is deprecated, use String instead.\n",
      "  likely near In[25]:1\n",
      "WARNING: Compat.UTF8String is deprecated, use String instead.\n",
      "  likely near In[25]:1\n",
      "in jprint at /home/juser/.julia/v0.6/SymPy/src/display.jl\n"
     ]
    },
    {
     "data": {
      "text/plain": [
       "2-element Array{Array{Any,1},1}:\n",
       " Any[0.0, 0.01, 0.02, 0.03, 0.04, 0.05, 0.06, 0.07, 0.08, 0.09  …  4.92, 4.93, 4.94, 4.95, 4.96, 4.97, 4.98, 4.99, 5.0, 5.01]                                                                             \n",
       " Any[0.0, 0.0504411, 0.101199, 0.152148, 0.203159, 0.254104, 0.304851, 0.35527, 0.405228, 0.454594  …  -9.14309, -8.68164, -8.20224, -7.70602, -7.19414, -6.66785, -6.12842, -5.57718, -5.01551, -4.44482]"
      ]
     },
     "execution_count": 25,
     "metadata": {},
     "output_type": "execute_result"
    }
   ],
   "source": [
    "herramientas.eulerFunctionimplicita((t,y)->y-(1/2)*(sin(5*t)*e^((1/2)*t))+5*cos(5*t)*(e^((1/2)*t)),0.0,5.0,0.0,0.01)"
   ]
  },
  {
   "cell_type": "code",
   "execution_count": null,
   "metadata": {},
   "outputs": [],
   "source": [
    "title(\"Solución\")\n",
    "   scatter(herramientas.eulerFunctionimplicita((t,y)->y-(1/2)*(sin(5*t)*e^((1/2)*t))+5*cos(5*t)*(e^((1/2)*t)),0.0,5.0,0.0,0.01)[1], herramientas.eulerFunctionimplicita((t,y)->y-(1/2)*(sin(5*t)*e^((1/2)*t))+5*cos(5*t)*(e^((1/2)*t)),0.0,5.0,0.0,0.01)[2], color = \"blue\",s = 10, marker = \"*\")\n",
    "    grid()\n",
    "   ylabel(\"y\")\n",
    "    xlabel(\"x\")"
   ]
  },
  {
   "cell_type": "code",
   "execution_count": null,
   "metadata": {},
   "outputs": [],
   "source": [
    "?herramientas.eulerFunctionimplicita"
   ]
  },
  {
   "cell_type": "code",
   "execution_count": null,
   "metadata": {},
   "outputs": [],
   "source": []
  }
 ],
 "metadata": {
  "kernelspec": {
   "display_name": "Julia 0.6.0",
   "language": "julia",
   "name": "julia-0.6"
  },
  "language_info": {
   "file_extension": ".jl",
   "mimetype": "application/julia",
   "name": "julia",
   "version": "0.6.0"
  }
 },
 "nbformat": 4,
 "nbformat_minor": 2
}
