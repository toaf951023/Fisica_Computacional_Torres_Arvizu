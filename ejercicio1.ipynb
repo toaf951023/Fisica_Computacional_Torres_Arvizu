{
 "cells": [
  {
   "cell_type": "code",
   "execution_count": 6,
   "metadata": {
    "collapsed": false
   },
   "outputs": [
    {
     "data": {
      "text/plain": [
       "solucionecuacionpozo2 (generic function with 1 method)"
      ]
     },
     "execution_count": 6,
     "metadata": {},
     "output_type": "execute_result"
    }
   ],
   "source": [
    "function solucionecuacionpozo2(x0,w0) #se crea una funcion que tome los parametros que reuiera la ecuacion par solucionarse  \n",
    "    w1=w0\n",
    "    w2=0.0\n",
    "    f(x)=(x)*tan(x)-(complex(x0-x^(2)))^(1/2)\n",
    "    df(x)=tan(x)+(x)*(sec(x))^2+(x)*(complex(x0-x^2))^(1/2)\n",
    "    error=10\n",
    "   m=0\n",
    "    while error > 0.00000000001\n",
    "        w2=w1-(f(w1)/df(w1))\n",
    "        error=abs(w2-w1)\n",
    "        w1=w2\n",
    "        m+=1\n",
    "        println(m,\" \",\"iteración\")\n",
    "    end \n",
    "    return w1\n",
    "   \n",
    "end"
   ]
  },
  {
   "cell_type": "code",
   "execution_count": 7,
   "metadata": {
    "collapsed": false
   },
   "outputs": [
    {
     "data": {
      "text/plain": [
       "F (generic function with 1 method)"
      ]
     },
     "execution_count": 7,
     "metadata": {},
     "output_type": "execute_result"
    }
   ],
   "source": [
    "F(X)=(x)*tan(x)-(complex(10-x^(2)))^(1/2)"
   ]
  },
  {
   "cell_type": "code",
   "execution_count": 9,
   "metadata": {
    "collapsed": false
   },
   "outputs": [
    {
     "name": "stdout",
     "output_type": "stream",
     "text": [
      "1 iteración\n",
      "2 iteración\n",
      "3 iteración\n",
      "4 iteración\n",
      "5 iteración\n",
      "6 iteración\n",
      "7 iteración\n",
      "8 iteración\n",
      "9 iteración\n",
      "10 iteración\n",
      "11 iteración\n",
      "12 iteración\n",
      "13 iteración\n",
      "14 iteración\n",
      "15 iteración\n",
      "16 iteración\n"
     ]
    },
    {
     "data": {
      "text/plain": [
       "1.1862608165020723 - 0.0im"
      ]
     },
     "execution_count": 9,
     "metadata": {},
     "output_type": "execute_result"
    }
   ],
   "source": [
    "c=solucionecuacionpozo2(10,1.1) "
   ]
  },
  {
   "cell_type": "code",
   "execution_count": null,
   "metadata": {
    "collapsed": true
   },
   "outputs": [],
   "source": [
    "F(c)"
   ]
  },
  {
   "cell_type": "code",
   "execution_count": null,
   "metadata": {
    "collapsed": true
   },
   "outputs": [],
   "source": []
  },
  {
   "cell_type": "code",
   "execution_count": null,
   "metadata": {
    "collapsed": true
   },
   "outputs": [],
   "source": []
  }
 ],
 "metadata": {
  "kernelspec": {
   "display_name": "Julia 0.6.0",
   "language": "julia",
   "name": "julia-0.6"
  },
  "language_info": {
   "file_extension": ".jl",
   "mimetype": "application/julia",
   "name": "julia",
   "version": "0.6.0"
  }
 },
 "nbformat": 4,
 "nbformat_minor": 2
}
