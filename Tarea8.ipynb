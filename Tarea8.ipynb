{
 "cells": [
  {
   "cell_type": "markdown",
   "metadata": {
    "collapsed": true
   },
   "source": [
    "## Tarea_8\n",
    "## Fracisco Ricardo Torres Arvizu"
   ]
  },
  {
   "cell_type": "markdown",
   "metadata": {},
   "source": [
    "\n"
   ]
  },
  {
   "cell_type": "markdown",
   "metadata": {},
   "source": [
    "## Ejercicio 1.\n",
    "Escribe una función derivadaNumerica que reciba: una función $f\\colon \\mathbb{R}\\mapsto\\mathbb{R}$, un punto $x_0\\in\\mathbb{R}$ y un número $h\\in\\mathbb{R}$. Esta función deberá calcular una aproximación a la derivada utilizando la definición indicada arriba ignorando la parte del límite. Es decir, algo como: derivada_numerica(f,x,h)."
   ]
  },
  {
   "cell_type": "code",
   "execution_count": 2,
   "metadata": {
    "collapsed": false
   },
   "outputs": [
    {
     "data": {
      "text/plain": [
       "derivadanumerica (generic function with 1 method)"
      ]
     },
     "execution_count": 2,
     "metadata": {},
     "output_type": "execute_result"
    }
   ],
   "source": [
    "function derivadanumerica(f::Function,x0,h)\n",
    "    df(x)=(f(x+h)-f(x))*(1/h)\n",
    "    dfv=df(x0)\n",
    "    \n",
    "    return dfv\n",
    "end"
   ]
  },
  {
   "cell_type": "code",
   "execution_count": 3,
   "metadata": {
    "collapsed": false
   },
   "outputs": [
    {
     "data": {
      "text/plain": [
       "2.0000001010878066"
      ]
     },
     "execution_count": 3,
     "metadata": {},
     "output_type": "execute_result"
    }
   ],
   "source": [
    "derivadanumerica(x->x^2,1,0.0000001)\n"
   ]
  },
  {
   "cell_type": "code",
   "execution_count": 4,
   "metadata": {
    "collapsed": false
   },
   "outputs": [
    {
     "data": {
      "text/plain": [
       "1.0000000005838672"
      ]
     },
     "execution_count": 4,
     "metadata": {},
     "output_type": "execute_result"
    }
   ],
   "source": [
    "derivadanumerica(x->x,1,0.0000001)"
   ]
  },
  {
   "cell_type": "code",
   "execution_count": 5,
   "metadata": {
    "collapsed": false
   },
   "outputs": [
    {
     "data": {
      "text/plain": [
       "-1.0000000005838656"
      ]
     },
     "execution_count": 5,
     "metadata": {},
     "output_type": "execute_result"
    }
   ],
   "source": [
    "derivadanumerica(x->cos(x),0.5*pi,0.0000001)"
   ]
  },
  {
   "cell_type": "markdown",
   "metadata": {},
   "source": [
    "## Ejercicio 7:\n",
    "Explotar la relación $\\delta_h=\\Delta_h-\\Delta_{-h}$, donde $\\delta_h:f(x)\\mapsto f(x+h)-f(x-h)$, para encontrar cual es la función $\\theta$ que relaciona a $\\delta_h$ con el operador derivada exacta, es decir: $$\\delta_h=\\theta\\left(h\\left. \\frac{d}{d\\xi}\\right|_{\\xi=x}\\right).$$\n",
    "Una vez que la encuentren, despejen $\\left. \\frac{d}{d\\xi}\\right|_{\\xi=x}$"
   ]
  },
  {
   "cell_type": "markdown",
   "metadata": {},
   "source": [
    "## Solución\n",
    "Se sabe que $\\phi(x)=e^x-1$, además\n",
    "$\\Delta_h$ y $\\Delta_{-h}$ se definen de la siguiente manera: $$\\Delta_h=\\exp{\\left(h\\left.\\frac{d}{d\\xi}\\right|_{\\substack{ \\xi=x }}\\right)}-1$$\n",
    "$$\\Delta_{-h}=\\exp{\\left(-h\\left.\\frac{d}{d\\xi}\\right|_{\\substack{ \\xi=x }}\\right)}-1$$ Sustituyendo y simplificando en $\\delta_h$:\n",
    "$$\\delta_h=\\exp{\\left(h\\left.\\frac{d}{d\\xi}\\right|_{\\substack{ \\xi=x }}\\right)}-1-(\\exp{\\left(-h\\left.\\frac{d}{d\\xi}\\right|_{\\substack{ \\xi=x }}\\right)}-1)$$\n",
    " $$\\delta_h=\\exp{\\left(h\\left.\\frac{d}{d\\xi}\\right|_{\\substack{ \\xi=x }}\\right)} -\\exp{\\left(-h\\left.\\frac{d}{d\\xi}\\right|_{\\substack{ \\xi=x }}\\right)}$$\n",
    "Como \n",
    "$\\sinh{x} = \\frac{e^{x} - e^{-x}}{2}$\n",
    "entonces \n",
    "$\\delta_h= 2\\sinh{\\left(h\\left.\\frac{d}{d\\xi}\\right|_{\\substack{ \\xi=x }}\\right)} $\n",
    "Se puede despejar  $\\left. \\frac{d}{d\\xi}\\right|_{\\xi=x}$ :\n",
    "$ \\left. \\frac{d}{d\\xi}\\right|_{\\xi=x} = \\frac{1}{h}\\sinh^{ - 1}{\\left(\\frac{\\delta_h}{2}\\right)}$\n",
    "se calcula la serie de Taylor con la expansion binomial y la derivada de $\\sinh^{-1}{x}$,  ($ \\frac{1}{\\sqrt¨{1+x^2}}$),después se intregra y se obtiene que \n",
    "\n",
    "$$ \\left. \\frac{df(\\xi)}{d\\xi}\\right|_{\\xi=x} = \\frac{df(x)}{dx} = \\frac{1}{h}\\sinh^{ - 1}{\\left(\\frac{\\delta_h}{2}\\right)}f(x)\n",
    "= \\frac{1}{h} \\sum_{n = 0}^{\\infty} \\frac{(-1)^n (2n)!}{2^{2n} (n!)^2}\\left(\\frac{\\delta}{2}\\right)^{2n}f(x)=\\left(\\left(\\frac{\\delta}{2}\\right)-\\frac{\\left(\\frac{\\delta}{2}\\right) ^ 3}{6} + \\frac{3 \\left(\\frac{\\delta}{2}\\right) ^ 5}{40}-\\frac{5 \\left(\\frac{\\delta}{2}\\right) ^7 }{112}+...\\right)f(x)$$\n",
    "de mánera similar a lo mostrado en las ecuaciones 3 y 4."
   ]
  },
  {
   "cell_type": "code",
   "execution_count": null,
   "metadata": {
    "collapsed": true
   },
   "outputs": [],
   "source": []
  }
 ],
 "metadata": {
  "kernelspec": {
   "display_name": "Julia 0.6.0",
   "language": "julia",
   "name": "julia-0.6"
  },
  "language_info": {
   "file_extension": ".jl",
   "mimetype": "application/julia",
   "name": "julia",
   "version": "0.6.0"
  }
 },
 "nbformat": 4,
 "nbformat_minor": 2
}
