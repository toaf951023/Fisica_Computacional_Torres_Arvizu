{
 "cells": [
  {
   "cell_type": "markdown",
   "metadata": {},
   "source": [
    "## Tarea 5 para el Martes 29 de Agosto\n",
    "Hacer un notebook en su repositorio de Tareas que contenga una breve explicación de como funcionan los siguientes métodos de integración:\n",
    "Método de integración de Riemann, es decír, tomando la definición de integral de Riemann con diferencias finitas.\n",
    "Regla del trapecio.\n",
    "Regla de Simpson de orden 2, es decir, interpolando con polinomios de orden 2."
   ]
  },
  {
   "cell_type": "markdown",
   "metadata": {},
   "source": [
    "### Método de la integral de Riemman "
   ]
  },
  {
   "cell_type": "markdown",
   "metadata": {},
   "source": [
    "El método de la integral de Riemman se basa trazar un número finito de rectángulos dentro de un área irregular, calcular el área de cada uno de ellos y sumarlos. \n",
    "Primeramente se hace una partición finita del intervalo $[ a,b]$  a integrar, que tiene  la siguiente forma \n",
    " $$ P=\\{x_0=a,x_1,...,x_{n-1},x_n=b\\} $$\n",
    " de la partición se obtienen los intervalos $(x_{k}-x_{k-1})$.\n",
    " Estos intervalos seran las bases del los rectángulos y las alturas serán los $f(x_k)$.\n",
    "Después de que se tiene la partición, se calculan las sumas de Riemman que se definen como \n",
    "$$S=\\sum_{i=0}^{n}f(x_k)(x_{k}-x_{k-1})$$\n",
    "\n",
    "Estas sumas nos permitirán aproximarnos a la integral. Si hacemos una partición uniforme, $(x_{k}-x_{k-1}=\\frac{b-a}{n})$, entonces, todos los intervalos $(x_{k}-x_{k-1})$ serán iguales, por  lo tanto se tiene que \n",
    "$$S=\\frac{b-a}{n}\\sum_{k=0}^{n}f(x_k)$$\n",
    "donde cada $x_k=a+k\\frac{b-a}{n}$\n",
    ". Conforme $ n \\to \\infty $, es decir, la partición se vuelve mas fina, la suma de Riemma se aproxima a la integral. Entonces finalmente se tiene que :\n",
    "$$\\int_{a}^{b} f(x)dx \\approx \\frac{b-a}{n}\\sum_{k=0}^{n}f(x_{k})$$\n",
    "\n",
    "\n",
    "\n",
    " "
   ]
  },
  {
   "cell_type": "markdown",
   "metadata": {},
   "source": [
    "### Regla del trapecio"
   ]
  },
  {
   "cell_type": "markdown",
   "metadata": {},
   "source": [
    "La regla del trapecio o trapezoidal esta dada por \n",
    "$$ \\int_{a}^{b} f(x)dx \\sim \\Delta_1 x \\frac{f(a)+f(x_1)}{2}+...+\\Delta_{n} x \\frac{f(x_{n-1})+f(b)}{2}\t\t $$\n",
    "En este método se remplazan los rectangulos por trapezoides,Si suponemos la función $f(x)$ continua en el intervalo $[ a,b]$ , podemos ver que \n",
    "$$ f(x^*)=\\frac{f(a)+f(x_1)}{2} $$\n",
    "para alcuna eleccion de $x_1^*$ para alguna eleccción de $ a$ y $ x_1$, de manera que \n",
    "$$\\Delta_1 x \\frac{f(a)-f(x_1)}{2}=f(x^*)\\Delta_1 x $$.\n",
    "En otras palabras, la regla trapezoidal simplemente es un manera especial de elegir los puntos $ x^*_1, x^*_2, ...,x^*_n $ en $$\\int_{a}^{b} f(x)dx \\approx \\sum_{i=0}^{n}f(x_k)(x_{k}-x_{k-1})$$.\n",
    "\n",
    "Con respecto a una curva simple la regla trapezoidal dará un resultado que el metodo de las sumas de Riemman.\n",
    "Si hamos todos los intervalos $(x_{k}-x_{k-1})$ iguales a $\\frac{b-a}{n}$ de tal manera que $\\Delta x_k=\\frac{b-a}{n}$, entonces la regla trpezoidal se convierte en \n",
    "$$ \\int_{a}^{b} f(x)dx \\sim \\frac{b-a}{2n}[f(a)+2f(x_1)+2f(x_2)+...+2f(x_{n-1})+f(b)] $$"
   ]
  },
  {
   "cell_type": "markdown",
   "metadata": {},
   "source": [
    "### Regla de Simpson"
   ]
  },
  {
   "cell_type": "markdown",
   "metadata": {},
   "source": [
    "La Regla de Simpson esta dada por \n",
    "$$ \\int_{a}^{b} f(x)dx \\sim \\Delta_1 x \\frac{f(a)+4f(x_1)+f(x_2)}{3}+\\Delta_3 x \\frac{f(x_2)+4f(x_3)+f(x_4)}{3} +...+\\Delta_{2n-1} x \\frac{f(x_{2n-2})+4f(x_{2n-1})+f(b)}{3}  $$\n",
    "En este método el intervalo $[ a,b]$se subdivide en un número de subintervalos par ($2n$), mediante los puntos $a=x_0,x_1,...,x_n=b$ y además\n",
    "$\\Delta_1 x=x_1-x_0=x_2-x_1$,   $\\Delta_1 x=x_3-x_2=x_4-x_3$,  $ ....$;\n",
    "es decir, los dos primeros subintervalos son iguales,  los siguintes dos son iguales \n",
    "y así sucesivamente . \n",
    "La Regla de simpson se basa en la idea de remplazar  la curva $y=f(x)$ comprenddida entre x_0 y x_2, por la parabolaa \n",
    "$$y=Ax^2+Bx+C$$\n",
    "ue coincide con  $y=f(x)$ para $x=x_0$,$x=x_1$,$x=x_2$. Se muestra que elárea bajo la parábola, solo depende de los valores de $f(x)$ en estos tres puntos y que igual a\n",
    "$$\\Delta_1 x \\frac{f(a)+4f(x_1)+f(x_2)}{3}$$, esto es el primer término de la primera ecuación; los otros terminos se obtienen de la misma manera. Para una función lisa $f(x)$ el área bajo la parabóla dará una buena aproximación al área bajo la curva dada.\n",
    "Si todas laas subidivisiones se escogen iguales, de manera que $\\Delta_1x=\\Delta_3x=...=\\frac{(b-a)}{2n}$, entonces la Regla de Simpson adquiere una forma más simple \n",
    "$$ \\int_{a}^{b} f(x)dx \\sim \\frac{b-a}{6n}[f(a)+4f(x_1)+2f(x_2)+4f(x_3)+...+2f(x_{2n-2})+4f(x_{2n-1})+f(b)] $$\n",
    "La Regla de Simpson se puede interpretar como un caso especial de la suma de Riemman, la expresión \n",
    "$$\\Delta_1 x \\frac{f(a)+4f(x_1)+f(x_2)}{3}$$ \n",
    "se puede escribir como \n",
    "$$2\\Delta_1 x \\frac{f(a)+4f(x_1)+f(x_2)}{6}$$\n",
    "esto es, como la anchura de de $\\Delta x$ del intervlo $x_0$ a $x_2$ por un promedio ponderado de los valores de los valores de $f(x)$ en los extremos y enel centro de este intervalo. Fácilmante se muestra que la continuidad de $f(x)$ implica la existencia de un xalor $x^*$ entres $x_0$ y $x_2$, tal que este promedio ponderado es precisamente $f(x^*)$.Por lo tanto se puede escribir\n",
    "$$\\Delta_1 x \\frac{f(a)+4f(x_1)+f(x_2)}{3}$$ \n",
    "como $\\Delta x\\cdot f(x)$, esto es prescisamente el área de un rectángulo  de base $\\Delta x $. Si se hace esto con otros términos de de la Regla de Simpson, se obtiene la forma de la suma de Riemman. \n",
    "Entonces conforme $\\Delta_i \\to 0 $, es decir, el numero de subdivisiones aumenta, entonces la regla de Simson tiende a la integral comolimite. \n",
    "Si $f(x)$ es un polinomio de segundo grado en x, entonces la regla de Simpson debe, por supuesto, dar el valor preciso de la integral. Resulta interesante observar que esto sigue siendo cierto si $f(x)=Ax^3+Bx^2+Cx+D$, si $f(x)$ esun polinomio de tercer grado. "
   ]
  },
  {
   "cell_type": "markdown",
   "metadata": {},
   "source": [
    "### Bibliografía\n",
    "- Kaplan, Wilfred (!973).Cálculo Avanzado. CECSA. \n",
    "- https://www.zweigmedia.com/MundoReal/integral/numint.html"
   ]
  },
  {
   "cell_type": "code",
   "execution_count": null,
   "metadata": {
    "collapsed": true
   },
   "outputs": [],
   "source": []
  }
 ],
 "metadata": {
  "kernelspec": {
   "display_name": "Julia 0.6.0",
   "language": "julia",
   "name": "julia-0.6"
  },
  "language_info": {
   "file_extension": ".jl",
   "mimetype": "application/julia",
   "name": "julia",
   "version": "0.6.0"
  }
 },
 "nbformat": 4,
 "nbformat_minor": 2
}
