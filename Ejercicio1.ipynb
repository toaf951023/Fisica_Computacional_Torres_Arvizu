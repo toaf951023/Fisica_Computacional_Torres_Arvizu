{
 "cells": [
  {
   "cell_type": "code",
   "execution_count": 3,
   "metadata": {
    "collapsed": false
   },
   "outputs": [
    {
     "data": {
      "text/plain": [
       "newton (generic function with 1 method)"
      ]
     },
     "execution_count": 3,
     "metadata": {},
     "output_type": "execute_result"
    }
   ],
   "source": [
    "function newton(f::Function, df::Function, w0::Float64) #se crea una funcion que tome los parametros que reuiera la ecuacion par solucionarse  \n",
    "    w1=w0\n",
    "    w2=0.0\n",
    "    tolerancia=0.000000000001\n",
    "    error=0.001\n",
    "   m=0\n",
    "    while error >  tolerancia\n",
    "        w2=w1-(f(w1)/df(w1))\n",
    "        error=abs(w2-w1)\n",
    "        w1=w2\n",
    "        m+=1\n",
    "        println(m,\" \",\"iteración\")\n",
    "    end \n",
    "    return w1\n",
    "   \n",
    "end"
   ]
  },
  {
   "cell_type": "code",
   "execution_count": 4,
   "metadata": {
    "collapsed": false
   },
   "outputs": [
    {
     "data": {
      "text/plain": [
       "f (generic function with 1 method)"
      ]
     },
     "execution_count": 4,
     "metadata": {},
     "output_type": "execute_result"
    }
   ],
   "source": [
    "f(x)=(x)*tan(x)-(complex(10-x^(2)))^(1/2)"
   ]
  },
  {
   "cell_type": "code",
   "execution_count": 5,
   "metadata": {
    "collapsed": false
   },
   "outputs": [
    {
     "name": "stdout",
     "output_type": "stream",
     "text": [
      "1 iteración\n",
      "2 iteración\n",
      "3 iteración\n",
      "4 iteración\n",
      "5 iteración\n",
      "6 iteración\n"
     ]
    },
    {
     "data": {
      "text/plain": [
       "1.1862608165029143 + 0.0im"
      ]
     },
     "execution_count": 5,
     "metadata": {},
     "output_type": "execute_result"
    }
   ],
   "source": [
    "c=newton(x->(x)*tan(x)-(complex(10-x^(2)))^(1/2),x->tan(x)+(x)*(sec(x))^2+(x)*(complex(10-x^2))^(-1/2),1.1)"
   ]
  },
  {
   "cell_type": "code",
   "execution_count": 6,
   "metadata": {
    "collapsed": false
   },
   "outputs": [
    {
     "data": {
      "text/plain": [
       "-1.7763568394002505e-15 + 0.0im"
      ]
     },
     "execution_count": 6,
     "metadata": {},
     "output_type": "execute_result"
    }
   ],
   "source": [
    "f(c)"
   ]
  },
  {
   "cell_type": "code",
   "execution_count": 7,
   "metadata": {
    "collapsed": false
   },
   "outputs": [
    {
     "name": "stdout",
     "output_type": "stream",
     "text": [
      "1 iteración\n",
      "2 iteración\n",
      "3 iteración\n",
      "4 iteración\n",
      "5 iteración\n",
      "6 iteración\n",
      "7 iteración\n",
      "8 iteración\n",
      "9 iteración\n",
      "10 iteración\n",
      "11 iteración\n",
      "12 iteración\n",
      "13 iteración\n",
      "14 iteración\n",
      "15 iteración\n",
      "16 iteración\n",
      "17 iteración\n",
      "18 iteración\n",
      "19 iteración\n",
      "20 iteración\n",
      "21 iteración\n",
      "22 iteración\n",
      "23 iteración\n",
      "24 iteración\n"
     ]
    },
    {
     "data": {
      "text/plain": [
       "3.1616420951060653 + 1.6023737137301802e-31im"
      ]
     },
     "execution_count": 7,
     "metadata": {},
     "output_type": "execute_result"
    }
   ],
   "source": [
    "c1=newton(x->(x)*tan(x)-(complex(10-x^(2)))^(1/2),x->tan(x)+(x)*(sec(x))^2+(x)*(complex(10-x^2))^(-1/2),0.1)"
   ]
  },
  {
   "cell_type": "code",
   "execution_count": 8,
   "metadata": {
    "collapsed": false
   },
   "outputs": [
    {
     "data": {
      "text/plain": [
       "-3.802513859341161e-15 + 8.501070566483903e-30im"
      ]
     },
     "execution_count": 8,
     "metadata": {},
     "output_type": "execute_result"
    }
   ],
   "source": [
    "f(c1)"
   ]
  },
  {
   "cell_type": "code",
   "execution_count": 9,
   "metadata": {
    "collapsed": false
   },
   "outputs": [
    {
     "name": "stdout",
     "output_type": "stream",
     "text": [
      "1 iteración\n",
      "2 iteración\n",
      "3 iteración\n",
      "4 iteración\n",
      "5 iteración\n",
      "6 iteración\n",
      "7 iteración\n",
      "8 iteración\n",
      "9 iteración\n",
      "10 iteración\n",
      "11 iteración\n",
      "12 iteración\n",
      "13 iteración\n",
      "14 iteración\n",
      "15 iteración\n"
     ]
    },
    {
     "data": {
      "text/plain": [
       "3.1616420951060653 + 2.5499312463687003e-31im"
      ]
     },
     "execution_count": 9,
     "metadata": {},
     "output_type": "execute_result"
    }
   ],
   "source": [
    "c2=newton(x->(x)*tan(x)-(complex(10-x^(2)))^(1/2),x->tan(x)+(x)*(sec(x))^2+(x)*(complex(10-x^2))^(-1/2),3.1)"
   ]
  },
  {
   "cell_type": "code",
   "execution_count": 10,
   "metadata": {
    "collapsed": false
   },
   "outputs": [
    {
     "data": {
      "text/plain": [
       "-3.802513859341161e-15 + 1.3528145949548903e-29im"
      ]
     },
     "execution_count": 10,
     "metadata": {},
     "output_type": "execute_result"
    }
   ],
   "source": [
    "f(c2)"
   ]
  },
  {
   "cell_type": "code",
   "execution_count": null,
   "metadata": {
    "collapsed": true
   },
   "outputs": [],
   "source": []
  }
 ],
 "metadata": {
  "kernelspec": {
   "display_name": "Julia 0.6.0",
   "language": "julia",
   "name": "julia-0.6"
  },
  "language_info": {
   "file_extension": ".jl",
   "mimetype": "application/julia",
   "name": "julia",
   "version": "0.6.0"
  }
 },
 "nbformat": 4,
 "nbformat_minor": 2
}
