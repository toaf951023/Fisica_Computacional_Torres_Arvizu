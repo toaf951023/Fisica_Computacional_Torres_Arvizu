{
 "cells": [
  {
   "cell_type": "markdown",
   "metadata": {},
   "source": [
    "# Tarea 9\n",
    "## Francisco Ricardo Torres Arvizu"
   ]
  },
  {
   "cell_type": "markdown",
   "metadata": {},
   "source": [
    "\n",
    "La idea detrás de las diferencias finitas es la de aproximar la derivada de una función $f$ en un punto $x_0$. En primer lugar, recordamos la definición de la derivada: $$\n",
    "f'(x) = \\lim_{h\\to0}\\frac{f(x+h)-f(x)}{h}.\n",
    "$$\n",
    "La derivada numérica hacia adelante se define simplemente sustituyendo el límite por valores pequeños de $h$, digamos $0.1$ o $0.01$ típicamente."
   ]
  },
  {
   "cell_type": "markdown",
   "metadata": {},
   "source": [
    "Se copia la función de derivada numérica para hacer el ejercicio 1"
   ]
  },
  {
   "cell_type": "code",
   "execution_count": 1,
   "metadata": {
    "collapsed": false
   },
   "outputs": [
    {
     "data": {
      "text/plain": [
       "derivadanumerica (generic function with 1 method)"
      ]
     },
     "execution_count": 1,
     "metadata": {},
     "output_type": "execute_result"
    }
   ],
   "source": [
    "function derivadanumerica(f::Function,x0,h)\n",
    "    df(x)=(f(x+h)-f(x))*(1/h)\n",
    "    dfv=df(x0)\n",
    "    \n",
    "    return dfv\n",
    "end\n"
   ]
  },
  {
   "cell_type": "code",
   "execution_count": 2,
   "metadata": {
    "collapsed": false
   },
   "outputs": [
    {
     "data": {
      "text/plain": [
       "2.0000001010878066"
      ]
     },
     "execution_count": 2,
     "metadata": {},
     "output_type": "execute_result"
    }
   ],
   "source": [
    "derivadanumerica(x->x^2,1,0.0000001)"
   ]
  },
  {
   "cell_type": "markdown",
   "metadata": {},
   "source": [
    "\n",
    "### Ejercicio 2. \n",
    "Utiliza tu función derivadaNumerica para calcular la derivada de la función $\\cos$ en un punto $x_0\\in[0,1)$. Compara tu resultado con el que indica el cálculo exacto. Utiliza valores de $h$ cada vez más pequeños, grafica el comportamiento de la derivada y muestra como converge al valor exacto conforme tomamos $h$'s cada vez más pequeño. Para ello pueden graficar el resultado de la derivada numérica contra $1/h$. Observa el resultado de la aproximación y comenta. ¿El error es del orden de $h$?, para ver esto grafica el error relativo a $f'(x_0)$: $$\\epsilon=\\frac{\\Delta f(x_0,h)/h-f'(x_0)}{f'(x_0)},$$ respecto a $h$."
   ]
  },
  {
   "cell_type": "markdown",
   "metadata": {},
   "source": [
    "## El punto que use para hacer el análisis en los ejercios 2, 4 fue $ \\pi/4$"
   ]
  },
  {
   "cell_type": "markdown",
   "metadata": {},
   "source": [
    "### Solución \n",
    "Se crea una función que nos entregue la derivada exacta usando SymPy "
   ]
  },
  {
   "cell_type": "code",
   "execution_count": 3,
   "metadata": {
    "collapsed": false
   },
   "outputs": [
    {
     "name": "stderr",
     "output_type": "stream",
     "text": [
      "\u001b[1m\u001b[36mINFO: \u001b[39m\u001b[22m\u001b[36mPackage SymPy is already installed\n",
      "\u001b[39m\u001b[1m\u001b[36mINFO: \u001b[39m\u001b[22m\u001b[36mMETADATA is out-of-date — you may not have the latest version of SymPy\n",
      "\u001b[39m\u001b[1m\u001b[36mINFO: \u001b[39m\u001b[22m\u001b[36mUse `Pkg.update()` to get the latest versions of your packages\n",
      "\u001b[39m"
     ]
    }
   ],
   "source": [
    "Pkg.add(\"SymPy\")"
   ]
  },
  {
   "cell_type": "code",
   "execution_count": 4,
   "metadata": {
    "collapsed": true
   },
   "outputs": [],
   "source": [
    "using SymPy"
   ]
  },
  {
   "cell_type": "code",
   "execution_count": 5,
   "metadata": {
    "collapsed": false
   },
   "outputs": [
    {
     "data": {
      "text/plain": [
       "(A, x, a, n, m)"
      ]
     },
     "execution_count": 5,
     "metadata": {},
     "output_type": "execute_result"
    },
    {
     "name": "stderr",
     "output_type": "stream",
     "text": [
      "WARNING: Compat.UTF8String is deprecated, use String instead.\n",
      "  likely near /opt/julia_packages/.julia/v0.6/IJulia/src/kernel.jl:31\n",
      "WARNING: Compat.UTF8String is deprecated, use String instead.\n",
      "  likely near /opt/julia_packages/.julia/v0.6/IJulia/src/kernel.jl:31\n",
      "WARNING: Compat.UTF8String is deprecated, use String instead.\n",
      "  likely near /opt/julia_packages/.julia/v0.6/IJulia/src/kernel.jl:31\n",
      "in jprint at /home/juser/.julia/v0.6/SymPy/src/display.jl\n"
     ]
    }
   ],
   "source": [
    "A,x,a,n,m=symbols(\"A,x,a,n,m\")"
   ]
  },
  {
   "cell_type": "code",
   "execution_count": 6,
   "metadata": {
    "collapsed": false
   },
   "outputs": [
    {
     "data": {
      "text/plain": [
       "dif (generic function with 1 method)"
      ]
     },
     "execution_count": 6,
     "metadata": {},
     "output_type": "execute_result"
    }
   ],
   "source": [
    "function dif(f::Function)\n",
    "\n",
    " \n",
    "    df= diff(f(x),x)\n",
    "\n",
    "return df\n",
    "end "
   ]
  },
  {
   "cell_type": "markdown",
   "metadata": {},
   "source": [
    "Luego se construye una función que compare la dervada numérica con la real usando el error propuesto."
   ]
  },
  {
   "cell_type": "code",
   "execution_count": 7,
   "metadata": {
    "collapsed": false
   },
   "outputs": [
    {
     "data": {
      "text/plain": [
       "derivadanumericavsreal (generic function with 1 method)"
      ]
     },
     "execution_count": 7,
     "metadata": {},
     "output_type": "execute_result"
    }
   ],
   "source": [
    "function derivadanumericavsreal(f::Function,x0,h)\n",
    "    df2=derivadanumerica(f,x0,h)\n",
    "    dfr=dif(f)\n",
    "    dfj=lambdify( dfr,[x]);\n",
    "    epsilon=abs((df2-dfj(x0))*(1/dfj(x0)))\n",
    "    return epsilon\n",
    "end\n"
   ]
  },
  {
   "cell_type": "markdown",
   "metadata": {},
   "source": [
    "Se crea otra función que grafique estos puntos con respecto a h"
   ]
  },
  {
   "cell_type": "code",
   "execution_count": 8,
   "metadata": {
    "collapsed": false
   },
   "outputs": [
    {
     "data": {
      "text/plain": [
       "creadoradeyk (generic function with 1 method)"
      ]
     },
     "execution_count": 8,
     "metadata": {},
     "output_type": "execute_result"
    }
   ],
   "source": [
    "function creadoradeyk(f::Function,x0)\n",
    "    yk=[]\n",
    "    hs=linspace(0.001,0.1,100)\n",
    "    g=0.0         \n",
    "    for i in 1:100\n",
    "      h=hs[i]\n",
    "         g=abs(derivadanumericavsreal(f,x0,h))\n",
    "        \n",
    "        \n",
    "        push!(yk,g)\n",
    "    end\n",
    "    return yk\n",
    "end"
   ]
  },
  {
   "cell_type": "code",
   "execution_count": 9,
   "metadata": {
    "collapsed": true
   },
   "outputs": [],
   "source": [
    "using PyPlot"
   ]
  },
  {
   "cell_type": "code",
   "execution_count": 10,
   "metadata": {
    "collapsed": false
   },
   "outputs": [
    {
     "data": {
      "image/png": "[encoded data removed]",
      "text/plain": [
       "PyPlot.Figure(PyObject <matplotlib.figure.Figure object at 0x7fe3e56ec2d0>)"
      ]
     },
     "metadata": {},
     "output_type": "display_data"
    },
    {
     "name": "stderr",
     "output_type": "stream",
     "text": [
      "WARNING: Compat.UTF8String is deprecated, use String instead.\n",
      "  likely near In[10]:1\n",
      "WARNING: Compat.UTF8String is deprecated, use String instead.\n",
      "  likely near In[10]:1\n",
      "WARNING: Compat.UTF8String is deprecated, use String instead.\n",
      "  likely near In[10]:1\n",
      "in jprint at /home/juser/.julia/v0.6/SymPy/src/display.jl\n"
     ]
    },
    {
     "data": {
      "text/plain": [
       "PyObject <matplotlib.text.Text object at 0x7fe3e5700b90>"
      ]
     },
     "execution_count": 10,
     "metadata": {},
     "output_type": "execute_result"
    }
   ],
   "source": [
    "scatter(linspace(0.001,0.1,100),creadoradeyk(x->cos(x),pi/4))\n",
    "grid()\n",
    "title(\"Error de la derivada numérica \")\n",
    "ylabel(L\"Error\")\n",
    "xlabel(L\"h\")"
   ]
  },
  {
   "cell_type": "markdown",
   "metadata": {},
   "source": [
    "Se usa otra función para ver la convergencia de la derivada y el error con respecto a $\\frac{1}{h}$."
   ]
  },
  {
   "cell_type": "code",
   "execution_count": 11,
   "metadata": {
    "collapsed": false
   },
   "outputs": [
    {
     "data": {
      "text/plain": [
       "creadoradeyk2 (generic function with 1 method)"
      ]
     },
     "execution_count": 11,
     "metadata": {},
     "output_type": "execute_result"
    }
   ],
   "source": [
    "using SymPy\n",
    "using PyPlot\n",
    "plt = PyPlot\n",
    "\n",
    "function creadoradeyk2(f::Function,x0)\n",
    "    yk=[]\n",
    "    xk=[]\n",
    "    hs=linspace(0.001,0.1,100)\n",
    "    g=0.0  \n",
    "    der=[]\n",
    "    d=0.0\n",
    "    vr=[]\n",
    "    for i in 1:100\n",
    "      h=hs[i]\n",
    "        h2=1/h\n",
    "        push!(vr,-0.7071067811865475)\n",
    "         g=abs(derivadanumericavsreal(f,x0,h))\n",
    "        d=derivadanumerica(f,x0,h)\n",
    "        push!(yk,g)\n",
    "         push!(der,d)\n",
    "         push!(xk,h2)\n",
    "    end\n",
    "    \n",
    "    plt.grid()\n",
    "  plt.plot(vr,color=\"red\",label=\"Valor real derivada\") \n",
    "    plt.scatter(xk,der,color = \"violet\",label = \"Derivada \")\n",
    "plt.xlabel(\"1/h\")\n",
    "    plt.title(\"Connvergencia de derivada y error\")\n",
    "    plt.scatter(xk,yk,color = \"pink\",label = \"Error\")\n",
    "    legend(bbox_to_anchor=[1.05,1],loc=2,borderaxespad=0)\n",
    "    plt.show()\n",
    "   \n",
    "end"
   ]
  },
  {
   "cell_type": "code",
   "execution_count": 12,
   "metadata": {
    "collapsed": false
   },
   "outputs": [
    {
     "data": {
      "image/png": "[encoded data removed]",
      "text/plain": [
       "PyPlot.Figure(PyObject <matplotlib.figure.Figure object at 0x7fe3e3219110>)"
      ]
     },
     "metadata": {},
     "output_type": "display_data"
    }
   ],
   "source": [
    "creadoradeyk2(x->cos(x),pi/4)"
   ]
  },
  {
   "cell_type": "markdown",
   "metadata": {},
   "source": [
    "### Ejercicio 3.\n",
    "Teniendo en mente la serie de Taylor para $f(x+h)$ ¿existe alguna forma de mejorar el cálculo de la derivada numérica? Comenta.\n",
    "Tip: ¿Que pasa con los términos pares de la serie cuando la calculamos para $f(x-h)$?, ¿Como podemos despejar la derivada exacta de $f$ combinando ambas series?\n",
    "  \n",
    "  \n",
    "  Nota: Entregar en $\\LaTeX$ en el notebook de la tarea.\n",
    "Respecto al ejercicio anterior, en clase se demostró que para mejorar la convergencia del error es conveniente usar la derivada simétrica, en clase demostramos que: $$\\frac{f(x+h)-f(x-h)}{2h}-f'(x)=\\mathcal{O}(h^2),$$ claramente el error converge mas rápido que con la derivada hacia adelante. La razón del ejercicio 2 y su equivalente para la derivada simetrizada, es ver precisamente el comportamiento del error relativo respecto a $h$.\n",
    "Pregunta: ¿Hay una forma de construir una derivada numérica aún mas exacta sin tener que hacer $h$ arbitrariamente pequeño?, ¿que opinas?\n"
   ]
  },
  {
   "cell_type": "markdown",
   "metadata": {},
   "source": [
    "### Solucion \n",
    "Si calculamos la serie de Taylor de $f(x+h)$, alrededor de $x$ \n",
    "$$f(x+h)=f{\\left (x \\right )} + h \\left. \\frac{d}{d \\xi} f{\\left (\\xi \\right )} \\right|_{\\substack{ \\xi=x }} + \\frac{h^{2}}{2} \\left. \\frac{d^{2}}{d \\xi^{2}}  f{\\left (\\xi \\right )} \\right|_{\\substack{ \\xi=x }} + \\frac{h^{3}}{6} \\left. \\frac{d^{3}}{d \\xi^{3}}  f{\\left (\\xi \\right )} \\right|_{\\substack{ \\xi=x }} + \\mathcal{O}\\left(h^{4}\\right).$$\n",
    "Si sacamos laserie de Taylor alrededor de x, si desarrollamos la serie de $f(x-h)$ alreadedor de x, tenemos\n",
    "$$f(x-h)=f{\\left (x \\right )} - h \\left. \\frac{d}{d \\xi} f{\\left (\\xi \\right )} \\right|_{\\substack{ \\xi=x }} + \\frac{h^{2}}{2} \\left. \\frac{d^{2}}{d \\xi^{2}}  f{\\left (\\xi \\right )} \\right|_{\\substack{ \\xi=x }} - \\frac{h^{3}}{6} \\left. \\frac{d^{3}}{d \\xi^{3}}  f{\\left (\\xi \\right )} \\right|_{\\substack{ \\xi=x }} + \\mathcal{O}\\left(h^{4}\\right).$$, podemos despejar f{\\left (x \\right )} de ambas ecuaciones e igualarlarlas. \n",
    "Entonces se obtiene \n",
    " $$f(x-h)-\\left (- h \\left. \\frac{d}{d \\xi} f{\\left (\\xi \\right )} \\right|_{\\substack{ \\xi=x }} + \\frac{h^{2}}{2} \\left. \\frac{d^{2}}{d \\xi^{2}}  f{\\left (\\xi \\right )} \\right|_{\\substack{ \\xi=x }} - \\frac{h^{3}}{6} \\left. \\frac{d^{3}}{d \\xi^{3}}  f{\\left (\\xi \\right )} \\right|_{\\substack{ \\xi=x }} + \\mathcal{O}\\left(h^{4}\\right)\\right)=f(x+h)-\\left (h \\left. \\frac{d}{d \\xi} f{\\left (\\xi \\right )} \\right|_{\\substack{ \\xi=x }} + \\frac{h^{2}}{2} \\left. \\frac{d^{2}}{d \\xi^{2}}  f{\\left (\\xi \\right )} \\right|_{\\substack{ \\xi=x }} + \\frac{h^{3}}{6} \\left. \\frac{d^{3}}{d \\xi^{3}}  f{\\left (\\xi \\right )} \\right|_{\\substack{ \\xi=x }} + \\mathcal{O}\\left(h^{4}\\right)\\right ).$$\n",
    " despejando  $\\left. \\frac{d}{d \\xi} f{\\left (\\xi \\right )} \\right|_{\\substack{ \\xi=x }}$,e ignorando los terminos de orden 2 o superior\n",
    " $$\\left. \\frac{d}{d \\xi} f{\\left (\\xi \\right )} \\right|_{\\substack{ \\xi=x }}=\\frac{ f(x+h)- f(x-h)}{2h} $$, "
   ]
  },
  {
   "cell_type": "markdown",
   "metadata": {},
   "source": [
    "### Ejercicio 4. \n",
    "Implementa la derivada simétrica en Julia como derivada_Simetrica y repite la comparativa que realizaste en el ejercicio 2."
   ]
  },
  {
   "cell_type": "markdown",
   "metadata": {},
   "source": [
    "### Solución \n",
    "Se crea una función que haga la dervada simetrica de acuerdo a la formula."
   ]
  },
  {
   "cell_type": "code",
   "execution_count": 13,
   "metadata": {
    "collapsed": false
   },
   "outputs": [
    {
     "data": {
      "text/plain": [
       "derivadasimetrica (generic function with 1 method)"
      ]
     },
     "execution_count": 13,
     "metadata": {},
     "output_type": "execute_result"
    }
   ],
   "source": [
    "function derivadasimetrica(f::Function,x0,h)\n",
    "    \n",
    "    df(x)=(f(x+h)-f(x-h))*(1/(2*h))\n",
    "    dfv=df(x0)\n",
    "    \n",
    "    return dfv\n",
    "end\n",
    "    "
   ]
  },
  {
   "cell_type": "code",
   "execution_count": 14,
   "metadata": {
    "collapsed": false
   },
   "outputs": [
    {
     "data": {
      "text/plain": [
       "2.000000000002"
      ]
     },
     "execution_count": 14,
     "metadata": {},
     "output_type": "execute_result"
    }
   ],
   "source": [
    "derivadasimetrica(x->x^2,1,0.000001)"
   ]
  },
  {
   "cell_type": "markdown",
   "metadata": {
    "collapsed": false
   },
   "source": [
    "Se hace la comparacion entre la derivada simétrica vs la derivada simétrica, generando una función que nos permita compararlas para obtener un error cuadrático."
   ]
  },
  {
   "cell_type": "code",
   "execution_count": 15,
   "metadata": {
    "collapsed": false
   },
   "outputs": [
    {
     "data": {
      "text/plain": [
       "derivadasimetricavsreal (generic function with 1 method)"
      ]
     },
     "execution_count": 15,
     "metadata": {},
     "output_type": "execute_result"
    }
   ],
   "source": [
    "function derivadasimetricavsreal(f::Function,x0,h)\n",
    "    df2=derivadasimetrica(f,x0,h)\n",
    "    dfr=dif(f)\n",
    "    dfj=lambdify( dfr,[x]);\n",
    "    epsilon=df2-dfj(x0)\n",
    "    return epsilon\n",
    "end\n"
   ]
  },
  {
   "cell_type": "markdown",
   "metadata": {},
   "source": [
    "Se crea una función que nos permita grafricar esta compración con respecto a $h$."
   ]
  },
  {
   "cell_type": "code",
   "execution_count": 16,
   "metadata": {
    "collapsed": false
   },
   "outputs": [
    {
     "data": {
      "text/plain": [
       "creadoradeyl (generic function with 1 method)"
      ]
     },
     "execution_count": 16,
     "metadata": {},
     "output_type": "execute_result"
    }
   ],
   "source": [
    "using SymPy\n",
    "using PyPlot\n",
    "plt = PyPlot\n",
    "\n",
    "A,x,a,n,m=symbols(\"A,x,a,n,m\")\n",
    "function creadoradeyl(f::Function,x0)\n",
    "    yk=[]\n",
    "   \n",
    "    g=0.0 \n",
    "    xk=[]\n",
    "   hs=linspace(0.1,1.0,100)\n",
    "   \n",
    "    for i in 1:100\n",
    "        h=hs[i]\n",
    "    \n",
    "         g=derivadasimetricavsreal(f,x0,h)\n",
    "        d=derivadasimetrica(f,x0,h)\n",
    "        push!(yk,g)\n",
    "        push!(xk,h)\n",
    "      \n",
    "    end\n",
    "    \n",
    "   plt.grid()\n",
    "   \n",
    "    \n",
    "plt.xlabel(\"h\")\n",
    "    plt.title(\"Error derivada simétrica\")\n",
    "    plt.scatter(xk,yk,color = \"pink\",label = \"Error \")\n",
    "    legend(bbox_to_anchor=[1.05,1],loc=2,borderaxespad=0)\n",
    "    plt.show()\n",
    "    \n",
    "end"
   ]
  },
  {
   "cell_type": "code",
   "execution_count": 17,
   "metadata": {
    "collapsed": false
   },
   "outputs": [
    {
     "data": {
      "image/png": "[encoded data removed]",
      "text/plain": [
       "PyPlot.Figure(PyObject <matplotlib.figure.Figure object at 0x7fe3e3131fd0>)"
      ]
     },
     "metadata": {},
     "output_type": "display_data"
    }
   ],
   "source": [
    "creadoradeyl(x->cos(x),pi/4)\n"
   ]
  },
  {
   "cell_type": "markdown",
   "metadata": {},
   "source": [
    "Se usa una función que nos permita ver la convergencia de la derivada y el error."
   ]
  },
  {
   "cell_type": "code",
   "execution_count": 18,
   "metadata": {
    "collapsed": false
   },
   "outputs": [
    {
     "data": {
      "text/plain": [
       "creadoradeyl2 (generic function with 1 method)"
      ]
     },
     "execution_count": 18,
     "metadata": {},
     "output_type": "execute_result"
    }
   ],
   "source": [
    "function creadoradeyl2(f::Function,x0)\n",
    "    yk=[]\n",
    "   \n",
    "    g=0.0 \n",
    "    xk=[]\n",
    "   hs=linspace(0.01,1,100)\n",
    "   der=[]\n",
    "    d=0.0\n",
    "    vr=[]\n",
    "    for i in 1:100\n",
    "        h=hs[i]\n",
    "       h2=1/h\n",
    "        push!(vr,-0.7071067811865475)\n",
    "         g=derivadasimetricavsreal(f,x0,h)\n",
    "        d=derivadasimetrica(f,x0,h)\n",
    "        push!(yk,g)\n",
    "        push!(xk,h2)\n",
    "        push!(der,d)\n",
    "    end\n",
    "   df= dif(f)(0.5)\n",
    "   plt.grid()\n",
    " \n",
    "    plt.scatter(xk,der,color = \"violet\",label = \"Derivada \")\n",
    "plt.xlabel(\"1/h\")\n",
    "      plt.plot(vr,color=\"red\",label=\"Valor real derivada\") \n",
    "    plt.title(\"Connvergencia de derivada y error\")\n",
    "    plt.scatter(xk,yk,color = \"pink\",label = \"Error\")\n",
    "    legend(bbox_to_anchor=[1.05,1],loc=2,borderaxespad=0)\n",
    "    plt.show()\n",
    "    plt.plot(df, color=\"red\")\n",
    "end"
   ]
  },
  {
   "cell_type": "code",
   "execution_count": 19,
   "metadata": {
    "collapsed": false
   },
   "outputs": [
    {
     "data": {
      "image/png": "[encoded data removed]",
      "text/plain": [
       "PyPlot.Figure(PyObject <matplotlib.figure.Figure object at 0x7fe3e303a790>)"
      ]
     },
     "metadata": {},
     "output_type": "display_data"
    },
    {
     "data": {
      "text/plain": [
       "1-element Array{Any,1}:\n",
       " PyObject <matplotlib.lines.Line2D object at 0x7fe3e31502d0>"
      ]
     },
     "execution_count": 19,
     "metadata": {},
     "output_type": "execute_result"
    }
   ],
   "source": [
    "creadoradeyl2(x->cos(x),pi/4)"
   ]
  },
  {
   "cell_type": "markdown",
   "metadata": {},
   "source": [
    "### Ejercicio 5\n",
    "Demuestre que $\\Delta_h$ es un operador lineal y que podemos \"factorizar\" la función a la derecha del operador. Hecho esto podemos quitar de ambos lados la función $f$ para obtener lo siguiente: $$\\Delta_h=\\sum_{n=1}^{\\infty} \\frac{1}{n!}h^n\\left.\\frac{d^n}{d\\xi^n}\\right|_{\\substack{ \\xi=x }}$$"
   ]
  },
  {
   "cell_type": "markdown",
   "metadata": {},
   "source": [
    "### Solución\n",
    "$\\Delta_h$ es un operador lineal.\n",
    "#### Demostración\n",
    "Sean $f(x)$, $g(x)$ funciones derivables, y $ \\gamma$ una constante, \n",
    "$$\\Delta_{h} (\\gamma f(x) +g(x)) =\\sum_{n = 1}^{\\infty} \\frac{h^n}{n!} \\frac{d^n}{dx^n} (\\gamma f(x) +g(x))$$.\n",
    "Como la derivada es un operador lineal y tambien la suma \n",
    "$$\\Delta_{h} (\\gamma f(x) +g(x)) = \\sum_{n = 1}^{\\infty} \\frac{h^n}{n!}\\left[\\gamma \\frac{d^n f(x)}{dx^n} +\\frac{d^n g(x)}{dx^n}\\right]$$\n",
    "$$\\Delta_{h} (\\gamma f(x) +g(x))= \\gamma\\sum_{n = 1}^{\\infty} \\frac{h^n}{n!}\\frac{d^n f}{dx^n} +\\sum_{n = 1}^{\\infty} \\frac{h^n}{n!} \\frac{d^n g}{dx^n}$$\n",
    "por lo tanto queda demostrada la linealidad del operador. \n",
    "#### QED\n",
    "\n",
    "Con esto podemos cancelar de ambos lados la $f(x)$\n",
    "$$\\Delta_h f(x)=\\sum_{n=1}^{\\infty} \\frac{1}{n!}h^n\\left.\\frac{d^n}{d\\xi^n}\\right|_{\\substack{ \\xi=x }} f(x) $$\n",
    "entonces \n",
    "$$\\Delta_h=\\sum_{n=1}^{\\infty} \\frac{1}{n!}h^n\\left.\\frac{d^n}{d\\xi^n}\\right|_{\\substack{ \\xi=x }}$$.\n"
   ]
  },
  {
   "cell_type": "markdown",
   "metadata": {
    "collapsed": true
   },
   "source": [
    "### Ejercicio 6\n",
    "Para saber como se relaciona el operador derivada exacta con el operador diferencia finita hacia adelante es necesario invertir la serie $\\Delta_h=\\sum_{n=1}^{\\infty} \\frac{1}{n!}h^n\\left.\\frac{d^n}{d\\xi^n}\\right|_{\\substack{ \\xi=x }}$. Una forma directa de hacerlo es identificar la función para la cual es esa serie. Entonces, pensando en el operador derivada como un número, la serie se identifica como función evaluada en $\\left. h\\frac{d}{d_\\xi}\\right|_{\\substack{ \\xi=x }}$, ¿cual es esa función?. Si llamamos $\\phi$ a dicha función, deberiamos de tener una relación de la siguiente forma: $$\\Delta_h=\\phi\\left(h\\left.\\frac{d}{d\\xi}\\right|_{\\substack{ \\xi=x }}\\right)$$."
   ]
  },
  {
   "cell_type": "markdown",
   "metadata": {
    "collapsed": true
   },
   "source": [
    "### Solución \n",
    "El operador queda definido\n",
    "$\\Delta_h=\\sum_{n=1}^{\\infty} \\frac{1}{n!}h^n\\left.\\frac{d^n}{d\\xi^n}\\right|_{\\substack{ \\xi=x }}$, se observa cierta similitud con la serie de Taylor de $e^x$ en el origen,\n",
    "$$e^x = \\sum_{n = 0}^{\\infty} \\frac{x^n}{n!}$$\n",
    "si se sustituye como argumento $h\\left.\\frac{d}{d\\xi}\\right|_{\\substack{ \\xi=x }}$, y sumando un cero se obtiene\n",
    "$$\\Delta_h=\\sum_{n=1}^{\\infty} \\frac{1}{n!}h^n\\left.\\frac{d^n}{d\\xi^n}\\right|_{\\substack{ \\xi=x }}+1-1=\\sum_{n=0}^{\\infty} \\frac{1}{n!}h^n\\left.\\frac{d^n}{d\\xi^n}\\right|_{\\substack{ \\xi=x }}-1=e^\\left(h\\left.\\frac{d}{d\\xi}\\right|_{\\substack{ \\xi=x }}\\right)-1$$\n",
    "y por lo tanto podriamos obtener el operador derivada, $\\begin{eqnarray} \\left.\\frac{d}{d\\xi}\\right|_{\\substack{ \\xi=x }}&=&\\frac{1}{h}\\log\\left(1+\\Delta_h\\right)\\ &=&\\frac{1}{h}\\left( \\Delta_h-\\frac{1}{2}\\Delta^2_h +\\dots\\right). \\end{eqnarray}$"
   ]
  },
  {
   "cell_type": "code",
   "execution_count": null,
   "metadata": {
    "collapsed": true
   },
   "outputs": [],
   "source": []
  }
 ],
 "metadata": {
  "kernelspec": {
   "display_name": "Julia 0.6.0",
   "language": "julia",
   "name": "julia-0.6"
  },
  "language_info": {
   "file_extension": ".jl",
   "mimetype": "application/julia",
   "name": "julia",
   "version": "0.6.0"
  }
 },
 "nbformat": 4,
 "nbformat_minor": 2
}
